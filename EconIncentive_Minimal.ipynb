{
 "cells": [
  {
   "cell_type": "code",
   "execution_count": 105,
   "id": "corporate-variety",
   "metadata": {},
   "outputs": [],
   "source": [
    "from fastai.text.all import *\n",
    "import pandas as pd\n",
    "cols = [\"sentiment\",\"text\"]\n",
    "df = pd.read_csv(\"data/all-data.csv\", names =cols, encoding = \"ISO-8859-1\")\n",
    "df_test = pd.read_csv(\"data/public-test-set.csv\", names = cols, encoding = \"ISO-8859-1\")"
   ]
  },
  {
   "cell_type": "code",
   "execution_count": 106,
   "id": "mathematical-study",
   "metadata": {},
   "outputs": [],
   "source": [
    "#df['is_valid'] = False\n",
    "#df_test['is_valid'] = True"
   ]
  },
  {
   "cell_type": "code",
   "execution_count": 107,
   "id": "killing-programming",
   "metadata": {},
   "outputs": [],
   "source": [
    "df_all = pd.concat([df, df_test])"
   ]
  },
  {
   "cell_type": "code",
   "execution_count": 108,
   "id": "regulation-excellence",
   "metadata": {},
   "outputs": [],
   "source": [
    "#helper functions:\n",
    "def gen_sentence(preface_text):\n",
    "    N_WORDS = 50\n",
    "    N_SENTENCES = 2\n",
    "    preds = [learn.predict(preface_text, n_words = N_WORDS, temperature=0.75) \n",
    "             for _ in range(N_SENTENCES)]\n",
    "    return(\"\\n\\n\".join(preds))"
   ]
  },
  {
   "cell_type": "code",
   "execution_count": 109,
   "id": "designing-marathon",
   "metadata": {},
   "outputs": [],
   "source": [
    "np.warnings.filterwarnings('ignore', category=np.VisibleDeprecationWarning) "
   ]
  },
  {
   "cell_type": "markdown",
   "id": "random-ottawa",
   "metadata": {},
   "source": [
    "### Preproc"
   ]
  },
  {
   "cell_type": "code",
   "execution_count": 110,
   "id": "alpine-palestine",
   "metadata": {},
   "outputs": [
    {
     "name": "stderr",
     "output_type": "stream",
     "text": [
      "<ipython-input-110-084cba0ef93e>:3: FutureWarning: The default value of regex will change from True to False in a future version.\n",
      "  in_df['text'] = in_df['text'].str.replace(r'\\w*\\d\\w*', '')\n",
      "<ipython-input-110-084cba0ef93e>:5: FutureWarning: The default value of regex will change from True to False in a future version.\n",
      "  in_df['text'] = in_df['text'].str.replace(r'\\w*[\\$\\#\\&\\@\\~\\*\\%\\;\\/]\\w*', '')\n"
     ]
    }
   ],
   "source": [
    "def clean_text(in_df):\n",
    "    #Remove words which have numbers in them\n",
    "    in_df['text'] = in_df['text'].str.replace(r'\\w*\\d\\w*', '')\n",
    "    #Remove words which have special characters, except newline, space\n",
    "    in_df['text'] = in_df['text'].str.replace(r'\\w*[\\$\\#\\&\\@\\~\\*\\%\\;\\/]\\w*', '')\n",
    "clean_text(df_test)\n",
    "clean_text(df)\n",
    "clean_text(df_all)"
   ]
  },
  {
   "cell_type": "markdown",
   "id": "independent-gather",
   "metadata": {},
   "source": [
    "### Language Model"
   ]
  },
  {
   "cell_type": "code",
   "execution_count": 111,
   "id": "adequate-cleanup",
   "metadata": {},
   "outputs": [
    {
     "data": {
      "text/html": [],
      "text/plain": [
       "<IPython.core.display.HTML object>"
      ]
     },
     "metadata": {},
     "output_type": "display_data"
    }
   ],
   "source": [
    "dls_lm = TextDataLoaders.from_df(df_all, is_lm=True, valid_pct=0.1, text_col='text')"
   ]
  },
  {
   "cell_type": "code",
   "execution_count": 112,
   "id": "departmental-optics",
   "metadata": {},
   "outputs": [],
   "source": [
    "learn = language_model_learner(dls_lm, AWD_LSTM, pretrained = True, metrics=[accuracy, Perplexity()], wd=0.1).to_fp16()"
   ]
  },
  {
   "cell_type": "code",
   "execution_count": 113,
   "id": "persistent-server",
   "metadata": {},
   "outputs": [
    {
     "data": {
      "text/html": [
       "<table border=\"1\" class=\"dataframe\">\n",
       "  <thead>\n",
       "    <tr style=\"text-align: left;\">\n",
       "      <th>epoch</th>\n",
       "      <th>train_loss</th>\n",
       "      <th>valid_loss</th>\n",
       "      <th>accuracy</th>\n",
       "      <th>perplexity</th>\n",
       "      <th>time</th>\n",
       "    </tr>\n",
       "  </thead>\n",
       "  <tbody>\n",
       "    <tr>\n",
       "      <td>0</td>\n",
       "      <td>4.847848</td>\n",
       "      <td>4.274235</td>\n",
       "      <td>0.260388</td>\n",
       "      <td>71.825157</td>\n",
       "      <td>00:10</td>\n",
       "    </tr>\n",
       "  </tbody>\n",
       "</table>"
      ],
      "text/plain": [
       "<IPython.core.display.HTML object>"
      ]
     },
     "metadata": {},
     "output_type": "display_data"
    }
   ],
   "source": [
    "learn.fit_one_cycle(1, 1e-2)"
   ]
  },
  {
   "cell_type": "code",
   "execution_count": 114,
   "id": "decimal-patrol",
   "metadata": {},
   "outputs": [
    {
     "data": {
      "text/html": [
       "<table border=\"1\" class=\"dataframe\">\n",
       "  <thead>\n",
       "    <tr style=\"text-align: left;\">\n",
       "      <th>epoch</th>\n",
       "      <th>train_loss</th>\n",
       "      <th>valid_loss</th>\n",
       "      <th>accuracy</th>\n",
       "      <th>perplexity</th>\n",
       "      <th>time</th>\n",
       "    </tr>\n",
       "  </thead>\n",
       "  <tbody>\n",
       "    <tr>\n",
       "      <td>0</td>\n",
       "      <td>4.330446</td>\n",
       "      <td>4.044360</td>\n",
       "      <td>0.295124</td>\n",
       "      <td>57.074631</td>\n",
       "      <td>00:11</td>\n",
       "    </tr>\n",
       "    <tr>\n",
       "      <td>1</td>\n",
       "      <td>4.157130</td>\n",
       "      <td>3.863593</td>\n",
       "      <td>0.315045</td>\n",
       "      <td>47.636208</td>\n",
       "      <td>00:12</td>\n",
       "    </tr>\n",
       "    <tr>\n",
       "      <td>2</td>\n",
       "      <td>3.962933</td>\n",
       "      <td>3.725284</td>\n",
       "      <td>0.332908</td>\n",
       "      <td>41.482998</td>\n",
       "      <td>00:11</td>\n",
       "    </tr>\n",
       "    <tr>\n",
       "      <td>3</td>\n",
       "      <td>3.770998</td>\n",
       "      <td>3.656935</td>\n",
       "      <td>0.341740</td>\n",
       "      <td>38.742405</td>\n",
       "      <td>00:12</td>\n",
       "    </tr>\n",
       "    <tr>\n",
       "      <td>4</td>\n",
       "      <td>3.604469</td>\n",
       "      <td>3.594521</td>\n",
       "      <td>0.351617</td>\n",
       "      <td>36.398254</td>\n",
       "      <td>00:12</td>\n",
       "    </tr>\n",
       "    <tr>\n",
       "      <td>5</td>\n",
       "      <td>3.469060</td>\n",
       "      <td>3.554686</td>\n",
       "      <td>0.357980</td>\n",
       "      <td>34.976830</td>\n",
       "      <td>00:11</td>\n",
       "    </tr>\n",
       "    <tr>\n",
       "      <td>6</td>\n",
       "      <td>3.343917</td>\n",
       "      <td>3.539632</td>\n",
       "      <td>0.361153</td>\n",
       "      <td>34.454239</td>\n",
       "      <td>00:11</td>\n",
       "    </tr>\n",
       "    <tr>\n",
       "      <td>7</td>\n",
       "      <td>3.246264</td>\n",
       "      <td>3.527908</td>\n",
       "      <td>0.364343</td>\n",
       "      <td>34.052666</td>\n",
       "      <td>00:12</td>\n",
       "    </tr>\n",
       "    <tr>\n",
       "      <td>8</td>\n",
       "      <td>3.197557</td>\n",
       "      <td>3.527126</td>\n",
       "      <td>0.364745</td>\n",
       "      <td>34.026039</td>\n",
       "      <td>00:11</td>\n",
       "    </tr>\n",
       "    <tr>\n",
       "      <td>9</td>\n",
       "      <td>3.152673</td>\n",
       "      <td>3.526618</td>\n",
       "      <td>0.364569</td>\n",
       "      <td>34.008747</td>\n",
       "      <td>00:11</td>\n",
       "    </tr>\n",
       "  </tbody>\n",
       "</table>"
      ],
      "text/plain": [
       "<IPython.core.display.HTML object>"
      ]
     },
     "metadata": {},
     "output_type": "display_data"
    }
   ],
   "source": [
    "learn.unfreeze()\n",
    "learn.fit_one_cycle(10, 1e-3)"
   ]
  },
  {
   "cell_type": "code",
   "execution_count": 115,
   "id": "experienced-recording",
   "metadata": {},
   "outputs": [],
   "source": [
    "learn.save_encoder('min_finetuned')"
   ]
  },
  {
   "cell_type": "code",
   "execution_count": 116,
   "id": "acknowledged-canal",
   "metadata": {},
   "outputs": [
    {
     "data": {
      "text/html": [],
      "text/plain": [
       "<IPython.core.display.HTML object>"
      ]
     },
     "metadata": {},
     "output_type": "display_data"
    },
    {
     "data": {
      "text/html": [],
      "text/plain": [
       "<IPython.core.display.HTML object>"
      ]
     },
     "metadata": {},
     "output_type": "display_data"
    },
    {
     "name": "stdout",
     "output_type": "stream",
     "text": [
      "The sales were about EUR , . mn , a rise of EUR . mn from EUR . mn in through The transaction will bring the company 's total capital and life insurance business to St . Petersburg , Russia and St Petersburg\n",
      "\n",
      "The sales were expected to be in and in the next few years . The company 's net sales in were EUR . million and it had net sales of million euros . The Dutch Royal Office of Public Sector said on\n"
     ]
    }
   ],
   "source": [
    "print(gen_sentence(\"The sales were\"))"
   ]
  },
  {
   "cell_type": "markdown",
   "id": "dutch-sugar",
   "metadata": {},
   "source": [
    "### Classifier"
   ]
  },
  {
   "cell_type": "code",
   "execution_count": 117,
   "id": "recreational-seven",
   "metadata": {},
   "outputs": [
    {
     "data": {
      "text/html": [],
      "text/plain": [
       "<IPython.core.display.HTML object>"
      ]
     },
     "metadata": {},
     "output_type": "display_data"
    }
   ],
   "source": [
    "dls_clas = TextDataLoaders.from_df(df, valid_pct=0.4, text_col='text', label_col=\"sentiment\", text_vocab=dls_lm.vocab)\n",
    "learn = text_classifier_learner(dls_clas, AWD_LSTM, drop_mult=0.5, metrics=accuracy)\n",
    "learn = learn.load_encoder('min_finetuned')"
   ]
  },
  {
   "cell_type": "code",
   "execution_count": 118,
   "id": "durable-victor",
   "metadata": {},
   "outputs": [
    {
     "data": {
      "text/html": [
       "<table border=\"1\" class=\"dataframe\">\n",
       "  <thead>\n",
       "    <tr style=\"text-align: left;\">\n",
       "      <th>epoch</th>\n",
       "      <th>train_loss</th>\n",
       "      <th>valid_loss</th>\n",
       "      <th>accuracy</th>\n",
       "      <th>time</th>\n",
       "    </tr>\n",
       "  </thead>\n",
       "  <tbody>\n",
       "    <tr>\n",
       "      <td>0</td>\n",
       "      <td>0.889619</td>\n",
       "      <td>0.802976</td>\n",
       "      <td>0.613551</td>\n",
       "      <td>00:05</td>\n",
       "    </tr>\n",
       "  </tbody>\n",
       "</table>"
      ],
      "text/plain": [
       "<IPython.core.display.HTML object>"
      ]
     },
     "metadata": {},
     "output_type": "display_data"
    }
   ],
   "source": [
    "learn.fit_one_cycle(1, 2e-2)"
   ]
  },
  {
   "cell_type": "code",
   "execution_count": 119,
   "id": "italic-technician",
   "metadata": {},
   "outputs": [
    {
     "data": {
      "text/html": [
       "<table border=\"1\" class=\"dataframe\">\n",
       "  <thead>\n",
       "    <tr style=\"text-align: left;\">\n",
       "      <th>epoch</th>\n",
       "      <th>train_loss</th>\n",
       "      <th>valid_loss</th>\n",
       "      <th>accuracy</th>\n",
       "      <th>time</th>\n",
       "    </tr>\n",
       "  </thead>\n",
       "  <tbody>\n",
       "    <tr>\n",
       "      <td>0</td>\n",
       "      <td>0.828816</td>\n",
       "      <td>0.733081</td>\n",
       "      <td>0.655458</td>\n",
       "      <td>00:05</td>\n",
       "    </tr>\n",
       "  </tbody>\n",
       "</table>"
      ],
      "text/plain": [
       "<IPython.core.display.HTML object>"
      ]
     },
     "metadata": {},
     "output_type": "display_data"
    }
   ],
   "source": [
    "learn.freeze_to(-2)\n",
    "learn.fit_one_cycle(1, slice(1e-2/(2.6**4),1e-2))"
   ]
  },
  {
   "cell_type": "code",
   "execution_count": 120,
   "id": "realistic-trace",
   "metadata": {},
   "outputs": [
    {
     "data": {
      "text/html": [
       "<table border=\"1\" class=\"dataframe\">\n",
       "  <thead>\n",
       "    <tr style=\"text-align: left;\">\n",
       "      <th>epoch</th>\n",
       "      <th>train_loss</th>\n",
       "      <th>valid_loss</th>\n",
       "      <th>accuracy</th>\n",
       "      <th>time</th>\n",
       "    </tr>\n",
       "  </thead>\n",
       "  <tbody>\n",
       "    <tr>\n",
       "      <td>0</td>\n",
       "      <td>0.741456</td>\n",
       "      <td>0.679534</td>\n",
       "      <td>0.700125</td>\n",
       "      <td>00:06</td>\n",
       "    </tr>\n",
       "  </tbody>\n",
       "</table>"
      ],
      "text/plain": [
       "<IPython.core.display.HTML object>"
      ]
     },
     "metadata": {},
     "output_type": "display_data"
    }
   ],
   "source": [
    "learn.freeze_to(-3)\n",
    "learn.fit_one_cycle(1, slice(5e-3/(2.6**4),5e-3))"
   ]
  },
  {
   "cell_type": "code",
   "execution_count": 121,
   "id": "swiss-mustang",
   "metadata": {},
   "outputs": [
    {
     "data": {
      "text/html": [
       "<table border=\"1\" class=\"dataframe\">\n",
       "  <thead>\n",
       "    <tr style=\"text-align: left;\">\n",
       "      <th>epoch</th>\n",
       "      <th>train_loss</th>\n",
       "      <th>valid_loss</th>\n",
       "      <th>accuracy</th>\n",
       "      <th>time</th>\n",
       "    </tr>\n",
       "  </thead>\n",
       "  <tbody>\n",
       "    <tr>\n",
       "      <td>0</td>\n",
       "      <td>0.608840</td>\n",
       "      <td>0.664196</td>\n",
       "      <td>0.702886</td>\n",
       "      <td>00:07</td>\n",
       "    </tr>\n",
       "    <tr>\n",
       "      <td>1</td>\n",
       "      <td>0.558902</td>\n",
       "      <td>0.653208</td>\n",
       "      <td>0.712673</td>\n",
       "      <td>00:07</td>\n",
       "    </tr>\n",
       "  </tbody>\n",
       "</table>"
      ],
      "text/plain": [
       "<IPython.core.display.HTML object>"
      ]
     },
     "metadata": {},
     "output_type": "display_data"
    }
   ],
   "source": [
    "learn.unfreeze()\n",
    "learn.fit_one_cycle(2, slice(1e-3/(2.6**4),1e-3))"
   ]
  },
  {
   "cell_type": "code",
   "execution_count": 122,
   "id": "starting-thanks",
   "metadata": {},
   "outputs": [],
   "source": [
    "learn.save_encoder('min_finished')"
   ]
  },
  {
   "cell_type": "markdown",
   "id": "biblical-citizenship",
   "metadata": {},
   "source": [
    "### See results"
   ]
  },
  {
   "cell_type": "code",
   "execution_count": 123,
   "id": "fitted-multimedia",
   "metadata": {},
   "outputs": [
    {
     "data": {
      "text/html": [],
      "text/plain": [
       "<IPython.core.display.HTML object>"
      ]
     },
     "metadata": {},
     "output_type": "display_data"
    },
    {
     "name": "stdout",
     "output_type": "stream",
     "text": [
      "Test Set Accuracy:  0.7126725316047668\n"
     ]
    }
   ],
   "source": [
    "print(\"Test Set Accuracy: \",learn.validate()[1]) #0.712"
   ]
  },
  {
   "cell_type": "markdown",
   "id": "distinct-hammer",
   "metadata": {},
   "source": [
    "#### Train set"
   ]
  },
  {
   "cell_type": "code",
   "execution_count": 124,
   "id": "major-operation",
   "metadata": {},
   "outputs": [
    {
     "data": {
      "text/html": [],
      "text/plain": [
       "<IPython.core.display.HTML object>"
      ]
     },
     "metadata": {},
     "output_type": "display_data"
    },
    {
     "data": {
      "image/png": "[encoded data removed]",
      "text/plain": [
       "<Figure size 504x504 with 1 Axes>"
      ]
     },
     "metadata": {
      "needs_background": "light"
     },
     "output_type": "display_data"
    }
   ],
   "source": [
    "interp = ClassificationInterpretation.from_learner(learn)\n",
    "losses, idxs = interp.top_losses()\n",
    "len(dls_clas.valid_ds)==len(losses)==len(idxs)\n",
    "interp.plot_confusion_matrix(figsize=(7,7))"
   ]
  },
  {
   "cell_type": "markdown",
   "id": "champion-interval",
   "metadata": {},
   "source": [
    "#### Test set"
   ]
  },
  {
   "cell_type": "code",
   "execution_count": 125,
   "id": "complex-actress",
   "metadata": {},
   "outputs": [
    {
     "data": {
      "text/html": [],
      "text/plain": [
       "<IPython.core.display.HTML object>"
      ]
     },
     "metadata": {},
     "output_type": "display_data"
    }
   ],
   "source": [
    "#data_test = TextDataLoaders.from_df(df_test, text_col='text', label_col=\"sentiment\", text_vocab=dls_lm.vocab)\n",
    "test_dl = learn.dls.test_dl(df_test)\n",
    "preds, y = learn.get_preds()"
   ]
  },
  {
   "cell_type": "code",
   "execution_count": 126,
   "id": "labeled-depression",
   "metadata": {},
   "outputs": [
    {
     "data": {
      "text/html": [],
      "text/plain": [
       "<IPython.core.display.HTML object>"
      ]
     },
     "metadata": {},
     "output_type": "display_data"
    }
   ],
   "source": [
    "dl_test = learn.dls.test_dl(df_test, with_labels=True, drop_last=False)\n",
    "preds = learn.get_preds(dl=dl_test, with_decoded=True)\n",
    "predictions = preds[2]\n",
    "targets = preds[1]"
   ]
  },
  {
   "cell_type": "code",
   "execution_count": 127,
   "id": "charged-calculation",
   "metadata": {},
   "outputs": [],
   "source": [
    "#print(preds[2].shape)\n",
    "#print(preds[1].shape)"
   ]
  },
  {
   "cell_type": "code",
   "execution_count": 128,
   "id": "promotional-flush",
   "metadata": {},
   "outputs": [],
   "source": [
    "def my_accuracy(y_pred, y_true):\n",
    "    equ = [1 if i == t else 0 for i, t in zip(y_pred, y_true)]\n",
    "    return np.mean(equ)"
   ]
  },
  {
   "cell_type": "code",
   "execution_count": 129,
   "id": "anonymous-torture",
   "metadata": {},
   "outputs": [
    {
     "name": "stdout",
     "output_type": "stream",
     "text": [
      "Test Set Accuracy:  0.7231340367330988\n"
     ]
    }
   ],
   "source": [
    "acc = my_accuracy(predictions, targets)\n",
    "print(\"Test Set Accuracy: \",acc) #0.723"
   ]
  },
  {
   "cell_type": "code",
   "execution_count": 130,
   "id": "indian-bumper",
   "metadata": {},
   "outputs": [
    {
     "data": {
      "text/plain": [
       "array([[ 620,  243,  266],\n",
       "       [ 171, 1178,  383],\n",
       "       [ 111,  243, 1903]])"
      ]
     },
     "execution_count": 130,
     "metadata": {},
     "output_type": "execute_result"
    }
   ],
   "source": [
    "from sklearn.metrics import confusion_matrix\n",
    "confusion_matrix(targets, predictions)"
   ]
  },
  {
   "cell_type": "code",
   "execution_count": 131,
   "id": "connected-jungle",
   "metadata": {},
   "outputs": [],
   "source": [
    "#df_test.text"
   ]
  },
  {
   "cell_type": "code",
   "execution_count": 132,
   "id": "bound-saskatchewan",
   "metadata": {},
   "outputs": [],
   "source": [
    "#Tried cleaning up data: via function clean_text, didn't improve a thing :("
   ]
  },
  {
   "cell_type": "code",
   "execution_count": 133,
   "id": "romance-yemen",
   "metadata": {},
   "outputs": [],
   "source": [
    "#>>Done>> #Try other model instead of AWD_LSTM > AWD_QRNN. Didnt work. Pytorch error, too complicated fix.: https://forums.fast.ai/t/cant-import-qrnn-or-qrnnlayer/45072/7\n",
    "#>>Done>> #Try make test set as validation set in classifier.\n",
    "#See test accuracy change, after proper acc calc now, afte rreverting previous step\n",
    "#check the other dataset for LM, not Reuters titles but perhaps better data for LM there"
   ]
  }
 ],
 "metadata": {
  "kernelspec": {
   "display_name": "Python 3",
   "language": "python",
   "name": "python3"
  },
  "language_info": {
   "codemirror_mode": {
    "name": "ipython",
    "version": 3
   },
   "file_extension": ".py",
   "mimetype": "text/x-python",
   "name": "python",
   "nbconvert_exporter": "python",
   "pygments_lexer": "ipython3",
   "version": "3.8.7"
  }
 },
 "nbformat": 4,
 "nbformat_minor": 5
}
