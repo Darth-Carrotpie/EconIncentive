{
 "cells": [
  {
   "cell_type": "code",
   "execution_count": 134,
   "id": "corporate-variety",
   "metadata": {},
   "outputs": [],
   "source": [
    "from fastai.text.all import *\n",
    "import pandas as pd\n",
    "cols = [\"sentiment\",\"text\"]\n",
    "df = pd.read_csv(\"data/all-data.csv\", names =cols, encoding = \"ISO-8859-1\")\n",
    "df_test = pd.read_csv(\"data/public-test-set.csv\", names = cols, encoding = \"ISO-8859-1\")"
   ]
  },
  {
   "cell_type": "code",
   "execution_count": 135,
   "id": "chicken-explosion",
   "metadata": {},
   "outputs": [],
   "source": [
    "df['is_valid'] = False\n",
    "df_test['is_valid'] = True"
   ]
  },
  {
   "cell_type": "code",
   "execution_count": 136,
   "id": "environmental-immune",
   "metadata": {},
   "outputs": [],
   "source": [
    "df_all = pd.concat([df, df_test])"
   ]
  },
  {
   "cell_type": "code",
   "execution_count": 137,
   "id": "regulation-excellence",
   "metadata": {},
   "outputs": [],
   "source": [
    "#helper functions:\n",
    "def gen_sentence(preface_text):\n",
    "    N_WORDS = 50\n",
    "    N_SENTENCES = 2\n",
    "    preds = [learn.predict(preface_text, n_words = N_WORDS, temperature=0.75) \n",
    "             for _ in range(N_SENTENCES)]\n",
    "    return(\"\\n\\n\".join(preds))"
   ]
  },
  {
   "cell_type": "code",
   "execution_count": 138,
   "id": "dense-scheme",
   "metadata": {},
   "outputs": [],
   "source": [
    "np.warnings.filterwarnings('ignore', category=np.VisibleDeprecationWarning) "
   ]
  },
  {
   "cell_type": "markdown",
   "id": "random-ottawa",
   "metadata": {},
   "source": [
    "### Preproc"
   ]
  },
  {
   "cell_type": "code",
   "execution_count": 139,
   "id": "alpine-palestine",
   "metadata": {},
   "outputs": [
    {
     "name": "stderr",
     "output_type": "stream",
     "text": [
      "<ipython-input-139-084cba0ef93e>:3: FutureWarning: The default value of regex will change from True to False in a future version.\n",
      "  in_df['text'] = in_df['text'].str.replace(r'\\w*\\d\\w*', '')\n",
      "<ipython-input-139-084cba0ef93e>:5: FutureWarning: The default value of regex will change from True to False in a future version.\n",
      "  in_df['text'] = in_df['text'].str.replace(r'\\w*[\\$\\#\\&\\@\\~\\*\\%\\;\\/]\\w*', '')\n"
     ]
    }
   ],
   "source": [
    "def clean_text(in_df):\n",
    "    #Remove words which have numbers in them\n",
    "    in_df['text'] = in_df['text'].str.replace(r'\\w*\\d\\w*', '')\n",
    "    #Remove words which have special characters, except newline, space\n",
    "    in_df['text'] = in_df['text'].str.replace(r'\\w*[\\$\\#\\&\\@\\~\\*\\%\\;\\/]\\w*', '')\n",
    "clean_text(df_test)\n",
    "clean_text(df)\n",
    "clean_text(df_all)"
   ]
  },
  {
   "cell_type": "markdown",
   "id": "independent-gather",
   "metadata": {},
   "source": [
    "### Language Model"
   ]
  },
  {
   "cell_type": "code",
   "execution_count": 140,
   "id": "adequate-cleanup",
   "metadata": {},
   "outputs": [
    {
     "data": {
      "text/html": [],
      "text/plain": [
       "<IPython.core.display.HTML object>"
      ]
     },
     "metadata": {},
     "output_type": "display_data"
    }
   ],
   "source": [
    "dls_lm = TextDataLoaders.from_df(df_all, is_lm=True, valid_pct=0.1, text_col='text')"
   ]
  },
  {
   "cell_type": "code",
   "execution_count": 141,
   "id": "departmental-optics",
   "metadata": {},
   "outputs": [],
   "source": [
    "learn = language_model_learner(dls_lm, AWD_LSTM, pretrained = True, metrics=[accuracy, Perplexity()], wd=0.1).to_fp16()"
   ]
  },
  {
   "cell_type": "code",
   "execution_count": 142,
   "id": "persistent-server",
   "metadata": {},
   "outputs": [
    {
     "data": {
      "text/html": [
       "<table border=\"1\" class=\"dataframe\">\n",
       "  <thead>\n",
       "    <tr style=\"text-align: left;\">\n",
       "      <th>epoch</th>\n",
       "      <th>train_loss</th>\n",
       "      <th>valid_loss</th>\n",
       "      <th>accuracy</th>\n",
       "      <th>perplexity</th>\n",
       "      <th>time</th>\n",
       "    </tr>\n",
       "  </thead>\n",
       "  <tbody>\n",
       "    <tr>\n",
       "      <td>0</td>\n",
       "      <td>4.867693</td>\n",
       "      <td>4.275427</td>\n",
       "      <td>0.261672</td>\n",
       "      <td>71.910866</td>\n",
       "      <td>00:10</td>\n",
       "    </tr>\n",
       "  </tbody>\n",
       "</table>"
      ],
      "text/plain": [
       "<IPython.core.display.HTML object>"
      ]
     },
     "metadata": {},
     "output_type": "display_data"
    }
   ],
   "source": [
    "learn.fit_one_cycle(1, 1e-2)"
   ]
  },
  {
   "cell_type": "code",
   "execution_count": 143,
   "id": "decimal-patrol",
   "metadata": {},
   "outputs": [
    {
     "data": {
      "text/html": [
       "<table border=\"1\" class=\"dataframe\">\n",
       "  <thead>\n",
       "    <tr style=\"text-align: left;\">\n",
       "      <th>epoch</th>\n",
       "      <th>train_loss</th>\n",
       "      <th>valid_loss</th>\n",
       "      <th>accuracy</th>\n",
       "      <th>perplexity</th>\n",
       "      <th>time</th>\n",
       "    </tr>\n",
       "  </thead>\n",
       "  <tbody>\n",
       "    <tr>\n",
       "      <td>0</td>\n",
       "      <td>4.337893</td>\n",
       "      <td>4.049200</td>\n",
       "      <td>0.295636</td>\n",
       "      <td>57.351562</td>\n",
       "      <td>00:12</td>\n",
       "    </tr>\n",
       "    <tr>\n",
       "      <td>1</td>\n",
       "      <td>4.158914</td>\n",
       "      <td>3.858194</td>\n",
       "      <td>0.319468</td>\n",
       "      <td>47.379688</td>\n",
       "      <td>00:12</td>\n",
       "    </tr>\n",
       "    <tr>\n",
       "      <td>2</td>\n",
       "      <td>3.971775</td>\n",
       "      <td>3.726187</td>\n",
       "      <td>0.332508</td>\n",
       "      <td>41.520489</td>\n",
       "      <td>00:12</td>\n",
       "    </tr>\n",
       "    <tr>\n",
       "      <td>3</td>\n",
       "      <td>3.784367</td>\n",
       "      <td>3.639261</td>\n",
       "      <td>0.348622</td>\n",
       "      <td>38.063717</td>\n",
       "      <td>00:12</td>\n",
       "    </tr>\n",
       "    <tr>\n",
       "      <td>4</td>\n",
       "      <td>3.631819</td>\n",
       "      <td>3.567820</td>\n",
       "      <td>0.359325</td>\n",
       "      <td>35.439262</td>\n",
       "      <td>00:12</td>\n",
       "    </tr>\n",
       "    <tr>\n",
       "      <td>5</td>\n",
       "      <td>3.478741</td>\n",
       "      <td>3.523897</td>\n",
       "      <td>0.364152</td>\n",
       "      <td>33.916359</td>\n",
       "      <td>00:12</td>\n",
       "    </tr>\n",
       "    <tr>\n",
       "      <td>6</td>\n",
       "      <td>3.365129</td>\n",
       "      <td>3.507277</td>\n",
       "      <td>0.367588</td>\n",
       "      <td>33.357296</td>\n",
       "      <td>00:12</td>\n",
       "    </tr>\n",
       "    <tr>\n",
       "      <td>7</td>\n",
       "      <td>3.271590</td>\n",
       "      <td>3.494213</td>\n",
       "      <td>0.370086</td>\n",
       "      <td>32.924377</td>\n",
       "      <td>00:12</td>\n",
       "    </tr>\n",
       "    <tr>\n",
       "      <td>8</td>\n",
       "      <td>3.207872</td>\n",
       "      <td>3.496443</td>\n",
       "      <td>0.371886</td>\n",
       "      <td>32.997856</td>\n",
       "      <td>00:12</td>\n",
       "    </tr>\n",
       "    <tr>\n",
       "      <td>9</td>\n",
       "      <td>3.162465</td>\n",
       "      <td>3.495363</td>\n",
       "      <td>0.371529</td>\n",
       "      <td>32.962234</td>\n",
       "      <td>00:12</td>\n",
       "    </tr>\n",
       "  </tbody>\n",
       "</table>"
      ],
      "text/plain": [
       "<IPython.core.display.HTML object>"
      ]
     },
     "metadata": {},
     "output_type": "display_data"
    }
   ],
   "source": [
    "learn.unfreeze()\n",
    "learn.fit_one_cycle(10, 1e-3)"
   ]
  },
  {
   "cell_type": "code",
   "execution_count": 144,
   "id": "experienced-recording",
   "metadata": {},
   "outputs": [],
   "source": [
    "learn.save_encoder('min_finetuned')"
   ]
  },
  {
   "cell_type": "code",
   "execution_count": 145,
   "id": "acknowledged-canal",
   "metadata": {},
   "outputs": [
    {
     "data": {
      "text/html": [],
      "text/plain": [
       "<IPython.core.display.HTML object>"
      ]
     },
     "metadata": {},
     "output_type": "display_data"
    },
    {
     "data": {
      "text/html": [],
      "text/plain": [
       "<IPython.core.display.HTML object>"
      ]
     },
     "metadata": {},
     "output_type": "display_data"
    },
    {
     "name": "stdout",
     "output_type": "stream",
     "text": [
      "The sales were about EUR million EUR . million . The Baltic business has also been forced to sell its remaining shares and to sell off its shares . Nokia said the iphone was available to retailers in India and Malaysia in India\n",
      "\n",
      "The sales were expected to increase from the corresponding period in . The company has a total of , employees in regions , including Finland , the Baltic countries , Estonia , Latvia , Lithuania , Lithuania , Poland , Lithuania ,\n"
     ]
    }
   ],
   "source": [
    "print(gen_sentence(\"The sales were\"))"
   ]
  },
  {
   "cell_type": "markdown",
   "id": "dutch-sugar",
   "metadata": {},
   "source": [
    "### Classifier"
   ]
  },
  {
   "cell_type": "code",
   "execution_count": 146,
   "id": "recreational-seven",
   "metadata": {},
   "outputs": [
    {
     "data": {
      "text/html": [],
      "text/plain": [
       "<IPython.core.display.HTML object>"
      ]
     },
     "metadata": {},
     "output_type": "display_data"
    }
   ],
   "source": [
    "dls_clas = TextDataLoaders.from_df(df_all, valid_pct=0.4, text_col='text', label_col=\"sentiment\", text_vocab=dls_lm.vocab)\n",
    "learn = text_classifier_learner(dls_clas, AWD_LSTM, drop_mult=0.5, metrics=accuracy)\n",
    "learn = learn.load_encoder('min_finetuned')"
   ]
  },
  {
   "cell_type": "code",
   "execution_count": 147,
   "id": "durable-victor",
   "metadata": {},
   "outputs": [
    {
     "data": {
      "text/html": [
       "<table border=\"1\" class=\"dataframe\">\n",
       "  <thead>\n",
       "    <tr style=\"text-align: left;\">\n",
       "      <th>epoch</th>\n",
       "      <th>train_loss</th>\n",
       "      <th>valid_loss</th>\n",
       "      <th>accuracy</th>\n",
       "      <th>time</th>\n",
       "    </tr>\n",
       "  </thead>\n",
       "  <tbody>\n",
       "    <tr>\n",
       "      <td>0</td>\n",
       "      <td>0.788039</td>\n",
       "      <td>0.628023</td>\n",
       "      <td>0.735294</td>\n",
       "      <td>00:02</td>\n",
       "    </tr>\n",
       "  </tbody>\n",
       "</table>"
      ],
      "text/plain": [
       "<IPython.core.display.HTML object>"
      ]
     },
     "metadata": {},
     "output_type": "display_data"
    }
   ],
   "source": [
    "learn.fit_one_cycle(1, 2e-2)"
   ]
  },
  {
   "cell_type": "code",
   "execution_count": 148,
   "id": "italic-technician",
   "metadata": {},
   "outputs": [
    {
     "data": {
      "text/html": [
       "<table border=\"1\" class=\"dataframe\">\n",
       "  <thead>\n",
       "    <tr style=\"text-align: left;\">\n",
       "      <th>epoch</th>\n",
       "      <th>train_loss</th>\n",
       "      <th>valid_loss</th>\n",
       "      <th>accuracy</th>\n",
       "      <th>time</th>\n",
       "    </tr>\n",
       "  </thead>\n",
       "  <tbody>\n",
       "    <tr>\n",
       "      <td>0</td>\n",
       "      <td>0.686625</td>\n",
       "      <td>0.577733</td>\n",
       "      <td>0.747678</td>\n",
       "      <td>00:02</td>\n",
       "    </tr>\n",
       "  </tbody>\n",
       "</table>"
      ],
      "text/plain": [
       "<IPython.core.display.HTML object>"
      ]
     },
     "metadata": {},
     "output_type": "display_data"
    }
   ],
   "source": [
    "learn.freeze_to(-2)\n",
    "learn.fit_one_cycle(1, slice(1e-2/(2.6**4),1e-2))"
   ]
  },
  {
   "cell_type": "code",
   "execution_count": 149,
   "id": "realistic-trace",
   "metadata": {},
   "outputs": [
    {
     "data": {
      "text/html": [
       "<table border=\"1\" class=\"dataframe\">\n",
       "  <thead>\n",
       "    <tr style=\"text-align: left;\">\n",
       "      <th>epoch</th>\n",
       "      <th>train_loss</th>\n",
       "      <th>valid_loss</th>\n",
       "      <th>accuracy</th>\n",
       "      <th>time</th>\n",
       "    </tr>\n",
       "  </thead>\n",
       "  <tbody>\n",
       "    <tr>\n",
       "      <td>0</td>\n",
       "      <td>0.565042</td>\n",
       "      <td>0.512538</td>\n",
       "      <td>0.781218</td>\n",
       "      <td>00:03</td>\n",
       "    </tr>\n",
       "  </tbody>\n",
       "</table>"
      ],
      "text/plain": [
       "<IPython.core.display.HTML object>"
      ]
     },
     "metadata": {},
     "output_type": "display_data"
    }
   ],
   "source": [
    "learn.freeze_to(-3)\n",
    "learn.fit_one_cycle(1, slice(5e-3/(2.6**4),5e-3))"
   ]
  },
  {
   "cell_type": "code",
   "execution_count": 150,
   "id": "swiss-mustang",
   "metadata": {},
   "outputs": [
    {
     "data": {
      "text/html": [
       "<table border=\"1\" class=\"dataframe\">\n",
       "  <thead>\n",
       "    <tr style=\"text-align: left;\">\n",
       "      <th>epoch</th>\n",
       "      <th>train_loss</th>\n",
       "      <th>valid_loss</th>\n",
       "      <th>accuracy</th>\n",
       "      <th>time</th>\n",
       "    </tr>\n",
       "  </thead>\n",
       "  <tbody>\n",
       "    <tr>\n",
       "      <td>0</td>\n",
       "      <td>0.434620</td>\n",
       "      <td>0.484949</td>\n",
       "      <td>0.793602</td>\n",
       "      <td>00:03</td>\n",
       "    </tr>\n",
       "    <tr>\n",
       "      <td>1</td>\n",
       "      <td>0.400806</td>\n",
       "      <td>0.474642</td>\n",
       "      <td>0.802374</td>\n",
       "      <td>00:03</td>\n",
       "    </tr>\n",
       "  </tbody>\n",
       "</table>"
      ],
      "text/plain": [
       "<IPython.core.display.HTML object>"
      ]
     },
     "metadata": {},
     "output_type": "display_data"
    }
   ],
   "source": [
    "learn.unfreeze()\n",
    "learn.fit_one_cycle(2, slice(1e-3/(2.6**4),1e-3))"
   ]
  },
  {
   "cell_type": "code",
   "execution_count": 151,
   "id": "starting-thanks",
   "metadata": {},
   "outputs": [],
   "source": [
    "learn.save_encoder('min_finished')"
   ]
  },
  {
   "cell_type": "markdown",
   "id": "biblical-citizenship",
   "metadata": {},
   "source": [
    "### See results"
   ]
  },
  {
   "cell_type": "code",
   "execution_count": 152,
   "id": "fitted-multimedia",
   "metadata": {},
   "outputs": [
    {
     "data": {
      "text/html": [],
      "text/plain": [
       "<IPython.core.display.HTML object>"
      ]
     },
     "metadata": {},
     "output_type": "display_data"
    },
    {
     "name": "stdout",
     "output_type": "stream",
     "text": [
      "Test Set Accuracy:  0.8023735880851746\n"
     ]
    }
   ],
   "source": [
    "print(\"Test Set Accuracy: \",learn.validate()[1]) #0.712"
   ]
  },
  {
   "cell_type": "markdown",
   "id": "distinct-hammer",
   "metadata": {},
   "source": [
    "#### Train set"
   ]
  },
  {
   "cell_type": "code",
   "execution_count": 153,
   "id": "major-operation",
   "metadata": {},
   "outputs": [
    {
     "data": {
      "text/html": [],
      "text/plain": [
       "<IPython.core.display.HTML object>"
      ]
     },
     "metadata": {},
     "output_type": "display_data"
    },
    {
     "data": {
      "image/png": "[encoded data removed]",
      "text/plain": [
       "<Figure size 504x504 with 1 Axes>"
      ]
     },
     "metadata": {
      "needs_background": "light"
     },
     "output_type": "display_data"
    }
   ],
   "source": [
    "interp = ClassificationInterpretation.from_learner(learn)\n",
    "losses, idxs = interp.top_losses()\n",
    "len(dls_clas.valid_ds)==len(losses)==len(idxs)\n",
    "interp.plot_confusion_matrix(figsize=(7,7))"
   ]
  },
  {
   "cell_type": "markdown",
   "id": "champion-interval",
   "metadata": {},
   "source": [
    "#### Test set"
   ]
  },
  {
   "cell_type": "code",
   "execution_count": 154,
   "id": "operational-jamaica",
   "metadata": {},
   "outputs": [
    {
     "data": {
      "text/html": [],
      "text/plain": [
       "<IPython.core.display.HTML object>"
      ]
     },
     "metadata": {},
     "output_type": "display_data"
    }
   ],
   "source": [
    "#data_test = TextDataLoaders.from_df(df_test, text_col='text', label_col=\"sentiment\", text_vocab=dls_lm.vocab)\n",
    "test_dl = learn.dls.test_dl(df_test)\n",
    "preds, y = learn.get_preds()"
   ]
  },
  {
   "cell_type": "code",
   "execution_count": 155,
   "id": "foreign-queen",
   "metadata": {},
   "outputs": [
    {
     "data": {
      "text/html": [],
      "text/plain": [
       "<IPython.core.display.HTML object>"
      ]
     },
     "metadata": {},
     "output_type": "display_data"
    }
   ],
   "source": [
    "dl_test = learn.dls.test_dl(df_test, with_labels=True, drop_last=False)\n",
    "preds = learn.get_preds(dl=dl_test, with_decoded=True)\n",
    "predictions = preds[2]\n",
    "targets = preds[1]"
   ]
  },
  {
   "cell_type": "code",
   "execution_count": 156,
   "id": "introductory-fluid",
   "metadata": {},
   "outputs": [],
   "source": [
    "#print(preds[2].shape)\n",
    "#print(preds[1].shape)"
   ]
  },
  {
   "cell_type": "code",
   "execution_count": 157,
   "id": "continued-integral",
   "metadata": {},
   "outputs": [],
   "source": [
    "def my_accuracy(y_pred, y_true):\n",
    "    equ = [1 if i == t else 0 for i, t in zip(y_pred, y_true)]\n",
    "    return np.mean(equ)"
   ]
  },
  {
   "cell_type": "code",
   "execution_count": 158,
   "id": "motivated-characterization",
   "metadata": {},
   "outputs": [
    {
     "name": "stdout",
     "output_type": "stream",
     "text": [
      "Test Set Accuracy:  0.3698710433763189\n"
     ]
    }
   ],
   "source": [
    "acc = my_accuracy(predictions, targets)\n",
    "print(\"Test Set Accuracy: \",acc) #0.723"
   ]
  },
  {
   "cell_type": "code",
   "execution_count": 159,
   "id": "green-litigation",
   "metadata": {},
   "outputs": [
    {
     "data": {
      "text/plain": [
       "array([[ 162,  960,    7],\n",
       "       [  81, 1641,   10],\n",
       "       [ 145, 2022,   90]])"
      ]
     },
     "execution_count": 159,
     "metadata": {},
     "output_type": "execute_result"
    }
   ],
   "source": [
    "from sklearn.metrics import confusion_matrix\n",
    "confusion_matrix(targets, predictions)"
   ]
  },
  {
   "cell_type": "code",
   "execution_count": 160,
   "id": "connected-jungle",
   "metadata": {},
   "outputs": [],
   "source": [
    "#df_test.text"
   ]
  },
  {
   "cell_type": "code",
   "execution_count": 161,
   "id": "bound-saskatchewan",
   "metadata": {},
   "outputs": [],
   "source": [
    "#Tried cleaning up data: via function clean_text, didn't improve a thing :("
   ]
  },
  {
   "cell_type": "code",
   "execution_count": 162,
   "id": "romance-yemen",
   "metadata": {},
   "outputs": [],
   "source": [
    "#>>Done>> #Try other model instead of AWD_LSTM > AWD_QRNN. Didnt work. Pytorch error, too complicated fix.: https://forums.fast.ai/t/cant-import-qrnn-or-qrnnlayer/45072/7\n",
    "#>>Done>> #Try make test set as validation set in classifier.\n",
    "#>>DONE>> Conclusion: Use test as valid. #See test accuracy change, after proper acc calc now, afte rreverting previous step\n",
    "#>>DONE>> check the other dataset for LM, not Reuters titles but perhaps better data for LM there\n",
    "#>>DONE>> #Bloomberg better. But data needs stripping down:\n",
    "#>>DONE>> #-first rows untill www.bloomberg.com\n",
    "#>>DONE>> #-last trows from . \"To contact the reporters\" or/and \"NOTE 1:\"\n",
    "#Run the same cleaner preproccessing functions in LM as in train/test data for classifiers.\n",
    "#Add preproccesing / cleaner functions into the pipeline?"
   ]
  }
 ],
 "metadata": {
  "kernelspec": {
   "display_name": "Python 3",
   "language": "python",
   "name": "python3"
  },
  "language_info": {
   "codemirror_mode": {
    "name": "ipython",
    "version": 3
   },
   "file_extension": ".py",
   "mimetype": "text/x-python",
   "name": "python",
   "nbconvert_exporter": "python",
   "pygments_lexer": "ipython3",
   "version": "3.8.7"
  }
 },
 "nbformat": 4,
 "nbformat_minor": 5
}
