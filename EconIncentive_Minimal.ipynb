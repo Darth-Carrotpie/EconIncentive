{
 "cells": [
  {
   "cell_type": "code",
   "execution_count": 11,
   "id": "corporate-variety",
   "metadata": {},
   "outputs": [],
   "source": [
    "from fastai.text.all import *\n",
    "import pandas as pd\n",
    "cols = [\"sentiment\",\"text\"]\n",
    "df = pd.read_csv(\"data/all-data.csv\", names =cols, encoding = \"ISO-8859-1\")\n",
    "df_test = pd.read_csv(\"data/public-test-set.csv\", names = cols, encoding = \"ISO-8859-1\")"
   ]
  },
  {
   "cell_type": "code",
   "execution_count": 12,
   "id": "chicken-explosion",
   "metadata": {},
   "outputs": [],
   "source": [
    "df['is_valid'] = False\n",
    "df_test['is_valid'] = True"
   ]
  },
  {
   "cell_type": "code",
   "execution_count": 13,
   "id": "regulation-excellence",
   "metadata": {},
   "outputs": [],
   "source": [
    "#helper functions:\n",
    "def gen_sentence(preface_text):\n",
    "    N_WORDS = 50\n",
    "    N_SENTENCES = 2\n",
    "    preds = [learn.predict(preface_text, n_words = N_WORDS, temperature=0.75) \n",
    "             for _ in range(N_SENTENCES)]\n",
    "    return(\"\\n\\n\".join(preds))"
   ]
  },
  {
   "cell_type": "code",
   "execution_count": 14,
   "id": "dense-scheme",
   "metadata": {},
   "outputs": [],
   "source": [
    "np.warnings.filterwarnings('ignore', category=np.VisibleDeprecationWarning) "
   ]
  },
  {
   "cell_type": "markdown",
   "id": "random-ottawa",
   "metadata": {},
   "source": [
    "### Preproc"
   ]
  },
  {
   "cell_type": "code",
   "execution_count": 15,
   "id": "alpine-palestine",
   "metadata": {},
   "outputs": [],
   "source": [
    "def clean_text(in_df):\n",
    "    #Remove words which have numbers in them\n",
    "    in_df['text'] = in_df['text'].str.replace(r'\\w*\\d\\w*', '')\n",
    "    #Remove words which have special characters, except newline, space\n",
    "    in_df['text'] = in_df['text'].str.replace(r'\\w*[\\$\\#\\&\\@\\~\\*\\%\\;\\/]\\w*', '')\n",
    "\n",
    "#clean_text(df_test)\n",
    "#clean_text(df)\n",
    "\n",
    "    #Filter out rows which are almost empty\n",
    "#mask_df = (df['text'].apply(lambda x: True if len(x.split(\" \")) > 3 else False))\n",
    "#mask_test = (df_test['text'].apply(lambda x: True if len(x.split(\" \")) > 3 else False))\n",
    "    \n",
    "#df = df[mask_df]\n",
    "#df_test = df_test[mask_test]"
   ]
  },
  {
   "cell_type": "code",
   "execution_count": 16,
   "id": "extensive-adams",
   "metadata": {},
   "outputs": [],
   "source": [
    "df_all = pd.concat([df, df_test])"
   ]
  },
  {
   "cell_type": "markdown",
   "id": "independent-gather",
   "metadata": {},
   "source": [
    "### Language Model"
   ]
  },
  {
   "cell_type": "code",
   "execution_count": 17,
   "id": "departmental-optics",
   "metadata": {},
   "outputs": [
    {
     "data": {
      "text/html": [],
      "text/plain": [
       "<IPython.core.display.HTML object>"
      ]
     },
     "metadata": {},
     "output_type": "display_data"
    }
   ],
   "source": [
    "dls_lm = TextDataLoaders.from_df(df_all, is_lm=True, valid_pct=0.1, text_col='text')\n",
    "learn = language_model_learner(dls_lm, AWD_LSTM, pretrained = True, metrics=[accuracy, Perplexity()], wd=0.1).to_fp16()"
   ]
  },
  {
   "cell_type": "code",
   "execution_count": 18,
   "id": "persistent-server",
   "metadata": {},
   "outputs": [
    {
     "data": {
      "text/html": [
       "<table border=\"1\" class=\"dataframe\">\n",
       "  <thead>\n",
       "    <tr style=\"text-align: left;\">\n",
       "      <th>epoch</th>\n",
       "      <th>train_loss</th>\n",
       "      <th>valid_loss</th>\n",
       "      <th>accuracy</th>\n",
       "      <th>perplexity</th>\n",
       "      <th>time</th>\n",
       "    </tr>\n",
       "  </thead>\n",
       "  <tbody>\n",
       "    <tr>\n",
       "      <td>0</td>\n",
       "      <td>4.936148</td>\n",
       "      <td>4.122833</td>\n",
       "      <td>0.273996</td>\n",
       "      <td>61.733902</td>\n",
       "      <td>00:12</td>\n",
       "    </tr>\n",
       "    <tr>\n",
       "      <td>1</td>\n",
       "      <td>4.347153</td>\n",
       "      <td>3.961156</td>\n",
       "      <td>0.291884</td>\n",
       "      <td>52.518009</td>\n",
       "      <td>00:11</td>\n",
       "    </tr>\n",
       "  </tbody>\n",
       "</table>"
      ],
      "text/plain": [
       "<IPython.core.display.HTML object>"
      ]
     },
     "metadata": {},
     "output_type": "display_data"
    }
   ],
   "source": [
    "learn.fit_one_cycle(2, 1e-2)"
   ]
  },
  {
   "cell_type": "code",
   "execution_count": 19,
   "id": "decimal-patrol",
   "metadata": {},
   "outputs": [
    {
     "data": {
      "text/html": [
       "<table border=\"1\" class=\"dataframe\">\n",
       "  <thead>\n",
       "    <tr style=\"text-align: left;\">\n",
       "      <th>epoch</th>\n",
       "      <th>train_loss</th>\n",
       "      <th>valid_loss</th>\n",
       "      <th>accuracy</th>\n",
       "      <th>perplexity</th>\n",
       "      <th>time</th>\n",
       "    </tr>\n",
       "  </thead>\n",
       "  <tbody>\n",
       "    <tr>\n",
       "      <td>0</td>\n",
       "      <td>3.930610</td>\n",
       "      <td>3.798304</td>\n",
       "      <td>0.320189</td>\n",
       "      <td>44.625427</td>\n",
       "      <td>00:13</td>\n",
       "    </tr>\n",
       "    <tr>\n",
       "      <td>1</td>\n",
       "      <td>3.763212</td>\n",
       "      <td>3.655495</td>\n",
       "      <td>0.339317</td>\n",
       "      <td>38.686672</td>\n",
       "      <td>00:13</td>\n",
       "    </tr>\n",
       "    <tr>\n",
       "      <td>2</td>\n",
       "      <td>3.605617</td>\n",
       "      <td>3.555024</td>\n",
       "      <td>0.352369</td>\n",
       "      <td>34.988647</td>\n",
       "      <td>00:13</td>\n",
       "    </tr>\n",
       "    <tr>\n",
       "      <td>3</td>\n",
       "      <td>3.447639</td>\n",
       "      <td>3.499933</td>\n",
       "      <td>0.361111</td>\n",
       "      <td>33.113224</td>\n",
       "      <td>00:13</td>\n",
       "    </tr>\n",
       "    <tr>\n",
       "      <td>4</td>\n",
       "      <td>3.325398</td>\n",
       "      <td>3.479173</td>\n",
       "      <td>0.362289</td>\n",
       "      <td>32.432903</td>\n",
       "      <td>00:13</td>\n",
       "    </tr>\n",
       "    <tr>\n",
       "      <td>5</td>\n",
       "      <td>3.251664</td>\n",
       "      <td>3.477992</td>\n",
       "      <td>0.363529</td>\n",
       "      <td>32.394604</td>\n",
       "      <td>00:13</td>\n",
       "    </tr>\n",
       "  </tbody>\n",
       "</table>"
      ],
      "text/plain": [
       "<IPython.core.display.HTML object>"
      ]
     },
     "metadata": {},
     "output_type": "display_data"
    }
   ],
   "source": [
    "learn.unfreeze()\n",
    "learn.fit_one_cycle(6, 1e-3)"
   ]
  },
  {
   "cell_type": "code",
   "execution_count": 20,
   "id": "experienced-recording",
   "metadata": {},
   "outputs": [],
   "source": [
    "learn.save('min_finetuned')\n",
    "learn.save_encoder('min_finetuned_enc')"
   ]
  },
  {
   "cell_type": "code",
   "execution_count": 21,
   "id": "acknowledged-canal",
   "metadata": {},
   "outputs": [
    {
     "data": {
      "text/html": [],
      "text/plain": [
       "<IPython.core.display.HTML object>"
      ]
     },
     "metadata": {},
     "output_type": "display_data"
    },
    {
     "data": {
      "text/html": [],
      "text/plain": [
       "<IPython.core.display.HTML object>"
      ]
     },
     "metadata": {},
     "output_type": "display_data"
    },
    {
     "name": "stdout",
     "output_type": "stream",
     "text": [
      "The sales were also slightly lower than in the previous year , which was expected to be slightly lower than in the corresponding period in 2005 . The sale will have some effect on the company 's ongoing operations , and the company will transfer its stake in Nordic\n",
      "\n",
      "The sales were expected to rise by 6 % in the second quarter of 2008 , and the company said that it will be able to expand the production capacity of Biohit Oyj 's Nordic plant in Estonia , Finland and the Baltic countries . $\n"
     ]
    }
   ],
   "source": [
    "print(gen_sentence(\"The sales were\"))"
   ]
  },
  {
   "cell_type": "markdown",
   "id": "dutch-sugar",
   "metadata": {},
   "source": [
    "### Classifier"
   ]
  },
  {
   "cell_type": "code",
   "execution_count": 22,
   "id": "recreational-seven",
   "metadata": {},
   "outputs": [
    {
     "data": {
      "text/html": [],
      "text/plain": [
       "<IPython.core.display.HTML object>"
      ]
     },
     "metadata": {},
     "output_type": "display_data"
    }
   ],
   "source": [
    "dls_clas = TextDataLoaders.from_df(df_all, seed = 7, text_col='text', label_col=\"sentiment\", text_vocab=dls_lm.vocab, valid_col='is_valid')\n",
    "learn = text_classifier_learner(dls_clas, AWD_LSTM, drop_mult=0.5, metrics=accuracy)\n",
    "learn = learn.load_encoder('min_finetuned_enc')"
   ]
  },
  {
   "cell_type": "code",
   "execution_count": 23,
   "id": "indirect-favor",
   "metadata": {},
   "outputs": [],
   "source": [
    "#learn.lr_find()"
   ]
  },
  {
   "cell_type": "code",
   "execution_count": 24,
   "id": "noticed-tongue",
   "metadata": {},
   "outputs": [],
   "source": [
    "#learn.recorder.plot_loss(with_valid = True)"
   ]
  },
  {
   "cell_type": "code",
   "execution_count": 25,
   "id": "graduate-requirement",
   "metadata": {},
   "outputs": [],
   "source": [
    "#learn.dls.train.items #correct"
   ]
  },
  {
   "cell_type": "code",
   "execution_count": 26,
   "id": "filled-journalism",
   "metadata": {},
   "outputs": [],
   "source": [
    "#learn.dls.valid.items #correct"
   ]
  },
  {
   "cell_type": "code",
   "execution_count": 27,
   "id": "durable-victor",
   "metadata": {},
   "outputs": [
    {
     "data": {
      "text/html": [
       "<table border=\"1\" class=\"dataframe\">\n",
       "  <thead>\n",
       "    <tr style=\"text-align: left;\">\n",
       "      <th>epoch</th>\n",
       "      <th>train_loss</th>\n",
       "      <th>valid_loss</th>\n",
       "      <th>accuracy</th>\n",
       "      <th>time</th>\n",
       "    </tr>\n",
       "  </thead>\n",
       "  <tbody>\n",
       "    <tr>\n",
       "      <td>0</td>\n",
       "      <td>0.789457</td>\n",
       "      <td>1.483460</td>\n",
       "      <td>0.362837</td>\n",
       "      <td>00:05</td>\n",
       "    </tr>\n",
       "    <tr>\n",
       "      <td>1</td>\n",
       "      <td>0.679413</td>\n",
       "      <td>1.609694</td>\n",
       "      <td>0.347011</td>\n",
       "      <td>00:05</td>\n",
       "    </tr>\n",
       "    <tr>\n",
       "      <td>2</td>\n",
       "      <td>0.603331</td>\n",
       "      <td>1.906063</td>\n",
       "      <td>0.350723</td>\n",
       "      <td>00:05</td>\n",
       "    </tr>\n",
       "  </tbody>\n",
       "</table>"
      ],
      "text/plain": [
       "<IPython.core.display.HTML object>"
      ]
     },
     "metadata": {},
     "output_type": "display_data"
    }
   ],
   "source": [
    "learn.fit_one_cycle(3, 2e-2)"
   ]
  },
  {
   "cell_type": "code",
   "execution_count": 28,
   "id": "italic-technician",
   "metadata": {},
   "outputs": [],
   "source": [
    "learn.freeze_to(-2)"
   ]
  },
  {
   "cell_type": "code",
   "execution_count": 29,
   "id": "straight-kelly",
   "metadata": {},
   "outputs": [
    {
     "data": {
      "text/html": [
       "<table border=\"1\" class=\"dataframe\">\n",
       "  <thead>\n",
       "    <tr style=\"text-align: left;\">\n",
       "      <th>epoch</th>\n",
       "      <th>train_loss</th>\n",
       "      <th>valid_loss</th>\n",
       "      <th>accuracy</th>\n",
       "      <th>time</th>\n",
       "    </tr>\n",
       "  </thead>\n",
       "  <tbody>\n",
       "    <tr>\n",
       "      <td>0</td>\n",
       "      <td>0.618816</td>\n",
       "      <td>2.014974</td>\n",
       "      <td>0.342712</td>\n",
       "      <td>00:05</td>\n",
       "    </tr>\n",
       "  </tbody>\n",
       "</table>"
      ],
      "text/plain": [
       "<IPython.core.display.HTML object>"
      ]
     },
     "metadata": {},
     "output_type": "display_data"
    }
   ],
   "source": [
    "learn.fit_one_cycle(1, slice(1e-2/(2.6**4),1e-2))"
   ]
  },
  {
   "cell_type": "code",
   "execution_count": 30,
   "id": "realistic-trace",
   "metadata": {},
   "outputs": [
    {
     "data": {
      "text/html": [
       "<table border=\"1\" class=\"dataframe\">\n",
       "  <thead>\n",
       "    <tr style=\"text-align: left;\">\n",
       "      <th>epoch</th>\n",
       "      <th>train_loss</th>\n",
       "      <th>valid_loss</th>\n",
       "      <th>accuracy</th>\n",
       "      <th>time</th>\n",
       "    </tr>\n",
       "  </thead>\n",
       "  <tbody>\n",
       "    <tr>\n",
       "      <td>0</td>\n",
       "      <td>0.535750</td>\n",
       "      <td>1.840400</td>\n",
       "      <td>0.348183</td>\n",
       "      <td>00:06</td>\n",
       "    </tr>\n",
       "  </tbody>\n",
       "</table>"
      ],
      "text/plain": [
       "<IPython.core.display.HTML object>"
      ]
     },
     "metadata": {},
     "output_type": "display_data"
    }
   ],
   "source": [
    "learn.freeze_to(-3)\n",
    "learn.fit_one_cycle(1, slice(5e-3/(2.6**4),5e-3))"
   ]
  },
  {
   "cell_type": "code",
   "execution_count": 31,
   "id": "swiss-mustang",
   "metadata": {},
   "outputs": [
    {
     "data": {
      "text/html": [
       "<table border=\"1\" class=\"dataframe\">\n",
       "  <thead>\n",
       "    <tr style=\"text-align: left;\">\n",
       "      <th>epoch</th>\n",
       "      <th>train_loss</th>\n",
       "      <th>valid_loss</th>\n",
       "      <th>accuracy</th>\n",
       "      <th>time</th>\n",
       "    </tr>\n",
       "  </thead>\n",
       "  <tbody>\n",
       "    <tr>\n",
       "      <td>0</td>\n",
       "      <td>0.434992</td>\n",
       "      <td>2.061167</td>\n",
       "      <td>0.352481</td>\n",
       "      <td>00:08</td>\n",
       "    </tr>\n",
       "    <tr>\n",
       "      <td>1</td>\n",
       "      <td>0.381904</td>\n",
       "      <td>2.074018</td>\n",
       "      <td>0.353263</td>\n",
       "      <td>00:07</td>\n",
       "    </tr>\n",
       "  </tbody>\n",
       "</table>"
      ],
      "text/plain": [
       "<IPython.core.display.HTML object>"
      ]
     },
     "metadata": {},
     "output_type": "display_data"
    }
   ],
   "source": [
    "learn.unfreeze()\n",
    "learn.fit_one_cycle(2, slice(1e-3/(2.6**4),1e-3))"
   ]
  },
  {
   "cell_type": "code",
   "execution_count": 32,
   "id": "starting-thanks",
   "metadata": {},
   "outputs": [
    {
     "data": {
      "text/plain": [
       "Path('models/min_finished.pth')"
      ]
     },
     "execution_count": 32,
     "metadata": {},
     "output_type": "execute_result"
    }
   ],
   "source": [
    "learn.save('min_finished')"
   ]
  },
  {
   "cell_type": "markdown",
   "id": "biblical-citizenship",
   "metadata": {},
   "source": [
    "### See results"
   ]
  },
  {
   "cell_type": "code",
   "execution_count": 33,
   "id": "fitted-multimedia",
   "metadata": {},
   "outputs": [
    {
     "data": {
      "text/html": [],
      "text/plain": [
       "<IPython.core.display.HTML object>"
      ]
     },
     "metadata": {},
     "output_type": "display_data"
    },
    {
     "name": "stdout",
     "output_type": "stream",
     "text": [
      "Test Set Accuracy:  0.3532629907131195\n"
     ]
    }
   ],
   "source": [
    "print(\"Test Set Accuracy: \",learn.validate()[1]) #0.712"
   ]
  },
  {
   "cell_type": "markdown",
   "id": "distinct-hammer",
   "metadata": {},
   "source": [
    "#### Train set"
   ]
  },
  {
   "cell_type": "code",
   "execution_count": 34,
   "id": "major-operation",
   "metadata": {
    "scrolled": false
   },
   "outputs": [
    {
     "data": {
      "text/html": [],
      "text/plain": [
       "<IPython.core.display.HTML object>"
      ]
     },
     "metadata": {},
     "output_type": "display_data"
    },
    {
     "data": {
      "image/png": "[encoded data removed]",
      "text/plain": [
       "<Figure size 504x504 with 1 Axes>"
      ]
     },
     "metadata": {
      "needs_background": "light"
     },
     "output_type": "display_data"
    }
   ],
   "source": [
    "interp = ClassificationInterpretation.from_learner(learn)\n",
    "losses, idxs = interp.top_losses()\n",
    "len(dls_clas.valid_ds)==len(losses)==len(idxs)\n",
    "interp.plot_confusion_matrix(figsize=(7,7))"
   ]
  },
  {
   "cell_type": "markdown",
   "id": "champion-interval",
   "metadata": {},
   "source": [
    "#### Test set"
   ]
  },
  {
   "cell_type": "code",
   "execution_count": 35,
   "id": "operational-jamaica",
   "metadata": {},
   "outputs": [],
   "source": [
    "#data_test = TextDataLoaders.from_df(df_test, text_col='text', label_col=\"sentiment\", text_vocab=dls_lm.vocab)\n",
    "#test_dl = learn.dls.test_dl(df_test)\n",
    "#preds, y = learn.get_preds()"
   ]
  },
  {
   "cell_type": "code",
   "execution_count": 36,
   "id": "foreign-queen",
   "metadata": {},
   "outputs": [
    {
     "data": {
      "text/html": [],
      "text/plain": [
       "<IPython.core.display.HTML object>"
      ]
     },
     "metadata": {},
     "output_type": "display_data"
    }
   ],
   "source": [
    "dl_test = learn.dls.test_dl(df_test, with_labels=True, drop_last=False)\n",
    "preds = learn.get_preds(dl=dl_test, with_decoded=True)\n",
    "predictions = preds[2]\n",
    "targets = preds[1]"
   ]
  },
  {
   "cell_type": "code",
   "execution_count": 37,
   "id": "dependent-better",
   "metadata": {},
   "outputs": [],
   "source": [
    "#learn.dls.train.items "
   ]
  },
  {
   "cell_type": "code",
   "execution_count": 38,
   "id": "introductory-fluid",
   "metadata": {},
   "outputs": [],
   "source": [
    "#print(preds[2].shape)\n",
    "#print(preds[1].shape)"
   ]
  },
  {
   "cell_type": "code",
   "execution_count": 39,
   "id": "continued-integral",
   "metadata": {},
   "outputs": [],
   "source": [
    "def my_accuracy(y_pred, y_true):\n",
    "    equ = [1 if i == t else 0 for i, t in zip(y_pred, y_true)]\n",
    "    return np.mean(equ)"
   ]
  },
  {
   "cell_type": "code",
   "execution_count": 40,
   "id": "motivated-characterization",
   "metadata": {
    "scrolled": true
   },
   "outputs": [
    {
     "name": "stdout",
     "output_type": "stream",
     "text": [
      "Test Set Accuracy:  0.35326299335678\n"
     ]
    }
   ],
   "source": [
    "acc = my_accuracy(predictions, targets)\n",
    "print(\"Test Set Accuracy: \",acc) #0.723"
   ]
  },
  {
   "cell_type": "code",
   "execution_count": 41,
   "id": "green-litigation",
   "metadata": {
    "scrolled": true
   },
   "outputs": [],
   "source": [
    "#from sklearn.metrics import confusion_matrix\n",
    "#confusion_matrix(targets, predictions)"
   ]
  },
  {
   "cell_type": "code",
   "execution_count": 42,
   "id": "connected-jungle",
   "metadata": {},
   "outputs": [],
   "source": [
    "#df_test.text"
   ]
  },
  {
   "cell_type": "code",
   "execution_count": 43,
   "id": "bound-saskatchewan",
   "metadata": {},
   "outputs": [],
   "source": [
    "#Tried cleaning up data: via function clean_text, didn't improve a thing :("
   ]
  },
  {
   "cell_type": "code",
   "execution_count": 66,
   "id": "configured-sussex",
   "metadata": {},
   "outputs": [
    {
     "data": {
      "text/html": [],
      "text/plain": [
       "<IPython.core.display.HTML object>"
      ]
     },
     "metadata": {},
     "output_type": "display_data"
    }
   ],
   "source": [
    "df_test2 = pd.read_csv(\"data/private-test-set.csv\", names = [\"ID\", \"text\"], encoding = \"ISO-8859-1\")\n",
    "dl_test2 = learn.dls.test_dl(df_test2, with_labels=False, drop_last=False)\n",
    "preds = learn.get_preds(dl=dl_test2, with_decoded=True)\n",
    "predictions = preds[2]\n",
    "targets = preds[1]"
   ]
  },
  {
   "cell_type": "code",
   "execution_count": 67,
   "id": "satisfied-universal",
   "metadata": {},
   "outputs": [
    {
     "data": {
      "text/plain": [
       "(tensor([[1.5398e-03, 9.9697e-01, 1.4942e-03],\n",
       "         [1.6272e-01, 8.2352e-01, 1.3761e-02],\n",
       "         [8.2937e-04, 9.9424e-01, 4.9352e-03],\n",
       "         ...,\n",
       "         [1.3405e-02, 9.5005e-01, 3.6542e-02],\n",
       "         [3.1270e-01, 6.7063e-01, 1.6671e-02],\n",
       "         [1.5946e-02, 9.7532e-01, 8.7301e-03]]),\n",
       " None,\n",
       " tensor([1, 1, 1,  ..., 1, 1, 1]))"
      ]
     },
     "execution_count": 67,
     "metadata": {},
     "output_type": "execute_result"
    }
   ],
   "source": [
    "preds"
   ]
  },
  {
   "cell_type": "code",
   "execution_count": 68,
   "id": "integrated-buying",
   "metadata": {},
   "outputs": [
    {
     "data": {
      "text/plain": [
       "tensor([1, 1, 1, 1, 1, 1, 1, 1, 1, 1, 1, 1, 1, 1, 1, 1, 0, 2, 1, 1, 1, 1, 1, 1,\n",
       "        1, 1, 0, 1, 0, 1, 1, 1, 1, 1, 1, 1, 1, 1, 1, 1, 1, 1, 1, 1, 1, 0, 1, 1,\n",
       "        1, 1, 1, 1, 1, 0, 1, 1, 1, 1, 1, 1, 1, 1, 1, 0, 1, 1, 1, 1, 0, 1, 1, 0,\n",
       "        1, 1, 1, 1, 1, 1, 1, 1, 1, 1, 1, 1, 1, 0, 1, 1, 1, 1, 1, 1, 1, 1, 1, 1,\n",
       "        1, 1, 1, 1, 1, 1, 1, 0, 1, 1, 1, 1, 1, 1, 1, 1, 1, 1, 1, 1, 0, 1, 1, 1,\n",
       "        1, 1, 1, 1, 1, 1, 1, 1, 1, 0, 1, 1, 1, 1, 1, 1, 1, 1, 1, 1, 1, 1, 0, 1,\n",
       "        1, 1, 1, 1, 1, 1, 1, 1, 1, 1, 1, 1, 1, 1, 1, 1, 1, 1, 1, 1, 1, 1, 1, 1,\n",
       "        1, 1, 1, 1, 1, 1, 1, 1, 1, 1, 0, 1, 1, 1, 1, 1, 1, 1, 1, 0, 1, 1, 1, 1,\n",
       "        1, 1, 1, 1, 1, 1, 1, 1])"
      ]
     },
     "execution_count": 68,
     "metadata": {},
     "output_type": "execute_result"
    }
   ],
   "source": [
    "predictions[-200:]"
   ]
  },
  {
   "cell_type": "code",
   "execution_count": 78,
   "id": "chronic-butter",
   "metadata": {},
   "outputs": [],
   "source": [
    "px = predictions.numpy()\n",
    "px = pd.DataFrame(px, columns = [\"label\"])"
   ]
  },
  {
   "cell_type": "code",
   "execution_count": 79,
   "id": "forty-certificate",
   "metadata": {},
   "outputs": [
    {
     "data": {
      "text/html": [
       "<div>\n",
       "<style scoped>\n",
       "    .dataframe tbody tr th:only-of-type {\n",
       "        vertical-align: middle;\n",
       "    }\n",
       "\n",
       "    .dataframe tbody tr th {\n",
       "        vertical-align: top;\n",
       "    }\n",
       "\n",
       "    .dataframe thead th {\n",
       "        text-align: right;\n",
       "    }\n",
       "</style>\n",
       "<table border=\"1\" class=\"dataframe\">\n",
       "  <thead>\n",
       "    <tr style=\"text-align: right;\">\n",
       "      <th></th>\n",
       "      <th>label</th>\n",
       "    </tr>\n",
       "    <tr>\n",
       "      <th>ID</th>\n",
       "      <th></th>\n",
       "    </tr>\n",
       "  </thead>\n",
       "  <tbody>\n",
       "    <tr>\n",
       "      <th>0</th>\n",
       "      <td>1</td>\n",
       "    </tr>\n",
       "    <tr>\n",
       "      <th>1</th>\n",
       "      <td>1</td>\n",
       "    </tr>\n",
       "    <tr>\n",
       "      <th>2</th>\n",
       "      <td>1</td>\n",
       "    </tr>\n",
       "    <tr>\n",
       "      <th>3</th>\n",
       "      <td>1</td>\n",
       "    </tr>\n",
       "    <tr>\n",
       "      <th>4</th>\n",
       "      <td>1</td>\n",
       "    </tr>\n",
       "    <tr>\n",
       "      <th>...</th>\n",
       "      <td>...</td>\n",
       "    </tr>\n",
       "    <tr>\n",
       "      <th>11996</th>\n",
       "      <td>1</td>\n",
       "    </tr>\n",
       "    <tr>\n",
       "      <th>11997</th>\n",
       "      <td>1</td>\n",
       "    </tr>\n",
       "    <tr>\n",
       "      <th>11998</th>\n",
       "      <td>1</td>\n",
       "    </tr>\n",
       "    <tr>\n",
       "      <th>11999</th>\n",
       "      <td>1</td>\n",
       "    </tr>\n",
       "    <tr>\n",
       "      <th>12000</th>\n",
       "      <td>1</td>\n",
       "    </tr>\n",
       "  </tbody>\n",
       "</table>\n",
       "<p>12001 rows × 1 columns</p>\n",
       "</div>"
      ],
      "text/plain": [
       "       label\n",
       "ID          \n",
       "0          1\n",
       "1          1\n",
       "2          1\n",
       "3          1\n",
       "4          1\n",
       "...      ...\n",
       "11996      1\n",
       "11997      1\n",
       "11998      1\n",
       "11999      1\n",
       "12000      1\n",
       "\n",
       "[12001 rows x 1 columns]"
      ]
     },
     "execution_count": 79,
     "metadata": {},
     "output_type": "execute_result"
    }
   ],
   "source": [
    "#px[\"ID\"] = df_test2[\"ID\"]\n",
    "px.index.rename(\"ID\", inplace=True)\n",
    "px"
   ]
  },
  {
   "cell_type": "code",
   "execution_count": 81,
   "id": "electronic-shoot",
   "metadata": {},
   "outputs": [],
   "source": [
    "px.to_csv(\"results.csv\")"
   ]
  },
  {
   "cell_type": "code",
   "execution_count": 45,
   "id": "romance-yemen",
   "metadata": {},
   "outputs": [],
   "source": [
    "#>>Done>> #Try other model instead of AWD_LSTM > AWD_QRNN. Didnt work. Pytorch error, too complicated fix.: https://forums.fast.ai/t/cant-import-qrnn-or-qrnnlayer/45072/7\n",
    "#>>Done>> #Try make test set as validation set in classifier.\n",
    "#>>DONE>> Conclusion: Use test as valid. #See test accuracy change, after proper acc calc now, afte rreverting previous step\n",
    "#>>DONE>> check the other dataset for LM, not Reuters titles but perhaps better data for LM there\n",
    "#>>DONE>> #Bloomberg better. But data needs stripping down:\n",
    "#>>DONE>> #-first rows untill www.bloomberg.com\n",
    "#>>DONE>> #-last trows from . \"To contact the reporters\" or/and \"NOTE 1:\"\n",
    "#Split classifier and language model into separate notebooks\n",
    "#Run the same cleaner preproccessing functions in LM as in train/test data for classifiers.\n",
    "#Add preproccesing / cleaner functions into the pipeline?"
   ]
  }
 ],
 "metadata": {
  "kernelspec": {
   "display_name": "Python 3",
   "language": "python",
   "name": "python3"
  },
  "language_info": {
   "codemirror_mode": {
    "name": "ipython",
    "version": 3
   },
   "file_extension": ".py",
   "mimetype": "text/x-python",
   "name": "python",
   "nbconvert_exporter": "python",
   "pygments_lexer": "ipython3",
   "version": "3.8.7"
  }
 },
 "nbformat": 4,
 "nbformat_minor": 5
}
