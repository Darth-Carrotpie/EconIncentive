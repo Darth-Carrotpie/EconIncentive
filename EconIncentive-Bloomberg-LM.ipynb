{
 "cells": [
  {
   "cell_type": "code",
   "execution_count": 1,
   "id": "artistic-public",
   "metadata": {},
   "outputs": [],
   "source": [
    "from fastai.text.all import *\n",
    "import pandas as pd\n",
    "cols = [\"sentiment\",\"text\"]\n",
    "df = pd.read_csv(\"data/all-data.csv\", names =cols, encoding = \"ISO-8859-1\")\n",
    "df_test = pd.read_csv(\"data/public-test-set.csv\", names = cols, encoding = \"ISO-8859-1\")\n",
    "df_all = pd.concat([df, df_test])"
   ]
  },
  {
   "cell_type": "code",
   "execution_count": 2,
   "id": "brazilian-pepper",
   "metadata": {},
   "outputs": [],
   "source": [
    "np.warnings.filterwarnings('ignore', category=np.VisibleDeprecationWarning) "
   ]
  },
  {
   "cell_type": "code",
   "execution_count": 3,
   "id": "electronic-humor",
   "metadata": {},
   "outputs": [],
   "source": [
    "#helper functions:\n",
    "def gen_sentence(preface_text):\n",
    "    N_WORDS = 50\n",
    "    N_SENTENCES = 2\n",
    "    preds = [learn.predict(preface_text, n_words = N_WORDS, temperature=0.75) \n",
    "             for _ in range(N_SENTENCES)]\n",
    "    return(\"\\n\\n\".join(preds))"
   ]
  },
  {
   "cell_type": "code",
   "execution_count": 4,
   "id": "driving-genre",
   "metadata": {},
   "outputs": [],
   "source": [
    "def clean_text(in_df):\n",
    "    #Remove words which have numbers in them\n",
    "    in_df['text'] = in_df['text'].str.replace(r'\\w*\\d\\w*', '')\n",
    "    #Remove words which have special characters, except newline, space\n",
    "    in_df['text'] = in_df['text'].str.replace(r'\\w*[\\$\\#\\&\\@\\~\\*\\%\\;\\/]\\w*', '')"
   ]
  },
  {
   "cell_type": "markdown",
   "id": "illegal-joyce",
   "metadata": {},
   "source": [
    "### Language Model"
   ]
  },
  {
   "cell_type": "markdown",
   "id": "eligible-excitement",
   "metadata": {},
   "source": [
    "#### Train on an additional economic corpus"
   ]
  },
  {
   "cell_type": "markdown",
   "id": "dutch-equation",
   "metadata": {},
   "source": [
    "extra datasets for better language model:\n",
    "https://github.com/philipperemy/financial-news-dataset\n",
    "Ding et al. (2014)"
   ]
  },
  {
   "cell_type": "code",
   "execution_count": 5,
   "id": "appreciated-parks",
   "metadata": {},
   "outputs": [
    {
     "name": "stdout",
     "output_type": "stream",
     "text": [
      "(10000, 3)\n"
     ]
    }
   ],
   "source": [
    "n_to_read = 10000 #500 000\n",
    "df_econ = pd.read_csv('data/bloomberg_out.zip', compression='zip', header=0, sep=',', quotechar='\"')[-n_to_read:]\n",
    "print(df_econ.shape)"
   ]
  },
  {
   "cell_type": "code",
   "execution_count": 6,
   "id": "passing-trash",
   "metadata": {},
   "outputs": [
    {
     "name": "stderr",
     "output_type": "stream",
     "text": [
      "<ipython-input-4-758c5916f40e>:3: FutureWarning: The default value of regex will change from True to False in a future version.\n",
      "  in_df['text'] = in_df['text'].str.replace(r'\\w*\\d\\w*', '')\n",
      "<ipython-input-4-758c5916f40e>:5: FutureWarning: The default value of regex will change from True to False in a future version.\n",
      "  in_df['text'] = in_df['text'].str.replace(r'\\w*[\\$\\#\\&\\@\\~\\*\\%\\;\\/]\\w*', '')\n"
     ]
    },
    {
     "data": {
      "text/html": [
       "<div>\n",
       "<style scoped>\n",
       "    .dataframe tbody tr th:only-of-type {\n",
       "        vertical-align: middle;\n",
       "    }\n",
       "\n",
       "    .dataframe tbody tr th {\n",
       "        vertical-align: top;\n",
       "    }\n",
       "\n",
       "    .dataframe thead th {\n",
       "        text-align: right;\n",
       "    }\n",
       "</style>\n",
       "<table border=\"1\" class=\"dataframe\">\n",
       "  <thead>\n",
       "    <tr style=\"text-align: right;\">\n",
       "      <th></th>\n",
       "      <th>date</th>\n",
       "      <th>filename</th>\n",
       "      <th>text</th>\n",
       "    </tr>\n",
       "  </thead>\n",
       "  <tbody>\n",
       "    <tr>\n",
       "      <th>102692</th>\n",
       "      <td>2012-11-29</td>\n",
       "      <td>environmental-group-spotlights-rice-s-oil-sands-stakes</td>\n",
       "      <td>Susan Rice ’s holdings in an energy\\ncompany seeking State Department approval for an oil pipeline\\nfrom Canada may pose a conflict of interest if she is nominated\\nto become U.S. secretary of state.  Rice, the U.S. ambassador to the United Nations, and her\\nhusband own stock in  TransCanada Corp. (TRP)  valued at , to\\n,, according to her most recent financial disclosure\\n report . The company has filed for a State Department permit to\\nbuild Keystone XL, a pipeline that would carry crude oil from\\nAlberta’s oil sands to refineries on the U.S. Gulf coast.  Rice also holds stock worth . mi...</td>\n",
       "    </tr>\n",
       "    <tr>\n",
       "      <th>102693</th>\n",
       "      <td>2008-11-21</td>\n",
       "      <td>fidelity-owns-5-8-of-saizeriya-cuts-yamada-denki-update1-</td>\n",
       "      <td>Nov.  (Bloomberg) --Fidelity Investments  Japan  Ltd., a\\nTokyo-based investment firm, held . percent of  Saizeriya Co. () \\nand cut its holding in  Yamada Denki Co. ()  to . from .\\npercent, according to filings today with Japan's Ministry of\\nFinance. Fidelity and FMR LLC, its Boston-based affiliate, also\\nchanged their holdings in  other companies, according to\\nseparate filings.  \\n \\nCompany Name:                      Secom Techno Service Co.\\nTicker Code:                        JP\\nReport obligation incurred:        Nov. \\nShareholder:                       FMR LLC\\n Shares Owned:   ...</td>\n",
       "    </tr>\n",
       "    <tr>\n",
       "      <th>102694</th>\n",
       "      <td>2010-01-22</td>\n",
       "      <td>credit-crisis-creates-lost-generation-david-g-blanchflower</td>\n",
       "      <td>There is now a danger that the\\nbiggest fallout from the credit crisis is the creation of a lost\\ngeneration of young people who never make the transition from\\nschool to work.  \\n The U.S. job figures for December weren’t good and much\\nworse than most commentators had expected. Payrolls fell by\\n, last month after a gain the previous month.  \\n About . million Americans left the workforce from July\\nthrough December, a . percent drop and the biggest six-month\\ndecrease since . The  participation rate  last month fell to\\nthe lowest level in  years. An exodus of discouraged workers\\nfrom ...</td>\n",
       "    </tr>\n",
       "    <tr>\n",
       "      <th>102695</th>\n",
       "      <td>2010-01-22</td>\n",
       "      <td>why-do-we-care-about-disruption-</td>\n",
       "      <td>The other week, two of my colleagues were engaged in a fierce debate about whether a particular business was or not in fact \"disruptive.\" When they asked my opinion, I surprised them by answering, \"I don't really care.\"  \\n\\n \"But we're all about disruptive innovation aren't we?\"  one of them asked.  \\n\\n \"Well yes,\" I replied, \"but we're all even more about building successful, sustainable, scalable businesses.\" \\n\\n It's natural to think that our sole raison d'être is disruption. Innosight's co-founder  Clayton Christensen  coined the term \"disruptive technology,\" and we've built a busin...</td>\n",
       "    </tr>\n",
       "    <tr>\n",
       "      <th>102696</th>\n",
       "      <td>2010-10-15</td>\n",
       "      <td>carrefour-france-telecom-natixis-pernod-sopra-french-equity-preview</td>\n",
       "      <td>The following is a list of companies\\nwhose shares may have unusual price changes in Paris. Stock\\nsymbols are in parentheses after company names. Share prices are\\nfrom the last close.  The CAC  Index rose . percent to ,. yesterday in\\nParis.  Air France-KLM Group  (AF FP): Credit Suisse Group AG raised\\nits recommendation for Europe’s largest airline to “neutral”\\nfrom “underperform.” The stock increased . percent to .\\neuros.  Aeroports de Paris  (ADP FP): The operator of the French\\ncapital’s Charles de Gaulle and Orly airports said it had\\nSeptember traffic of . million passengers, up...</td>\n",
       "    </tr>\n",
       "  </tbody>\n",
       "</table>\n",
       "</div>"
      ],
      "text/plain": [
       "              date  \\\n",
       "102692  2012-11-29   \n",
       "102693  2008-11-21   \n",
       "102694  2010-01-22   \n",
       "102695  2010-01-22   \n",
       "102696  2010-10-15   \n",
       "\n",
       "                                                                   filename  \\\n",
       "102692               environmental-group-spotlights-rice-s-oil-sands-stakes   \n",
       "102693            fidelity-owns-5-8-of-saizeriya-cuts-yamada-denki-update1-   \n",
       "102694           credit-crisis-creates-lost-generation-david-g-blanchflower   \n",
       "102695                                     why-do-we-care-about-disruption-   \n",
       "102696  carrefour-france-telecom-natixis-pernod-sopra-french-equity-preview   \n",
       "\n",
       "                                                                                                                                                                                                                                                                                                                                                                                                                                                                                                                                                                                                                           text  \n",
       "102692  Susan Rice ’s holdings in an energy\\ncompany seeking State Department approval for an oil pipeline\\nfrom Canada may pose a conflict of interest if she is nominated\\nto become U.S. secretary of state.  Rice, the U.S. ambassador to the United Nations, and her\\nhusband own stock in  TransCanada Corp. (TRP)  valued at , to\\n,, according to her most recent financial disclosure\\n report . The company has filed for a State Department permit to\\nbuild Keystone XL, a pipeline that would carry crude oil from\\nAlberta’s oil sands to refineries on the U.S. Gulf coast.  Rice also holds stock worth . mi...  \n",
       "102693  Nov.  (Bloomberg) --Fidelity Investments  Japan  Ltd., a\\nTokyo-based investment firm, held . percent of  Saizeriya Co. () \\nand cut its holding in  Yamada Denki Co. ()  to . from .\\npercent, according to filings today with Japan's Ministry of\\nFinance. Fidelity and FMR LLC, its Boston-based affiliate, also\\nchanged their holdings in  other companies, according to\\nseparate filings.  \\n \\nCompany Name:                      Secom Techno Service Co.\\nTicker Code:                        JP\\nReport obligation incurred:        Nov. \\nShareholder:                       FMR LLC\\n Shares Owned:   ...  \n",
       "102694  There is now a danger that the\\nbiggest fallout from the credit crisis is the creation of a lost\\ngeneration of young people who never make the transition from\\nschool to work.  \\n The U.S. job figures for December weren’t good and much\\nworse than most commentators had expected. Payrolls fell by\\n, last month after a gain the previous month.  \\n About . million Americans left the workforce from July\\nthrough December, a . percent drop and the biggest six-month\\ndecrease since . The  participation rate  last month fell to\\nthe lowest level in  years. An exodus of discouraged workers\\nfrom ...  \n",
       "102695  The other week, two of my colleagues were engaged in a fierce debate about whether a particular business was or not in fact \"disruptive.\" When they asked my opinion, I surprised them by answering, \"I don't really care.\"  \\n\\n \"But we're all about disruptive innovation aren't we?\"  one of them asked.  \\n\\n \"Well yes,\" I replied, \"but we're all even more about building successful, sustainable, scalable businesses.\" \\n\\n It's natural to think that our sole raison d'être is disruption. Innosight's co-founder  Clayton Christensen  coined the term \"disruptive technology,\" and we've built a busin...  \n",
       "102696  The following is a list of companies\\nwhose shares may have unusual price changes in Paris. Stock\\nsymbols are in parentheses after company names. Share prices are\\nfrom the last close.  The CAC  Index rose . percent to ,. yesterday in\\nParis.  Air France-KLM Group  (AF FP): Credit Suisse Group AG raised\\nits recommendation for Europe’s largest airline to “neutral”\\nfrom “underperform.” The stock increased . percent to .\\neuros.  Aeroports de Paris  (ADP FP): The operator of the French\\ncapital’s Charles de Gaulle and Orly airports said it had\\nSeptember traffic of . million passengers, up...  "
      ]
     },
     "execution_count": 6,
     "metadata": {},
     "output_type": "execute_result"
    }
   ],
   "source": [
    "clean_text(df_econ)\n",
    "df_econ.head()"
   ]
  },
  {
   "cell_type": "code",
   "execution_count": 7,
   "id": "earned-mouse",
   "metadata": {},
   "outputs": [
    {
     "data": {
      "text/html": [],
      "text/plain": [
       "<IPython.core.display.HTML object>"
      ]
     },
     "metadata": {},
     "output_type": "display_data"
    },
    {
     "name": "stdout",
     "output_type": "stream",
     "text": [
      "32848\n"
     ]
    }
   ],
   "source": [
    "data_econ = TextDataLoaders.from_df(df_econ, is_lm=True, valid_pct = 0.1, text_col='text')\n",
    "print(len(data_econ.vocab))\n",
    "learn = language_model_learner(data_econ, AWD_LSTM, pretrained = True, drop_mult=0.5, metrics=[accuracy, Perplexity()], wd=0.1).to_fp16()"
   ]
  },
  {
   "cell_type": "code",
   "execution_count": 8,
   "id": "honest-decision",
   "metadata": {},
   "outputs": [
    {
     "data": {
      "text/html": [],
      "text/plain": [
       "<IPython.core.display.HTML object>"
      ]
     },
     "metadata": {},
     "output_type": "display_data"
    },
    {
     "data": {
      "text/plain": [
       "SuggestedLRs(lr_min=0.03630780577659607, lr_steep=0.04786301031708717)"
      ]
     },
     "execution_count": 8,
     "metadata": {},
     "output_type": "execute_result"
    },
    {
     "data": {
      "image/png": "[encoded data removed]",
      "text/plain": [
       "<Figure size 432x288 with 1 Axes>"
      ]
     },
     "metadata": {
      "needs_background": "light"
     },
     "output_type": "display_data"
    }
   ],
   "source": [
    "#learn.lr_find() #lr_steep=0.083176"
   ]
  },
  {
   "cell_type": "code",
   "execution_count": 9,
   "id": "settled-reminder",
   "metadata": {},
   "outputs": [
    {
     "data": {
      "text/html": [],
      "text/plain": [
       "<IPython.core.display.HTML object>"
      ]
     },
     "metadata": {},
     "output_type": "display_data"
    },
    {
     "data": {
      "text/html": [],
      "text/plain": [
       "<IPython.core.display.HTML object>"
      ]
     },
     "metadata": {},
     "output_type": "display_data"
    },
    {
     "name": "stdout",
     "output_type": "stream",
     "text": [
      "The company launched with a Company of Physicians , Medical Patients , and a Medical Crisis Unit ( PAIN ) in September , August and August , September of that year , a UN Commission on Emergency Care\n",
      "\n",
      "The company launched with the European Union Union , the German company Des Moines Ring de France ( EA ) , in December of that year , the company operated in France and Switzerland . The company is seen as being\n"
     ]
    }
   ],
   "source": [
    "print(gen_sentence(\"The company launched with\"))"
   ]
  },
  {
   "cell_type": "code",
   "execution_count": 10,
   "id": "relevant-cabinet",
   "metadata": {},
   "outputs": [
    {
     "data": {
      "text/html": [
       "<table border=\"1\" class=\"dataframe\">\n",
       "  <thead>\n",
       "    <tr style=\"text-align: left;\">\n",
       "      <th>epoch</th>\n",
       "      <th>train_loss</th>\n",
       "      <th>valid_loss</th>\n",
       "      <th>accuracy</th>\n",
       "      <th>perplexity</th>\n",
       "      <th>time</th>\n",
       "    </tr>\n",
       "  </thead>\n",
       "  <tbody>\n",
       "    <tr>\n",
       "      <td>0</td>\n",
       "      <td>4.046742</td>\n",
       "      <td>3.941957</td>\n",
       "      <td>0.315199</td>\n",
       "      <td>51.519302</td>\n",
       "      <td>04:08</td>\n",
       "    </tr>\n",
       "    <tr>\n",
       "      <td>1</td>\n",
       "      <td>3.961019</td>\n",
       "      <td>3.918523</td>\n",
       "      <td>0.317809</td>\n",
       "      <td>50.326038</td>\n",
       "      <td>04:08</td>\n",
       "    </tr>\n",
       "    <tr>\n",
       "      <td>2</td>\n",
       "      <td>4.001808</td>\n",
       "      <td>3.918427</td>\n",
       "      <td>0.320676</td>\n",
       "      <td>50.321224</td>\n",
       "      <td>04:08</td>\n",
       "    </tr>\n",
       "    <tr>\n",
       "      <td>3</td>\n",
       "      <td>3.966040</td>\n",
       "      <td>3.941689</td>\n",
       "      <td>0.319157</td>\n",
       "      <td>51.505535</td>\n",
       "      <td>04:06</td>\n",
       "    </tr>\n",
       "    <tr>\n",
       "      <td>4</td>\n",
       "      <td>3.981569</td>\n",
       "      <td>3.893301</td>\n",
       "      <td>0.322351</td>\n",
       "      <td>49.072586</td>\n",
       "      <td>04:06</td>\n",
       "    </tr>\n",
       "    <tr>\n",
       "      <td>5</td>\n",
       "      <td>4.071902</td>\n",
       "      <td>3.928588</td>\n",
       "      <td>0.317896</td>\n",
       "      <td>50.835155</td>\n",
       "      <td>04:08</td>\n",
       "    </tr>\n",
       "    <tr>\n",
       "      <td>6</td>\n",
       "      <td>3.979166</td>\n",
       "      <td>3.903210</td>\n",
       "      <td>0.322033</td>\n",
       "      <td>49.561306</td>\n",
       "      <td>04:07</td>\n",
       "    </tr>\n",
       "    <tr>\n",
       "      <td>7</td>\n",
       "      <td>4.063495</td>\n",
       "      <td>3.933284</td>\n",
       "      <td>0.315694</td>\n",
       "      <td>51.074444</td>\n",
       "      <td>04:08</td>\n",
       "    </tr>\n",
       "    <tr>\n",
       "      <td>8</td>\n",
       "      <td>4.007704</td>\n",
       "      <td>3.905459</td>\n",
       "      <td>0.322887</td>\n",
       "      <td>49.672859</td>\n",
       "      <td>04:06</td>\n",
       "    </tr>\n",
       "    <tr>\n",
       "      <td>9</td>\n",
       "      <td>3.987952</td>\n",
       "      <td>3.915366</td>\n",
       "      <td>0.322106</td>\n",
       "      <td>50.167450</td>\n",
       "      <td>04:07</td>\n",
       "    </tr>\n",
       "  </tbody>\n",
       "</table>"
      ],
      "text/plain": [
       "<IPython.core.display.HTML object>"
      ]
     },
     "metadata": {},
     "output_type": "display_data"
    },
    {
     "name": "stdout",
     "output_type": "stream",
     "text": [
      "No improvement since epoch 4: early stopping\n"
     ]
    }
   ],
   "source": [
    "#learn.fit_one_cycle(1, 8e-2) #0.491\n",
    "learn.fit(n_epoch=200, lr=5e-2, cbs=EarlyStoppingCallback(monitor='accuracy', min_delta=0.001, patience=5))"
   ]
  },
  {
   "cell_type": "code",
   "execution_count": 11,
   "id": "broadband-ballot",
   "metadata": {},
   "outputs": [],
   "source": [
    "#learn.save_encoder('lm_blmbrg_nightly_head')"
   ]
  },
  {
   "cell_type": "code",
   "execution_count": 12,
   "id": "empirical-vision",
   "metadata": {},
   "outputs": [],
   "source": [
    "learn.unfreeze()"
   ]
  },
  {
   "cell_type": "code",
   "execution_count": 13,
   "id": "boolean-berkeley",
   "metadata": {},
   "outputs": [],
   "source": [
    "#learn.lr_find() #lr_steep=9.999999747378752e-06"
   ]
  },
  {
   "cell_type": "code",
   "execution_count": 14,
   "id": "patient-start",
   "metadata": {},
   "outputs": [
    {
     "data": {
      "text/html": [
       "<table border=\"1\" class=\"dataframe\">\n",
       "  <thead>\n",
       "    <tr style=\"text-align: left;\">\n",
       "      <th>epoch</th>\n",
       "      <th>train_loss</th>\n",
       "      <th>valid_loss</th>\n",
       "      <th>accuracy</th>\n",
       "      <th>perplexity</th>\n",
       "      <th>time</th>\n",
       "    </tr>\n",
       "  </thead>\n",
       "  <tbody>\n",
       "    <tr>\n",
       "      <td>0</td>\n",
       "      <td>3.153014</td>\n",
       "      <td>3.013430</td>\n",
       "      <td>0.427367</td>\n",
       "      <td>20.357107</td>\n",
       "      <td>04:36</td>\n",
       "    </tr>\n",
       "    <tr>\n",
       "      <td>1</td>\n",
       "      <td>3.008727</td>\n",
       "      <td>2.936853</td>\n",
       "      <td>0.438123</td>\n",
       "      <td>18.856411</td>\n",
       "      <td>04:35</td>\n",
       "    </tr>\n",
       "    <tr>\n",
       "      <td>2</td>\n",
       "      <td>2.930578</td>\n",
       "      <td>2.896875</td>\n",
       "      <td>0.445367</td>\n",
       "      <td>18.117443</td>\n",
       "      <td>04:36</td>\n",
       "    </tr>\n",
       "    <tr>\n",
       "      <td>3</td>\n",
       "      <td>2.876529</td>\n",
       "      <td>2.881521</td>\n",
       "      <td>0.447488</td>\n",
       "      <td>17.841393</td>\n",
       "      <td>04:37</td>\n",
       "    </tr>\n",
       "    <tr>\n",
       "      <td>4</td>\n",
       "      <td>2.809317</td>\n",
       "      <td>2.858087</td>\n",
       "      <td>0.452235</td>\n",
       "      <td>17.428148</td>\n",
       "      <td>04:38</td>\n",
       "    </tr>\n",
       "    <tr>\n",
       "      <td>5</td>\n",
       "      <td>2.881275</td>\n",
       "      <td>2.847013</td>\n",
       "      <td>0.455736</td>\n",
       "      <td>17.236225</td>\n",
       "      <td>04:38</td>\n",
       "    </tr>\n",
       "    <tr>\n",
       "      <td>6</td>\n",
       "      <td>2.794249</td>\n",
       "      <td>2.843694</td>\n",
       "      <td>0.455232</td>\n",
       "      <td>17.179104</td>\n",
       "      <td>04:38</td>\n",
       "    </tr>\n",
       "    <tr>\n",
       "      <td>7</td>\n",
       "      <td>2.713715</td>\n",
       "      <td>2.837992</td>\n",
       "      <td>0.457106</td>\n",
       "      <td>17.081434</td>\n",
       "      <td>04:39</td>\n",
       "    </tr>\n",
       "    <tr>\n",
       "      <td>8</td>\n",
       "      <td>2.655783</td>\n",
       "      <td>2.826458</td>\n",
       "      <td>0.459309</td>\n",
       "      <td>16.885542</td>\n",
       "      <td>04:38</td>\n",
       "    </tr>\n",
       "    <tr>\n",
       "      <td>9</td>\n",
       "      <td>2.727140</td>\n",
       "      <td>2.824354</td>\n",
       "      <td>0.460277</td>\n",
       "      <td>16.850063</td>\n",
       "      <td>04:37</td>\n",
       "    </tr>\n",
       "    <tr>\n",
       "      <td>10</td>\n",
       "      <td>2.762910</td>\n",
       "      <td>2.825718</td>\n",
       "      <td>0.460074</td>\n",
       "      <td>16.873051</td>\n",
       "      <td>04:36</td>\n",
       "    </tr>\n",
       "    <tr>\n",
       "      <td>11</td>\n",
       "      <td>2.674394</td>\n",
       "      <td>2.819566</td>\n",
       "      <td>0.461800</td>\n",
       "      <td>16.769567</td>\n",
       "      <td>04:36</td>\n",
       "    </tr>\n",
       "    <tr>\n",
       "      <td>12</td>\n",
       "      <td>2.664333</td>\n",
       "      <td>2.815447</td>\n",
       "      <td>0.462176</td>\n",
       "      <td>16.700632</td>\n",
       "      <td>04:36</td>\n",
       "    </tr>\n",
       "    <tr>\n",
       "      <td>13</td>\n",
       "      <td>2.707867</td>\n",
       "      <td>2.815001</td>\n",
       "      <td>0.463084</td>\n",
       "      <td>16.693190</td>\n",
       "      <td>04:37</td>\n",
       "    </tr>\n",
       "    <tr>\n",
       "      <td>14</td>\n",
       "      <td>2.660184</td>\n",
       "      <td>2.813657</td>\n",
       "      <td>0.463718</td>\n",
       "      <td>16.670776</td>\n",
       "      <td>04:38</td>\n",
       "    </tr>\n",
       "    <tr>\n",
       "      <td>15</td>\n",
       "      <td>2.668337</td>\n",
       "      <td>2.809635</td>\n",
       "      <td>0.464121</td>\n",
       "      <td>16.603855</td>\n",
       "      <td>04:38</td>\n",
       "    </tr>\n",
       "    <tr>\n",
       "      <td>16</td>\n",
       "      <td>2.591069</td>\n",
       "      <td>2.816006</td>\n",
       "      <td>0.463709</td>\n",
       "      <td>16.709980</td>\n",
       "      <td>04:37</td>\n",
       "    </tr>\n",
       "    <tr>\n",
       "      <td>17</td>\n",
       "      <td>2.572852</td>\n",
       "      <td>2.819177</td>\n",
       "      <td>0.463561</td>\n",
       "      <td>16.763056</td>\n",
       "      <td>04:36</td>\n",
       "    </tr>\n",
       "    <tr>\n",
       "      <td>18</td>\n",
       "      <td>2.630633</td>\n",
       "      <td>2.813331</td>\n",
       "      <td>0.464567</td>\n",
       "      <td>16.665333</td>\n",
       "      <td>04:37</td>\n",
       "    </tr>\n",
       "    <tr>\n",
       "      <td>19</td>\n",
       "      <td>2.580093</td>\n",
       "      <td>2.812747</td>\n",
       "      <td>0.464880</td>\n",
       "      <td>16.655609</td>\n",
       "      <td>04:40</td>\n",
       "    </tr>\n",
       "    <tr>\n",
       "      <td>20</td>\n",
       "      <td>2.613656</td>\n",
       "      <td>2.817222</td>\n",
       "      <td>0.464030</td>\n",
       "      <td>16.730307</td>\n",
       "      <td>04:38</td>\n",
       "    </tr>\n",
       "  </tbody>\n",
       "</table>"
      ],
      "text/plain": [
       "<IPython.core.display.HTML object>"
      ]
     },
     "metadata": {},
     "output_type": "display_data"
    },
    {
     "name": "stdout",
     "output_type": "stream",
     "text": [
      "No improvement since epoch 15: early stopping\n"
     ]
    }
   ],
   "source": [
    "#learn.fit_one_cycle(5, 3e-5) #0.483\n",
    "learn.fit(n_epoch=200, lr=slice(5e-3/(2.6**4),5e-3), cbs=EarlyStoppingCallback(monitor='accuracy', min_delta=0.001, patience=5))\n",
    "learn.freeze()\n",
    "#learn.save_encoder('lm_blmbrg_nightly_body')"
   ]
  },
  {
   "cell_type": "code",
   "execution_count": 15,
   "id": "greater-teens",
   "metadata": {},
   "outputs": [],
   "source": [
    "learn.save_encoder('lm_blmbrg_nightly_body_enc')\n",
    "learn.save('lm_blmbrg_nightly_body')"
   ]
  },
  {
   "cell_type": "code",
   "execution_count": 16,
   "id": "quantitative-replication",
   "metadata": {},
   "outputs": [
    {
     "data": {
      "image/png": "[encoded data removed]",
      "text/plain": [
       "<Figure size 432x288 with 1 Axes>"
      ]
     },
     "metadata": {
      "needs_background": "light"
     },
     "output_type": "display_data"
    }
   ],
   "source": [
    "learn.recorder.plot_loss(with_valid = True)"
   ]
  },
  {
   "cell_type": "code",
   "execution_count": 17,
   "id": "adjusted-employment",
   "metadata": {},
   "outputs": [
    {
     "data": {
      "text/html": [],
      "text/plain": [
       "<IPython.core.display.HTML object>"
      ]
     },
     "metadata": {},
     "output_type": "display_data"
    },
    {
     "data": {
      "text/html": [],
      "text/plain": [
       "<IPython.core.display.HTML object>"
      ]
     },
     "metadata": {},
     "output_type": "display_data"
    },
    {
     "name": "stdout",
     "output_type": "stream",
     "text": [
      "The company launched with a \n",
      " partnership with Mitsubishi UFJ Financial Group Inc . to acquire \n",
      " Sumitomo Heavy Industries Ltd . , a Japanese maker of goods \n",
      " related to residential projects . Mitsubishi Heavy Industries Ltd . ,\n",
      "\n",
      "The company launched with a \n",
      " chairman at the Stockholm International Peace Talks Co. in a \n",
      " bid to find a buyer , the Financial Times reported , without saying \n",
      " where it got the information . The Swedish company will take years to expand\n"
     ]
    }
   ],
   "source": [
    "print(gen_sentence(\"The company launched with\"))"
   ]
  },
  {
   "cell_type": "markdown",
   "id": "executed-diabetes",
   "metadata": {},
   "source": [
    "#### Finetune language model on train and test data\n",
    "First load our challenge data:"
   ]
  },
  {
   "cell_type": "code",
   "execution_count": 45,
   "id": "seven-presence",
   "metadata": {},
   "outputs": [
    {
     "name": "stderr",
     "output_type": "stream",
     "text": [
      "<ipython-input-4-758c5916f40e>:3: FutureWarning: The default value of regex will change from True to False in a future version.\n",
      "  in_df['text'] = in_df['text'].str.replace(r'\\w*\\d\\w*', '')\n",
      "<ipython-input-4-758c5916f40e>:5: FutureWarning: The default value of regex will change from True to False in a future version.\n",
      "  in_df['text'] = in_df['text'].str.replace(r'\\w*[\\$\\#\\&\\@\\~\\*\\%\\;\\/]\\w*', '')\n"
     ]
    }
   ],
   "source": [
    "clean_text(df_all)"
   ]
  },
  {
   "cell_type": "code",
   "execution_count": 46,
   "id": "other-consciousness",
   "metadata": {},
   "outputs": [
    {
     "data": {
      "text/html": [],
      "text/plain": [
       "<IPython.core.display.HTML object>"
      ]
     },
     "metadata": {},
     "output_type": "display_data"
    },
    {
     "name": "stdout",
     "output_type": "stream",
     "text": [
      "32848\n"
     ]
    }
   ],
   "source": [
    "data_lm = TextDataLoaders.from_df(df_all, is_lm=True, text_vocab = data_econ.vocab, valid_pct = 0.1, text_col='text', label_col=\"sentiment\")\n",
    "print(len(data_lm.vocab)) #"
   ]
  },
  {
   "cell_type": "markdown",
   "id": "single-condition",
   "metadata": {},
   "source": [
    "Then let's extend vocab from pretrained economic LM with our new data:"
   ]
  },
  {
   "cell_type": "code",
   "execution_count": 47,
   "id": "packed-appointment",
   "metadata": {},
   "outputs": [
    {
     "data": {
      "text/plain": [
       "<fastai.text.learner.LMLearner at 0x7f022c470d30>"
      ]
     },
     "execution_count": 47,
     "metadata": {},
     "output_type": "execute_result"
    }
   ],
   "source": [
    "learn = language_model_learner(data_lm, AWD_LSTM, drop_mult=0.5, metrics=[accuracy, Perplexity()], wd=0.1).to_fp16()\n",
    "learn.load_encoder('lm_blmbrg_nightly_body_enc')\n",
    "learn.load('lm_blmbrg_nightly_body')"
   ]
  },
  {
   "cell_type": "code",
   "execution_count": 48,
   "id": "returning-princeton",
   "metadata": {},
   "outputs": [
    {
     "data": {
      "text/html": [],
      "text/plain": [
       "<IPython.core.display.HTML object>"
      ]
     },
     "metadata": {},
     "output_type": "display_data"
    },
    {
     "data": {
      "text/plain": [
       "SuggestedLRs(lr_min=0.025118863582611083, lr_steep=0.02290867641568184)"
      ]
     },
     "execution_count": 48,
     "metadata": {},
     "output_type": "execute_result"
    },
    {
     "data": {
      "image/png": "[encoded data removed]",
      "text/plain": [
       "<Figure size 432x288 with 1 Axes>"
      ]
     },
     "metadata": {
      "needs_background": "light"
     },
     "output_type": "display_data"
    }
   ],
   "source": [
    "learn.lr_find() #lr_steep=0.0478630"
   ]
  },
  {
   "cell_type": "code",
   "execution_count": 49,
   "id": "competent-community",
   "metadata": {},
   "outputs": [
    {
     "data": {
      "text/html": [
       "<table border=\"1\" class=\"dataframe\">\n",
       "  <thead>\n",
       "    <tr style=\"text-align: left;\">\n",
       "      <th>epoch</th>\n",
       "      <th>train_loss</th>\n",
       "      <th>valid_loss</th>\n",
       "      <th>accuracy</th>\n",
       "      <th>perplexity</th>\n",
       "      <th>time</th>\n",
       "    </tr>\n",
       "  </thead>\n",
       "  <tbody>\n",
       "    <tr>\n",
       "      <td>0</td>\n",
       "      <td>4.469747</td>\n",
       "      <td>3.975424</td>\n",
       "      <td>0.316982</td>\n",
       "      <td>53.272701</td>\n",
       "      <td>00:14</td>\n",
       "    </tr>\n",
       "  </tbody>\n",
       "</table>"
      ],
      "text/plain": [
       "<IPython.core.display.HTML object>"
      ]
     },
     "metadata": {},
     "output_type": "display_data"
    }
   ],
   "source": [
    "learn.fit_one_cycle(1, 4e-2)"
   ]
  },
  {
   "cell_type": "code",
   "execution_count": 50,
   "id": "circular-niagara",
   "metadata": {},
   "outputs": [],
   "source": [
    "learn.unfreeze()"
   ]
  },
  {
   "cell_type": "code",
   "execution_count": 51,
   "id": "coral-logistics",
   "metadata": {},
   "outputs": [
    {
     "data": {
      "text/html": [],
      "text/plain": [
       "<IPython.core.display.HTML object>"
      ]
     },
     "metadata": {},
     "output_type": "display_data"
    },
    {
     "data": {
      "text/plain": [
       "SuggestedLRs(lr_min=0.0002511886414140463, lr_steep=1.3182567499825382e-06)"
      ]
     },
     "execution_count": 51,
     "metadata": {},
     "output_type": "execute_result"
    },
    {
     "data": {
      "image/png": "[encoded data removed]",
      "text/plain": [
       "<Figure size 432x288 with 1 Axes>"
      ]
     },
     "metadata": {
      "needs_background": "light"
     },
     "output_type": "display_data"
    }
   ],
   "source": [
    "learn.lr_find() #lr_steep=3.981071586167673e-06"
   ]
  },
  {
   "cell_type": "code",
   "execution_count": 52,
   "id": "according-shark",
   "metadata": {},
   "outputs": [
    {
     "data": {
      "text/html": [
       "<table border=\"1\" class=\"dataframe\">\n",
       "  <thead>\n",
       "    <tr style=\"text-align: left;\">\n",
       "      <th>epoch</th>\n",
       "      <th>train_loss</th>\n",
       "      <th>valid_loss</th>\n",
       "      <th>accuracy</th>\n",
       "      <th>perplexity</th>\n",
       "      <th>time</th>\n",
       "    </tr>\n",
       "  </thead>\n",
       "  <tbody>\n",
       "    <tr>\n",
       "      <td>0</td>\n",
       "      <td>3.518885</td>\n",
       "      <td>3.759420</td>\n",
       "      <td>0.348761</td>\n",
       "      <td>42.923531</td>\n",
       "      <td>00:15</td>\n",
       "    </tr>\n",
       "  </tbody>\n",
       "</table>"
      ],
      "text/plain": [
       "<IPython.core.display.HTML object>"
      ]
     },
     "metadata": {},
     "output_type": "display_data"
    }
   ],
   "source": [
    "learn.fit_one_cycle(1, 4e-3)"
   ]
  },
  {
   "cell_type": "code",
   "execution_count": 53,
   "id": "still-healing",
   "metadata": {},
   "outputs": [
    {
     "data": {
      "image/png": "[encoded data removed]",
      "text/plain": [
       "<Figure size 432x288 with 1 Axes>"
      ]
     },
     "metadata": {
      "needs_background": "light"
     },
     "output_type": "display_data"
    }
   ],
   "source": [
    "learn.recorder.plot_loss(with_valid = True)"
   ]
  },
  {
   "cell_type": "code",
   "execution_count": 54,
   "id": "incoming-adelaide",
   "metadata": {},
   "outputs": [],
   "source": [
    "learn.freeze()\n",
    "learn.save_encoder('lme_blmbrg_finetuned_enc')\n",
    "learn.save('lme_blmbrg_finetuned')"
   ]
  },
  {
   "cell_type": "markdown",
   "id": "developing-cable",
   "metadata": {},
   "source": [
    "#### Check generative performance"
   ]
  },
  {
   "cell_type": "code",
   "execution_count": 55,
   "id": "efficient-jimmy",
   "metadata": {},
   "outputs": [
    {
     "data": {
      "text/html": [],
      "text/plain": [
       "<IPython.core.display.HTML object>"
      ]
     },
     "metadata": {},
     "output_type": "display_data"
    },
    {
     "data": {
      "text/html": [],
      "text/plain": [
       "<IPython.core.display.HTML object>"
      ]
     },
     "metadata": {},
     "output_type": "display_data"
    },
    {
     "name": "stdout",
     "output_type": "stream",
     "text": [
      "The company launched with Alma Media Corporation to acquire the Ultra Pro s Market Class Magazine Suite , located in Helsinki , in Helsinki , Finland . i believe i am why i believe this stock is worth feel good for\n",
      "\n",
      "The company launched with the Finnish Lamarre General Meeting , the Finnish Le Centre is a subsidiary of Nordea Bank Finland Plc , Nordea Bank ( STO : STO ) , Nordea Bank AB ,\n"
     ]
    }
   ],
   "source": [
    "print(gen_sentence(\"The company launched with\"))"
   ]
  }
 ],
 "metadata": {
  "kernelspec": {
   "display_name": "Python 3",
   "language": "python",
   "name": "python3"
  },
  "language_info": {
   "codemirror_mode": {
    "name": "ipython",
    "version": 3
   },
   "file_extension": ".py",
   "mimetype": "text/x-python",
   "name": "python",
   "nbconvert_exporter": "python",
   "pygments_lexer": "ipython3",
   "version": "3.8.7"
  }
 },
 "nbformat": 4,
 "nbformat_minor": 5
}
