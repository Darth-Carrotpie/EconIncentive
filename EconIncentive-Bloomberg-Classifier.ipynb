{
 "cells": [
  {
   "cell_type": "code",
   "execution_count": 1,
   "id": "artistic-public",
   "metadata": {},
   "outputs": [],
   "source": [
    "from fastai.text.all import *\n",
    "import pandas as pd\n",
    "cols = [\"sentiment\",\"text\"]\n",
    "df = pd.read_csv(\"data/all-data.csv\", names =cols, encoding = \"ISO-8859-1\")\n",
    "df_test = pd.read_csv(\"data/public-test-set.csv\", names = cols, encoding = \"ISO-8859-1\")\n",
    "df_all = pd.concat([df, df_test])"
   ]
  },
  {
   "cell_type": "code",
   "execution_count": 2,
   "id": "brazilian-pepper",
   "metadata": {},
   "outputs": [],
   "source": [
    "np.warnings.filterwarnings('ignore', category=np.VisibleDeprecationWarning) "
   ]
  },
  {
   "cell_type": "code",
   "execution_count": 4,
   "id": "driving-genre",
   "metadata": {},
   "outputs": [],
   "source": [
    "def clean_text(in_df):\n",
    "    #Remove words which have numbers in them\n",
    "    in_df['text'] = in_df['text'].str.replace(r'\\w*\\d\\w*', '')\n",
    "    #Remove words which have special characters, except newline, space\n",
    "    in_df['text'] = in_df['text'].str.replace(r'\\w*[\\$\\#\\&\\@\\~\\*\\%\\;\\/]\\w*', '')"
   ]
  },
  {
   "cell_type": "markdown",
   "id": "upper-catholic",
   "metadata": {},
   "source": [
    "### Train a Classifier"
   ]
  },
  {
   "cell_type": "code",
   "execution_count": 56,
   "id": "married-dynamics",
   "metadata": {},
   "outputs": [],
   "source": [
    "df['is_valid'] = False\n",
    "df_test['is_valid'] = True"
   ]
  },
  {
   "cell_type": "code",
   "execution_count": 90,
   "id": "aware-hygiene",
   "metadata": {},
   "outputs": [],
   "source": [
    "df_all = pd.concat([df, df_test])"
   ]
  },
  {
   "cell_type": "code",
   "execution_count": 91,
   "id": "pursuant-active",
   "metadata": {},
   "outputs": [
    {
     "name": "stderr",
     "output_type": "stream",
     "text": [
      "<ipython-input-4-758c5916f40e>:3: FutureWarning: The default value of regex will change from True to False in a future version.\n",
      "  in_df['text'] = in_df['text'].str.replace(r'\\w*\\d\\w*', '')\n",
      "<ipython-input-4-758c5916f40e>:5: FutureWarning: The default value of regex will change from True to False in a future version.\n",
      "  in_df['text'] = in_df['text'].str.replace(r'\\w*[\\$\\#\\&\\@\\~\\*\\%\\;\\/]\\w*', '')\n"
     ]
    }
   ],
   "source": [
    "clean_text(df_all)"
   ]
  },
  {
   "cell_type": "code",
   "execution_count": 109,
   "id": "incorrect-mozambique",
   "metadata": {},
   "outputs": [
    {
     "data": {
      "text/html": [],
      "text/plain": [
       "<IPython.core.display.HTML object>"
      ]
     },
     "metadata": {},
     "output_type": "display_data"
    }
   ],
   "source": [
    "data_clas = TextDataLoaders.from_df(df_all, seed = 7, text_col='text', label_col=\"sentiment\", valid_col='is_valid', text_vocab=data_lm.vocab)\n",
    "\n",
    "learn = text_classifier_learner(data_clas, AWD_LSTM, drop_mult=0.5, metrics=accuracy)\n",
    "learn = learn.load_encoder('lme_blmbrg_finetuned') #also 'lme_finetuned'"
   ]
  },
  {
   "cell_type": "code",
   "execution_count": 110,
   "id": "demonstrated-politics",
   "metadata": {},
   "outputs": [
    {
     "data": {
      "text/html": [],
      "text/plain": [
       "<IPython.core.display.HTML object>"
      ]
     },
     "metadata": {},
     "output_type": "display_data"
    },
    {
     "data": {
      "text/plain": [
       "SuggestedLRs(lr_min=0.014454397559165954, lr_steep=7.585775847473997e-07)"
      ]
     },
     "execution_count": 110,
     "metadata": {},
     "output_type": "execute_result"
    },
    {
     "data": {
      "image/png": "[encoded data removed]",
      "text/plain": [
       "<Figure size 432x288 with 1 Axes>"
      ]
     },
     "metadata": {
      "needs_background": "light"
     },
     "output_type": "display_data"
    }
   ],
   "source": [
    "learn.lr_find() # ~ 1e-2"
   ]
  },
  {
   "cell_type": "markdown",
   "id": "perfect-technology",
   "metadata": {},
   "source": [
    "#### Learning\n",
    "Gradual unfreezing makes a lot of difference!"
   ]
  },
  {
   "cell_type": "code",
   "execution_count": 111,
   "id": "political-relay",
   "metadata": {},
   "outputs": [
    {
     "data": {
      "text/html": [
       "<table border=\"1\" class=\"dataframe\">\n",
       "  <thead>\n",
       "    <tr style=\"text-align: left;\">\n",
       "      <th>epoch</th>\n",
       "      <th>train_loss</th>\n",
       "      <th>valid_loss</th>\n",
       "      <th>accuracy</th>\n",
       "      <th>time</th>\n",
       "    </tr>\n",
       "  </thead>\n",
       "  <tbody>\n",
       "    <tr>\n",
       "      <td>0</td>\n",
       "      <td>0.889273</td>\n",
       "      <td>0.844193</td>\n",
       "      <td>0.604920</td>\n",
       "      <td>00:05</td>\n",
       "    </tr>\n",
       "    <tr>\n",
       "      <td>1</td>\n",
       "      <td>0.799612</td>\n",
       "      <td>0.806843</td>\n",
       "      <td>0.632028</td>\n",
       "      <td>00:05</td>\n",
       "    </tr>\n",
       "  </tbody>\n",
       "</table>"
      ],
      "text/plain": [
       "<IPython.core.display.HTML object>"
      ]
     },
     "metadata": {},
     "output_type": "display_data"
    }
   ],
   "source": [
    "learn.fit_one_cycle(5, slice(1e-2/(2.6**4),1e-2))\n",
    "#learn.fit(n_epoch=200, lr=2e-2, cbs=EarlyStoppingCallback(monitor='valid_loss', min_delta=0.01, patience=4))"
   ]
  },
  {
   "cell_type": "code",
   "execution_count": 112,
   "id": "detected-proposition",
   "metadata": {},
   "outputs": [
    {
     "data": {
      "text/html": [],
      "text/plain": [
       "<IPython.core.display.HTML object>"
      ]
     },
     "metadata": {},
     "output_type": "display_data"
    },
    {
     "data": {
      "text/plain": [
       "SuggestedLRs(lr_min=2.2908675418875645e-07, lr_steep=1.0964781722577754e-06)"
      ]
     },
     "execution_count": 112,
     "metadata": {},
     "output_type": "execute_result"
    },
    {
     "data": {
      "image/png": "[encoded data removed]",
      "text/plain": [
       "<Figure size 432x288 with 1 Axes>"
      ]
     },
     "metadata": {
      "needs_background": "light"
     },
     "output_type": "display_data"
    }
   ],
   "source": [
    "learn.freeze_to(-2)\n",
    "learn.lr_find()"
   ]
  },
  {
   "cell_type": "code",
   "execution_count": 113,
   "id": "directed-clone",
   "metadata": {},
   "outputs": [
    {
     "data": {
      "text/html": [
       "<table border=\"1\" class=\"dataframe\">\n",
       "  <thead>\n",
       "    <tr style=\"text-align: left;\">\n",
       "      <th>epoch</th>\n",
       "      <th>train_loss</th>\n",
       "      <th>valid_loss</th>\n",
       "      <th>accuracy</th>\n",
       "      <th>time</th>\n",
       "    </tr>\n",
       "  </thead>\n",
       "  <tbody>\n",
       "    <tr>\n",
       "      <td>0</td>\n",
       "      <td>0.773110</td>\n",
       "      <td>0.806584</td>\n",
       "      <td>0.632028</td>\n",
       "      <td>00:05</td>\n",
       "    </tr>\n",
       "    <tr>\n",
       "      <td>1</td>\n",
       "      <td>0.772542</td>\n",
       "      <td>0.805563</td>\n",
       "      <td>0.628012</td>\n",
       "      <td>00:05</td>\n",
       "    </tr>\n",
       "  </tbody>\n",
       "</table>"
      ],
      "text/plain": [
       "<IPython.core.display.HTML object>"
      ]
     },
     "metadata": {},
     "output_type": "display_data"
    }
   ],
   "source": [
    "learn.fit_one_cycle(1, slice(1e-6/(2.6**4),1e-6))"
   ]
  },
  {
   "cell_type": "code",
   "execution_count": 114,
   "id": "technological-resort",
   "metadata": {},
   "outputs": [
    {
     "data": {
      "text/html": [],
      "text/plain": [
       "<IPython.core.display.HTML object>"
      ]
     },
     "metadata": {},
     "output_type": "display_data"
    },
    {
     "data": {
      "text/plain": [
       "SuggestedLRs(lr_min=3.311311302240938e-05, lr_steep=1.5848931980144698e-06)"
      ]
     },
     "execution_count": 114,
     "metadata": {},
     "output_type": "execute_result"
    },
    {
     "data": {
      "image/png": "[encoded data removed]",
      "text/plain": [
       "<Figure size 432x288 with 1 Axes>"
      ]
     },
     "metadata": {
      "needs_background": "light"
     },
     "output_type": "display_data"
    }
   ],
   "source": [
    "learn.freeze_to(-3)\n",
    "learn.lr_find()"
   ]
  },
  {
   "cell_type": "code",
   "execution_count": 115,
   "id": "quality-saint",
   "metadata": {},
   "outputs": [
    {
     "data": {
      "text/html": [
       "<table border=\"1\" class=\"dataframe\">\n",
       "  <thead>\n",
       "    <tr style=\"text-align: left;\">\n",
       "      <th>epoch</th>\n",
       "      <th>train_loss</th>\n",
       "      <th>valid_loss</th>\n",
       "      <th>accuracy</th>\n",
       "      <th>time</th>\n",
       "    </tr>\n",
       "  </thead>\n",
       "  <tbody>\n",
       "    <tr>\n",
       "      <td>0</td>\n",
       "      <td>0.766461</td>\n",
       "      <td>0.798827</td>\n",
       "      <td>0.627008</td>\n",
       "      <td>00:06</td>\n",
       "    </tr>\n",
       "    <tr>\n",
       "      <td>1</td>\n",
       "      <td>0.756232</td>\n",
       "      <td>0.798161</td>\n",
       "      <td>0.633032</td>\n",
       "      <td>00:06</td>\n",
       "    </tr>\n",
       "    <tr>\n",
       "      <td>2</td>\n",
       "      <td>0.764927</td>\n",
       "      <td>0.806418</td>\n",
       "      <td>0.625502</td>\n",
       "      <td>00:06</td>\n",
       "    </tr>\n",
       "  </tbody>\n",
       "</table>"
      ],
      "text/plain": [
       "<IPython.core.display.HTML object>"
      ]
     },
     "metadata": {},
     "output_type": "display_data"
    }
   ],
   "source": [
    "learn.fit_one_cycle(2, slice(2e-5/(2.6**4),2e-5))"
   ]
  },
  {
   "cell_type": "code",
   "execution_count": 116,
   "id": "adaptive-disease",
   "metadata": {},
   "outputs": [
    {
     "data": {
      "text/html": [],
      "text/plain": [
       "<IPython.core.display.HTML object>"
      ]
     },
     "metadata": {},
     "output_type": "display_data"
    },
    {
     "data": {
      "text/plain": [
       "SuggestedLRs(lr_min=0.00014454397605732084, lr_steep=6.309573450380412e-07)"
      ]
     },
     "execution_count": 116,
     "metadata": {},
     "output_type": "execute_result"
    },
    {
     "data": {
      "image/png": "[encoded data removed]",
      "text/plain": [
       "<Figure size 432x288 with 1 Axes>"
      ]
     },
     "metadata": {
      "needs_background": "light"
     },
     "output_type": "display_data"
    }
   ],
   "source": [
    "learn.unfreeze()\n",
    "learn.lr_find()"
   ]
  },
  {
   "cell_type": "code",
   "execution_count": 117,
   "id": "regional-morocco",
   "metadata": {},
   "outputs": [
    {
     "data": {
      "text/html": [
       "<table border=\"1\" class=\"dataframe\">\n",
       "  <thead>\n",
       "    <tr style=\"text-align: left;\">\n",
       "      <th>epoch</th>\n",
       "      <th>train_loss</th>\n",
       "      <th>valid_loss</th>\n",
       "      <th>accuracy</th>\n",
       "      <th>time</th>\n",
       "    </tr>\n",
       "  </thead>\n",
       "  <tbody>\n",
       "    <tr>\n",
       "      <td>0</td>\n",
       "      <td>0.748636</td>\n",
       "      <td>0.804316</td>\n",
       "      <td>0.634036</td>\n",
       "      <td>00:08</td>\n",
       "    </tr>\n",
       "    <tr>\n",
       "      <td>1</td>\n",
       "      <td>0.758426</td>\n",
       "      <td>0.797173</td>\n",
       "      <td>0.631024</td>\n",
       "      <td>00:08</td>\n",
       "    </tr>\n",
       "    <tr>\n",
       "      <td>2</td>\n",
       "      <td>0.760907</td>\n",
       "      <td>0.819614</td>\n",
       "      <td>0.633032</td>\n",
       "      <td>00:08</td>\n",
       "    </tr>\n",
       "    <tr>\n",
       "      <td>3</td>\n",
       "      <td>0.759113</td>\n",
       "      <td>0.805191</td>\n",
       "      <td>0.630522</td>\n",
       "      <td>00:08</td>\n",
       "    </tr>\n",
       "  </tbody>\n",
       "</table>"
      ],
      "text/plain": [
       "<IPython.core.display.HTML object>"
      ]
     },
     "metadata": {},
     "output_type": "display_data"
    }
   ],
   "source": [
    "lr = 4e-6\n",
    "learn.fit_one_cycle(4, slice(lr/(2.6**4),lr))\n",
    "learn.freeze()"
   ]
  },
  {
   "cell_type": "code",
   "execution_count": 118,
   "id": "robust-subcommittee",
   "metadata": {},
   "outputs": [],
   "source": [
    "learn.save_encoder('lme_blmbrg_finished')"
   ]
  },
  {
   "cell_type": "code",
   "execution_count": 119,
   "id": "outside-universe",
   "metadata": {},
   "outputs": [
    {
     "data": {
      "text/html": [],
      "text/plain": [
       "<IPython.core.display.HTML object>"
      ]
     },
     "metadata": {},
     "output_type": "display_data"
    },
    {
     "name": "stdout",
     "output_type": "stream",
     "text": [
      "Train Set Accuracy:  0.6305220723152161\n"
     ]
    }
   ],
   "source": [
    "print(\"Train Set Accuracy: \",learn.validate()[1]) #0.592 #0.757"
   ]
  },
  {
   "cell_type": "code",
   "execution_count": 120,
   "id": "sunrise-passenger",
   "metadata": {},
   "outputs": [
    {
     "data": {
      "text/html": [],
      "text/plain": [
       "<IPython.core.display.HTML object>"
      ]
     },
     "metadata": {},
     "output_type": "display_data"
    },
    {
     "data": {
      "image/png": "[encoded data removed]",
      "text/plain": [
       "<Figure size 504x504 with 1 Axes>"
      ]
     },
     "metadata": {
      "needs_background": "light"
     },
     "output_type": "display_data"
    }
   ],
   "source": [
    "interp = ClassificationInterpretation.from_learner(learn)\n",
    "losses, idxs = interp.top_losses()\n",
    "len(data_clas.valid_ds)==len(losses)==len(idxs)\n",
    "interp.plot_confusion_matrix(figsize=(7,7))"
   ]
  },
  {
   "cell_type": "code",
   "execution_count": 121,
   "id": "royal-falls",
   "metadata": {},
   "outputs": [
    {
     "data": {
      "text/html": [
       "<table border=\"1\" class=\"dataframe\">\n",
       "  <thead>\n",
       "    <tr style=\"text-align: right;\">\n",
       "      <th></th>\n",
       "      <th>input</th>\n",
       "      <th>target</th>\n",
       "      <th>predicted</th>\n",
       "      <th>probability</th>\n",
       "      <th>loss</th>\n",
       "    </tr>\n",
       "  </thead>\n",
       "  <tbody>\n",
       "    <tr>\n",
       "      <th>0</th>\n",
       "      <td>xxbos xxmaj the terms of the financing were approved by the xxmaj annual xxmaj general xxmaj meeting of the xxmaj company held on xxmaj june , .</td>\n",
       "      <td>positive</td>\n",
       "      <td>neutral</td>\n",
       "      <td>0.982657253742218</td>\n",
       "      <td>4.622470855712891</td>\n",
       "    </tr>\n",
       "    <tr>\n",
       "      <th>1</th>\n",
       "      <td>xxbos xxmaj known as xxmaj post xxmaj bank , the concept would see xxmaj fidelity xxmaj bank rolling out offices in xxmaj ghana xxmaj post premises , to provide financial services to the people .</td>\n",
       "      <td>positive</td>\n",
       "      <td>neutral</td>\n",
       "      <td>0.96610426902771</td>\n",
       "      <td>4.108880996704102</td>\n",
       "    </tr>\n",
       "    <tr>\n",
       "      <th>2</th>\n",
       "      <td>xxbos xxmaj the itunes - based material will be accessible on xxmaj windows - based or xxmaj macintosh computers and transferable to portable devices , including xxmaj apple 's xxunk .</td>\n",
       "      <td>positive</td>\n",
       "      <td>neutral</td>\n",
       "      <td>0.9724562764167786</td>\n",
       "      <td>4.011155128479004</td>\n",
       "    </tr>\n",
       "    <tr>\n",
       "      <th>3</th>\n",
       "      <td>xxbos added more here</td>\n",
       "      <td>neutral</td>\n",
       "      <td>positive</td>\n",
       "      <td>0.6596812009811401</td>\n",
       "      <td>3.7776241302490234</td>\n",
       "    </tr>\n",
       "    <tr>\n",
       "      <th>4</th>\n",
       "      <td>xxbos closing red</td>\n",
       "      <td>neutral</td>\n",
       "      <td>positive</td>\n",
       "      <td>0.51781165599823</td>\n",
       "      <td>3.4356284141540527</td>\n",
       "    </tr>\n",
       "    <tr>\n",
       "      <th>5</th>\n",
       "      <td>xxbos xxmaj following the transaction , xxmaj xxunk has worldwide rights for xxunk , excluding xxmaj north xxmaj america , xxmaj mexico , xxmaj turkey and south - korea .</td>\n",
       "      <td>positive</td>\n",
       "      <td>neutral</td>\n",
       "      <td>0.9619857668876648</td>\n",
       "      <td>3.4318618774414062</td>\n",
       "    </tr>\n",
       "  </tbody>\n",
       "</table>"
      ],
      "text/plain": [
       "<IPython.core.display.HTML object>"
      ]
     },
     "metadata": {},
     "output_type": "display_data"
    }
   ],
   "source": [
    "interp.plot_top_losses(6, heatmap=True)"
   ]
  },
  {
   "cell_type": "markdown",
   "id": "nervous-dakota",
   "metadata": {},
   "source": [
    "### Accuracy on the Test set"
   ]
  },
  {
   "cell_type": "code",
   "execution_count": 122,
   "id": "addressed-directory",
   "metadata": {},
   "outputs": [
    {
     "data": {
      "text/html": [],
      "text/plain": [
       "<IPython.core.display.HTML object>"
      ]
     },
     "metadata": {},
     "output_type": "display_data"
    }
   ],
   "source": [
    "test_dl = learn.dls.test_dl(df_test)\n",
    "preds, y = learn.get_preds()"
   ]
  },
  {
   "cell_type": "code",
   "execution_count": 123,
   "id": "middle-pharmacy",
   "metadata": {},
   "outputs": [
    {
     "data": {
      "text/html": [],
      "text/plain": [
       "<IPython.core.display.HTML object>"
      ]
     },
     "metadata": {},
     "output_type": "display_data"
    }
   ],
   "source": [
    "dl_test = learn.dls.test_dl(df_test, with_labels=True, drop_last=False)\n",
    "preds = learn.get_preds(dl=dl_test, with_decoded=True)\n",
    "predictions = preds[2]\n",
    "targets = preds[1]"
   ]
  },
  {
   "cell_type": "code",
   "execution_count": 124,
   "id": "vital-henry",
   "metadata": {},
   "outputs": [],
   "source": [
    "def my_accuracy(y_pred, y_true):\n",
    "    equ = [1 if i == t else 0 for i, t in zip(y_pred, y_true)]\n",
    "    return np.mean(equ)"
   ]
  },
  {
   "cell_type": "code",
   "execution_count": 125,
   "id": "photographic-impact",
   "metadata": {},
   "outputs": [
    {
     "name": "stdout",
     "output_type": "stream",
     "text": [
      "Test Set Accuracy:  0.5592028135990621\n"
     ]
    }
   ],
   "source": [
    "acc = my_accuracy(predictions, targets)\n",
    "print(\"Test Set Accuracy: \",acc) #0.723"
   ]
  },
  {
   "cell_type": "code",
   "execution_count": 126,
   "id": "departmental-edmonton",
   "metadata": {},
   "outputs": [
    {
     "data": {
      "text/html": [
       "<table border=\"1\" class=\"dataframe\">\n",
       "  <thead>\n",
       "    <tr style=\"text-align: right;\">\n",
       "      <th></th>\n",
       "      <th>input</th>\n",
       "      <th>target</th>\n",
       "      <th>predicted</th>\n",
       "      <th>probability</th>\n",
       "      <th>loss</th>\n",
       "    </tr>\n",
       "  </thead>\n",
       "  <tbody>\n",
       "    <tr>\n",
       "      <th>0</th>\n",
       "      <td>xxbos xxmaj the terms of the financing were approved by the xxmaj annual xxmaj general xxmaj meeting of the xxmaj company held on xxmaj june , .</td>\n",
       "      <td>positive</td>\n",
       "      <td>neutral</td>\n",
       "      <td>0.982657253742218</td>\n",
       "      <td>4.622470855712891</td>\n",
       "    </tr>\n",
       "    <tr>\n",
       "      <th>1</th>\n",
       "      <td>xxbos xxmaj known as xxmaj post xxmaj bank , the concept would see xxmaj fidelity xxmaj bank rolling out offices in xxmaj ghana xxmaj post premises , to provide financial services to the people .</td>\n",
       "      <td>positive</td>\n",
       "      <td>neutral</td>\n",
       "      <td>0.96610426902771</td>\n",
       "      <td>4.108880996704102</td>\n",
       "    </tr>\n",
       "    <tr>\n",
       "      <th>2</th>\n",
       "      <td>xxbos xxmaj the itunes - based material will be accessible on xxmaj windows - based or xxmaj macintosh computers and transferable to portable devices , including xxmaj apple 's xxunk .</td>\n",
       "      <td>positive</td>\n",
       "      <td>neutral</td>\n",
       "      <td>0.9724562764167786</td>\n",
       "      <td>4.011155128479004</td>\n",
       "    </tr>\n",
       "    <tr>\n",
       "      <th>3</th>\n",
       "      <td>xxbos added more here</td>\n",
       "      <td>neutral</td>\n",
       "      <td>positive</td>\n",
       "      <td>0.6596812009811401</td>\n",
       "      <td>3.7776241302490234</td>\n",
       "    </tr>\n",
       "    <tr>\n",
       "      <th>4</th>\n",
       "      <td>xxbos closing red</td>\n",
       "      <td>neutral</td>\n",
       "      <td>positive</td>\n",
       "      <td>0.51781165599823</td>\n",
       "      <td>3.4356284141540527</td>\n",
       "    </tr>\n",
       "    <tr>\n",
       "      <th>5</th>\n",
       "      <td>xxbos xxmaj following the transaction , xxmaj xxunk has worldwide rights for xxunk , excluding xxmaj north xxmaj america , xxmaj mexico , xxmaj turkey and south - korea .</td>\n",
       "      <td>positive</td>\n",
       "      <td>neutral</td>\n",
       "      <td>0.9619857668876648</td>\n",
       "      <td>3.4318618774414062</td>\n",
       "    </tr>\n",
       "  </tbody>\n",
       "</table>"
      ],
      "text/plain": [
       "<IPython.core.display.HTML object>"
      ]
     },
     "metadata": {},
     "output_type": "display_data"
    }
   ],
   "source": [
    "interp.plot_top_losses(6, heatmap=True)"
   ]
  },
  {
   "cell_type": "code",
   "execution_count": 127,
   "id": "collect-easter",
   "metadata": {},
   "outputs": [
    {
     "data": {
      "text/plain": [
       "array([[ 391,  248,  490],\n",
       "       [ 224,  630,  878],\n",
       "       [ 140,  276, 1841]])"
      ]
     },
     "execution_count": 127,
     "metadata": {},
     "output_type": "execute_result"
    }
   ],
   "source": [
    "from sklearn.metrics import confusion_matrix\n",
    "confusion_matrix(targets, predictions)"
   ]
  },
  {
   "cell_type": "code",
   "execution_count": null,
   "id": "indonesian-calgary",
   "metadata": {},
   "outputs": [],
   "source": []
  }
 ],
 "metadata": {
  "kernelspec": {
   "display_name": "Python 3",
   "language": "python",
   "name": "python3"
  },
  "language_info": {
   "codemirror_mode": {
    "name": "ipython",
    "version": 3
   },
   "file_extension": ".py",
   "mimetype": "text/x-python",
   "name": "python",
   "nbconvert_exporter": "python",
   "pygments_lexer": "ipython3",
   "version": "3.8.7"
  }
 },
 "nbformat": 4,
 "nbformat_minor": 5
}
