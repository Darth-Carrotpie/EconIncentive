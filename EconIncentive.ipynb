{
 "cells": [
  {
   "cell_type": "code",
   "execution_count": 1,
   "id": "artistic-public",
   "metadata": {},
   "outputs": [],
   "source": [
    "from fastai.text.all import *\n",
    "import pandas as pd\n",
    "cols = [\"sentiment\",\"text\"]\n",
    "df = pd.read_csv(\"data/all-data.csv\", names =cols, encoding = \"ISO-8859-1\")\n",
    "df_test = pd.read_csv(\"data/public-test-set.csv\", names = cols, encoding = \"ISO-8859-1\")\n",
    "df_all = pd.concat([df, df_test])"
   ]
  },
  {
   "cell_type": "code",
   "execution_count": 2,
   "id": "brazilian-pepper",
   "metadata": {},
   "outputs": [],
   "source": [
    "np.warnings.filterwarnings('ignore', category=np.VisibleDeprecationWarning) "
   ]
  },
  {
   "cell_type": "code",
   "execution_count": 3,
   "id": "electronic-humor",
   "metadata": {},
   "outputs": [],
   "source": [
    "#helper functions:\n",
    "def gen_sentence(preface_text):\n",
    "    N_WORDS = 50\n",
    "    N_SENTENCES = 2\n",
    "    preds = [learn.predict(preface_text, n_words = N_WORDS, temperature=0.75) \n",
    "             for _ in range(N_SENTENCES)]\n",
    "    return(\"\\n\\n\".join(preds))"
   ]
  },
  {
   "cell_type": "markdown",
   "id": "illegal-joyce",
   "metadata": {},
   "source": [
    "### Language Model"
   ]
  },
  {
   "cell_type": "markdown",
   "id": "eligible-excitement",
   "metadata": {},
   "source": [
    "#### Train on an additional economic corpus"
   ]
  },
  {
   "cell_type": "markdown",
   "id": "dutch-equation",
   "metadata": {},
   "source": [
    "extra datasets for better language model:\n",
    "https://github.com/philipperemy/financial-news-dataset\n",
    "Ding et al. (2014)"
   ]
  },
  {
   "cell_type": "code",
   "execution_count": 4,
   "id": "appreciated-parks",
   "metadata": {},
   "outputs": [
    {
     "name": "stdout",
     "output_type": "stream",
     "text": [
      "(100000, 1)\n"
     ]
    },
    {
     "data": {
      "text/html": [
       "<div>\n",
       "<style scoped>\n",
       "    .dataframe tbody tr th:only-of-type {\n",
       "        vertical-align: middle;\n",
       "    }\n",
       "\n",
       "    .dataframe tbody tr th {\n",
       "        vertical-align: top;\n",
       "    }\n",
       "\n",
       "    .dataframe thead th {\n",
       "        text-align: right;\n",
       "    }\n",
       "</style>\n",
       "<table border=\"1\" class=\"dataframe\">\n",
       "  <thead>\n",
       "    <tr style=\"text-align: right;\">\n",
       "      <th></th>\n",
       "      <th>title</th>\n",
       "    </tr>\n",
       "  </thead>\n",
       "  <tbody>\n",
       "    <tr>\n",
       "      <th>8456325</th>\n",
       "      <td>Saks Fifth Avenue Hosts Prom Shopping Event to Benefit Scholarship America, Inc.</td>\n",
       "    </tr>\n",
       "    <tr>\n",
       "      <th>8456326</th>\n",
       "      <td>REG - Rexam PLC - Director/PDMR Shareholding</td>\n",
       "    </tr>\n",
       "    <tr>\n",
       "      <th>8456327</th>\n",
       "      <td>Ohio Police and Fire Pension Fund Contract for V3 Version 9 Solution</td>\n",
       "    </tr>\n",
       "    <tr>\n",
       "      <th>8456328</th>\n",
       "      <td>Rival factions snub Hamas unity offer</td>\n",
       "    </tr>\n",
       "    <tr>\n",
       "      <th>8456329</th>\n",
       "      <td>Keane UK First to Sign New FSA Technology Agreement</td>\n",
       "    </tr>\n",
       "  </tbody>\n",
       "</table>\n",
       "</div>"
      ],
      "text/plain": [
       "                                                                                    title\n",
       "8456325  Saks Fifth Avenue Hosts Prom Shopping Event to Benefit Scholarship America, Inc.\n",
       "8456326                                      REG - Rexam PLC - Director/PDMR Shareholding\n",
       "8456327              Ohio Police and Fire Pension Fund Contract for V3 Version 9 Solution\n",
       "8456328                                             Rival factions snub Hamas unity offer\n",
       "8456329                               Keane UK First to Sign New FSA Technology Agreement"
      ]
     },
     "execution_count": 4,
     "metadata": {},
     "output_type": "execute_result"
    }
   ],
   "source": [
    "n_to_read = 100000 #500 000\n",
    "df_econ = pd.read_csv('data/out.zip', compression='zip', header=0, sep=',', quotechar='\"')[-n_to_read:]\n",
    "print(df_econ.shape)\n",
    "df_econ.head()"
   ]
  },
  {
   "cell_type": "code",
   "execution_count": 5,
   "id": "earned-mouse",
   "metadata": {},
   "outputs": [
    {
     "data": {
      "text/html": [],
      "text/plain": [
       "<IPython.core.display.HTML object>"
      ]
     },
     "metadata": {},
     "output_type": "display_data"
    },
    {
     "name": "stdout",
     "output_type": "stream",
     "text": [
      "5\n"
     ]
    }
   ],
   "source": [
    "data_econ = TextDataLoaders.from_df(df_econ, is_lm=True, valid_pct = 0.1, text_col='title')\n",
    "print(len(data_econ.vocab))\n",
    "learn = language_model_learner(data_econ, AWD_LSTM, pretrained = True, drop_mult=0.5, metrics=[accuracy, Perplexity()], wd=0.1).to_fp16()"
   ]
  },
  {
   "cell_type": "code",
   "execution_count": 6,
   "id": "honest-decision",
   "metadata": {},
   "outputs": [],
   "source": [
    "#learn.lr_find() #lr_steep=0.083176"
   ]
  },
  {
   "cell_type": "code",
   "execution_count": 7,
   "id": "settled-reminder",
   "metadata": {},
   "outputs": [
    {
     "data": {
      "text/html": [],
      "text/plain": [
       "<IPython.core.display.HTML object>"
      ]
     },
     "metadata": {},
     "output_type": "display_data"
    },
    {
     "data": {
      "text/html": [],
      "text/plain": [
       "<IPython.core.display.HTML object>"
      ]
     },
     "metadata": {},
     "output_type": "display_data"
    },
    {
     "name": "stdout",
     "output_type": "stream",
     "text": [
      "The company launched with Hudbay Airlines in 1997 to promote Airlines Flight 400 . This was followed by the launch of the Boeing 747 - PLANE . The Boeing 737 - 300 is the first jet airliner to be named for its contemporary\n",
      "\n",
      "The company launched with Richard Miller 's company , The Legend of Saint John , on May 14 , 2003 , in a ceremony held at Boston Place . The company 's dme banner is a British Army logo that is a\n"
     ]
    }
   ],
   "source": [
    "print(gen_sentence(\"The company launched with\"))"
   ]
  },
  {
   "cell_type": "code",
   "execution_count": 8,
   "id": "relevant-cabinet",
   "metadata": {},
   "outputs": [
    {
     "data": {
      "text/html": [
       "<table border=\"1\" class=\"dataframe\">\n",
       "  <thead>\n",
       "    <tr style=\"text-align: left;\">\n",
       "      <th>epoch</th>\n",
       "      <th>train_loss</th>\n",
       "      <th>valid_loss</th>\n",
       "      <th>accuracy</th>\n",
       "      <th>perplexity</th>\n",
       "      <th>time</th>\n",
       "    </tr>\n",
       "  </thead>\n",
       "  <tbody>\n",
       "    <tr>\n",
       "      <td>0</td>\n",
       "      <td>3.520189</td>\n",
       "      <td>3.303543</td>\n",
       "      <td>0.473902</td>\n",
       "      <td>27.208872</td>\n",
       "      <td>01:44</td>\n",
       "    </tr>\n",
       "  </tbody>\n",
       "</table>"
      ],
      "text/plain": [
       "<IPython.core.display.HTML object>"
      ]
     },
     "metadata": {},
     "output_type": "display_data"
    }
   ],
   "source": [
    "learn.fit_one_cycle(1, 8e-2) #0.491\n",
    "#learn.fit(n_epoch=200, lr=2e-3, cbs=EarlyStoppingCallback(monitor='valid_loss', min_delta=0.005, patience=10))"
   ]
  },
  {
   "cell_type": "code",
   "execution_count": 9,
   "id": "empirical-vision",
   "metadata": {},
   "outputs": [],
   "source": [
    "learn.unfreeze()"
   ]
  },
  {
   "cell_type": "code",
   "execution_count": 10,
   "id": "boolean-berkeley",
   "metadata": {},
   "outputs": [
    {
     "data": {
      "text/html": [],
      "text/plain": [
       "<IPython.core.display.HTML object>"
      ]
     },
     "metadata": {},
     "output_type": "display_data"
    },
    {
     "data": {
      "text/plain": [
       "SuggestedLRs(lr_min=0.00043651582673192023, lr_steep=6.309573450380412e-07)"
      ]
     },
     "execution_count": 10,
     "metadata": {},
     "output_type": "execute_result"
    },
    {
     "data": {
      "image/png": "[encoded data removed]",
      "text/plain": [
       "<Figure size 432x288 with 1 Axes>"
      ]
     },
     "metadata": {
      "needs_background": "light"
     },
     "output_type": "display_data"
    }
   ],
   "source": [
    "learn.lr_find() #lr_steep=9.999999747378752e-06"
   ]
  },
  {
   "cell_type": "code",
   "execution_count": 11,
   "id": "patient-start",
   "metadata": {},
   "outputs": [
    {
     "data": {
      "text/html": [
       "<table border=\"1\" class=\"dataframe\">\n",
       "  <thead>\n",
       "    <tr style=\"text-align: left;\">\n",
       "      <th>epoch</th>\n",
       "      <th>train_loss</th>\n",
       "      <th>valid_loss</th>\n",
       "      <th>accuracy</th>\n",
       "      <th>perplexity</th>\n",
       "      <th>time</th>\n",
       "    </tr>\n",
       "  </thead>\n",
       "  <tbody>\n",
       "    <tr>\n",
       "      <td>0</td>\n",
       "      <td>3.201595</td>\n",
       "      <td>3.292750</td>\n",
       "      <td>0.475985</td>\n",
       "      <td>26.916780</td>\n",
       "      <td>01:53</td>\n",
       "    </tr>\n",
       "    <tr>\n",
       "      <td>1</td>\n",
       "      <td>3.165798</td>\n",
       "      <td>3.271569</td>\n",
       "      <td>0.477953</td>\n",
       "      <td>26.352648</td>\n",
       "      <td>01:53</td>\n",
       "    </tr>\n",
       "    <tr>\n",
       "      <td>2</td>\n",
       "      <td>3.139600</td>\n",
       "      <td>3.260097</td>\n",
       "      <td>0.478954</td>\n",
       "      <td>26.052059</td>\n",
       "      <td>01:52</td>\n",
       "    </tr>\n",
       "    <tr>\n",
       "      <td>3</td>\n",
       "      <td>3.147671</td>\n",
       "      <td>3.255927</td>\n",
       "      <td>0.479625</td>\n",
       "      <td>25.943644</td>\n",
       "      <td>01:53</td>\n",
       "    </tr>\n",
       "    <tr>\n",
       "      <td>4</td>\n",
       "      <td>3.142456</td>\n",
       "      <td>3.255156</td>\n",
       "      <td>0.479744</td>\n",
       "      <td>25.923658</td>\n",
       "      <td>02:00</td>\n",
       "    </tr>\n",
       "  </tbody>\n",
       "</table>"
      ],
      "text/plain": [
       "<IPython.core.display.HTML object>"
      ]
     },
     "metadata": {},
     "output_type": "display_data"
    }
   ],
   "source": [
    "learn.fit_one_cycle(5, 1e-5) #0.483\n",
    "learn.freeze()\n",
    "learn.save_encoder('lm_econ')"
   ]
  },
  {
   "cell_type": "code",
   "execution_count": 12,
   "id": "quantitative-replication",
   "metadata": {},
   "outputs": [],
   "source": [
    "#learn.recorder.plot_loss(with_valid = True)"
   ]
  },
  {
   "cell_type": "code",
   "execution_count": 13,
   "id": "adjusted-employment",
   "metadata": {},
   "outputs": [
    {
     "data": {
      "text/html": [],
      "text/plain": [
       "<IPython.core.display.HTML object>"
      ]
     },
     "metadata": {},
     "output_type": "display_data"
    },
    {
     "data": {
      "text/html": [],
      "text/plain": [
       "<IPython.core.display.HTML object>"
      ]
     },
     "metadata": {},
     "output_type": "display_data"
    },
    {
     "name": "stdout",
     "output_type": "stream",
     "text": [
      "The company launched with Seven Summits Research Releases New Report on Trading for First Quarter 2015 Vale Acquires American Resources Inc . , LLC Announces Acquisition of Env Mkt Inc . brief\n",
      "\n",
      "The company launched with Microsoft , Microsoft , Microsoft Smartphone Tracking Russia 's Putin says he should push out Russia Freeport - mcmoran Gold Group Ltd . - Inc . Announces Third Quarter 2015 Results\n"
     ]
    }
   ],
   "source": [
    "print(gen_sentence(\"The company launched with\"))"
   ]
  },
  {
   "cell_type": "markdown",
   "id": "executed-diabetes",
   "metadata": {},
   "source": [
    "#### Finetune language model on train and test data\n",
    "First load our challenge data:"
   ]
  },
  {
   "cell_type": "code",
   "execution_count": 25,
   "id": "other-consciousness",
   "metadata": {},
   "outputs": [
    {
     "data": {
      "text/html": [],
      "text/plain": [
       "<IPython.core.display.HTML object>"
      ]
     },
     "metadata": {},
     "output_type": "display_data"
    },
    {
     "name": "stdout",
     "output_type": "stream",
     "text": [
      "22432\n"
     ]
    }
   ],
   "source": [
    "data_lm = TextDataLoaders.from_df(df_all, is_lm=True, text_vocab = data_econ.vocab, valid_pct = 0.1, text_col='text', label_col=\"sentiment\")\n",
    "print(len(data_lm.vocab)) #"
   ]
  },
  {
   "cell_type": "markdown",
   "id": "single-condition",
   "metadata": {},
   "source": [
    "Then let's extend vocab from pretrained economic LM with our new data:"
   ]
  },
  {
   "cell_type": "code",
   "execution_count": 26,
   "id": "packed-appointment",
   "metadata": {},
   "outputs": [
    {
     "data": {
      "text/plain": [
       "<fastai.text.learner.LMLearner at 0x7fe2e91a9220>"
      ]
     },
     "execution_count": 26,
     "metadata": {},
     "output_type": "execute_result"
    }
   ],
   "source": [
    "learn = language_model_learner(data_lm, AWD_LSTM, drop_mult=0.5, metrics=[accuracy, Perplexity()], wd=0.1).to_fp16()\n",
    "learn.load_encoder('lm_econ')"
   ]
  },
  {
   "cell_type": "code",
   "execution_count": 27,
   "id": "returning-princeton",
   "metadata": {},
   "outputs": [
    {
     "data": {
      "text/html": [],
      "text/plain": [
       "<IPython.core.display.HTML object>"
      ]
     },
     "metadata": {},
     "output_type": "display_data"
    },
    {
     "data": {
      "text/plain": [
       "SuggestedLRs(lr_min=0.05248074531555176, lr_steep=0.04786301031708717)"
      ]
     },
     "execution_count": 27,
     "metadata": {},
     "output_type": "execute_result"
    },
    {
     "data": {
      "image/png": "[encoded data removed]",
      "text/plain": [
       "<Figure size 432x288 with 1 Axes>"
      ]
     },
     "metadata": {
      "needs_background": "light"
     },
     "output_type": "display_data"
    }
   ],
   "source": [
    "#learn.lr_find() #lr_steep=0.0478630"
   ]
  },
  {
   "cell_type": "code",
   "execution_count": 28,
   "id": "competent-community",
   "metadata": {},
   "outputs": [
    {
     "data": {
      "text/html": [
       "<table border=\"1\" class=\"dataframe\">\n",
       "  <thead>\n",
       "    <tr style=\"text-align: left;\">\n",
       "      <th>epoch</th>\n",
       "      <th>train_loss</th>\n",
       "      <th>valid_loss</th>\n",
       "      <th>accuracy</th>\n",
       "      <th>perplexity</th>\n",
       "      <th>time</th>\n",
       "    </tr>\n",
       "  </thead>\n",
       "  <tbody>\n",
       "    <tr>\n",
       "      <td>0</td>\n",
       "      <td>4.213995</td>\n",
       "      <td>3.767261</td>\n",
       "      <td>0.325893</td>\n",
       "      <td>43.261421</td>\n",
       "      <td>00:15</td>\n",
       "    </tr>\n",
       "  </tbody>\n",
       "</table>"
      ],
      "text/plain": [
       "<IPython.core.display.HTML object>"
      ]
     },
     "metadata": {},
     "output_type": "display_data"
    }
   ],
   "source": [
    "learn.fit_one_cycle(1, 4e-2)"
   ]
  },
  {
   "cell_type": "code",
   "execution_count": 29,
   "id": "circular-niagara",
   "metadata": {},
   "outputs": [],
   "source": [
    "learn.unfreeze()"
   ]
  },
  {
   "cell_type": "code",
   "execution_count": 30,
   "id": "coral-logistics",
   "metadata": {},
   "outputs": [
    {
     "data": {
      "text/html": [],
      "text/plain": [
       "<IPython.core.display.HTML object>"
      ]
     },
     "metadata": {},
     "output_type": "display_data"
    },
    {
     "data": {
      "text/plain": [
       "SuggestedLRs(lr_min=0.0005248074419796466, lr_steep=3.981071586167673e-06)"
      ]
     },
     "execution_count": 30,
     "metadata": {},
     "output_type": "execute_result"
    },
    {
     "data": {
      "image/png": "[encoded data removed]",
      "text/plain": [
       "<Figure size 432x288 with 1 Axes>"
      ]
     },
     "metadata": {
      "needs_background": "light"
     },
     "output_type": "display_data"
    }
   ],
   "source": [
    "#learn.lr_find() #lr_steep=3.981071586167673e-06"
   ]
  },
  {
   "cell_type": "code",
   "execution_count": 31,
   "id": "according-shark",
   "metadata": {},
   "outputs": [
    {
     "data": {
      "text/html": [
       "<table border=\"1\" class=\"dataframe\">\n",
       "  <thead>\n",
       "    <tr style=\"text-align: left;\">\n",
       "      <th>epoch</th>\n",
       "      <th>train_loss</th>\n",
       "      <th>valid_loss</th>\n",
       "      <th>accuracy</th>\n",
       "      <th>perplexity</th>\n",
       "      <th>time</th>\n",
       "    </tr>\n",
       "  </thead>\n",
       "  <tbody>\n",
       "    <tr>\n",
       "      <td>0</td>\n",
       "      <td>3.477026</td>\n",
       "      <td>3.502283</td>\n",
       "      <td>0.366474</td>\n",
       "      <td>33.191128</td>\n",
       "      <td>00:15</td>\n",
       "    </tr>\n",
       "  </tbody>\n",
       "</table>"
      ],
      "text/plain": [
       "<IPython.core.display.HTML object>"
      ]
     },
     "metadata": {},
     "output_type": "display_data"
    }
   ],
   "source": [
    "learn.fit_one_cycle(1, 4e-3)"
   ]
  },
  {
   "cell_type": "code",
   "execution_count": 32,
   "id": "incoming-adelaide",
   "metadata": {},
   "outputs": [],
   "source": [
    "learn.freeze()\n",
    "learn.save_encoder('lme_finetuned')"
   ]
  },
  {
   "cell_type": "markdown",
   "id": "developing-cable",
   "metadata": {},
   "source": [
    "#### Check generative performance"
   ]
  },
  {
   "cell_type": "code",
   "execution_count": 33,
   "id": "efficient-jimmy",
   "metadata": {},
   "outputs": [
    {
     "data": {
      "text/html": [],
      "text/plain": [
       "<IPython.core.display.HTML object>"
      ]
     },
     "metadata": {},
     "output_type": "display_data"
    },
    {
     "data": {
      "text/html": [],
      "text/plain": [
       "<IPython.core.display.HTML object>"
      ]
     },
     "metadata": {},
     "output_type": "display_data"
    },
    {
     "name": "stdout",
     "output_type": "stream",
     "text": [
      "The company launched with Incap Contract Manufacturing Services , a division of Outotec , the Finnish Outotec Oyj ( OMX : JPM ) said on April 29 , 2008 that it has signed an agreement with Indian Construction Solutions to\n",
      "\n",
      "The company launched with the St . Petersburg unit , which can be used to comment its financial and operational performance in 2007 . $ aapl this will be a 5 Bears because they are bleeding . Why not . We have a Friday this will be\n"
     ]
    }
   ],
   "source": [
    "print(gen_sentence(\"The company launched with\"))"
   ]
  },
  {
   "cell_type": "markdown",
   "id": "upper-catholic",
   "metadata": {},
   "source": [
    "### Train a Classifier"
   ]
  },
  {
   "cell_type": "code",
   "execution_count": 34,
   "id": "incorrect-mozambique",
   "metadata": {},
   "outputs": [
    {
     "data": {
      "text/html": [],
      "text/plain": [
       "<IPython.core.display.HTML object>"
      ]
     },
     "metadata": {},
     "output_type": "display_data"
    }
   ],
   "source": [
    "data_clas = TextDataLoaders.from_df(df, text_col='text', label_col=\"sentiment\", text_vocab=data_lm.vocab)\n",
    "learn = text_classifier_learner(data_clas, AWD_LSTM, drop_mult=0.5, metrics=accuracy)\n",
    "learn = learn.load_encoder('lme_finetuned') #also 'finetuned'"
   ]
  },
  {
   "cell_type": "code",
   "execution_count": 35,
   "id": "demonstrated-politics",
   "metadata": {},
   "outputs": [],
   "source": [
    "#learn.lr_find() # ~ 2e-2"
   ]
  },
  {
   "cell_type": "markdown",
   "id": "perfect-technology",
   "metadata": {},
   "source": [
    "#### Learning\n",
    "Gradual unfreezing makes a lot of difference!"
   ]
  },
  {
   "cell_type": "code",
   "execution_count": 36,
   "id": "political-relay",
   "metadata": {},
   "outputs": [
    {
     "data": {
      "text/html": [
       "<table border=\"1\" class=\"dataframe\">\n",
       "  <thead>\n",
       "    <tr style=\"text-align: left;\">\n",
       "      <th>epoch</th>\n",
       "      <th>train_loss</th>\n",
       "      <th>valid_loss</th>\n",
       "      <th>accuracy</th>\n",
       "      <th>time</th>\n",
       "    </tr>\n",
       "  </thead>\n",
       "  <tbody>\n",
       "    <tr>\n",
       "      <td>0</td>\n",
       "      <td>0.782227</td>\n",
       "      <td>0.656955</td>\n",
       "      <td>0.712074</td>\n",
       "      <td>00:03</td>\n",
       "    </tr>\n",
       "  </tbody>\n",
       "</table>"
      ],
      "text/plain": [
       "<IPython.core.display.HTML object>"
      ]
     },
     "metadata": {},
     "output_type": "display_data"
    }
   ],
   "source": [
    "learn.fit_one_cycle(1, 2e-2) #3\n",
    "#learn.fit(n_epoch=200, lr=2e-2, cbs=EarlyStoppingCallback(monitor='valid_loss', min_delta=0.01, patience=4))"
   ]
  },
  {
   "cell_type": "code",
   "execution_count": 37,
   "id": "olympic-plant",
   "metadata": {},
   "outputs": [
    {
     "data": {
      "text/html": [
       "<table border=\"1\" class=\"dataframe\">\n",
       "  <thead>\n",
       "    <tr style=\"text-align: left;\">\n",
       "      <th>epoch</th>\n",
       "      <th>train_loss</th>\n",
       "      <th>valid_loss</th>\n",
       "      <th>accuracy</th>\n",
       "      <th>time</th>\n",
       "    </tr>\n",
       "  </thead>\n",
       "  <tbody>\n",
       "    <tr>\n",
       "      <td>0</td>\n",
       "      <td>0.706085</td>\n",
       "      <td>0.624507</td>\n",
       "      <td>0.729618</td>\n",
       "      <td>00:03</td>\n",
       "    </tr>\n",
       "  </tbody>\n",
       "</table>"
      ],
      "text/plain": [
       "<IPython.core.display.HTML object>"
      ]
     },
     "metadata": {},
     "output_type": "display_data"
    }
   ],
   "source": [
    "learn.freeze_to(-2)\n",
    "learn.fit_one_cycle(1, slice(1e-3/(2.6**4),2e-2)) #2"
   ]
  },
  {
   "cell_type": "code",
   "execution_count": 38,
   "id": "technological-resort",
   "metadata": {},
   "outputs": [
    {
     "data": {
      "text/html": [
       "<table border=\"1\" class=\"dataframe\">\n",
       "  <thead>\n",
       "    <tr style=\"text-align: left;\">\n",
       "      <th>epoch</th>\n",
       "      <th>train_loss</th>\n",
       "      <th>valid_loss</th>\n",
       "      <th>accuracy</th>\n",
       "      <th>time</th>\n",
       "    </tr>\n",
       "  </thead>\n",
       "  <tbody>\n",
       "    <tr>\n",
       "      <td>0</td>\n",
       "      <td>0.733726</td>\n",
       "      <td>0.645157</td>\n",
       "      <td>0.716202</td>\n",
       "      <td>00:03</td>\n",
       "    </tr>\n",
       "  </tbody>\n",
       "</table>"
      ],
      "text/plain": [
       "<IPython.core.display.HTML object>"
      ]
     },
     "metadata": {},
     "output_type": "display_data"
    }
   ],
   "source": [
    "learn.freeze_to(-3)\n",
    "learn.fit_one_cycle(1, 2e-2) #2"
   ]
  },
  {
   "cell_type": "code",
   "execution_count": 39,
   "id": "adaptive-disease",
   "metadata": {},
   "outputs": [],
   "source": [
    "#learn.model"
   ]
  },
  {
   "cell_type": "code",
   "execution_count": 40,
   "id": "regional-morocco",
   "metadata": {},
   "outputs": [
    {
     "data": {
      "text/html": [
       "<table border=\"1\" class=\"dataframe\">\n",
       "  <thead>\n",
       "    <tr style=\"text-align: left;\">\n",
       "      <th>epoch</th>\n",
       "      <th>train_loss</th>\n",
       "      <th>valid_loss</th>\n",
       "      <th>accuracy</th>\n",
       "      <th>time</th>\n",
       "    </tr>\n",
       "  </thead>\n",
       "  <tbody>\n",
       "    <tr>\n",
       "      <td>0</td>\n",
       "      <td>0.644127</td>\n",
       "      <td>0.543284</td>\n",
       "      <td>0.787410</td>\n",
       "      <td>00:04</td>\n",
       "    </tr>\n",
       "    <tr>\n",
       "      <td>1</td>\n",
       "      <td>0.567262</td>\n",
       "      <td>0.521177</td>\n",
       "      <td>0.792570</td>\n",
       "      <td>00:04</td>\n",
       "    </tr>\n",
       "  </tbody>\n",
       "</table>"
      ],
      "text/plain": [
       "<IPython.core.display.HTML object>"
      ]
     },
     "metadata": {},
     "output_type": "display_data"
    }
   ],
   "source": [
    "learn.unfreeze()\n",
    "learn.fit_one_cycle(2, slice(1e-3/(2.6**4),2e-2))\n",
    "learn.freeze()"
   ]
  },
  {
   "cell_type": "code",
   "execution_count": 41,
   "id": "robust-subcommittee",
   "metadata": {},
   "outputs": [],
   "source": [
    "learn.save_encoder('lme_finished')"
   ]
  },
  {
   "cell_type": "code",
   "execution_count": 42,
   "id": "outside-universe",
   "metadata": {},
   "outputs": [
    {
     "data": {
      "text/html": [],
      "text/plain": [
       "<IPython.core.display.HTML object>"
      ]
     },
     "metadata": {},
     "output_type": "display_data"
    },
    {
     "name": "stdout",
     "output_type": "stream",
     "text": [
      "Test Set Accuracy:  0.792569637298584\n"
     ]
    }
   ],
   "source": [
    "print(\"Test Set Accuracy: \",learn.validate()[1]) #0.592 #0.757"
   ]
  },
  {
   "cell_type": "code",
   "execution_count": 43,
   "id": "sunrise-passenger",
   "metadata": {},
   "outputs": [
    {
     "data": {
      "text/html": [],
      "text/plain": [
       "<IPython.core.display.HTML object>"
      ]
     },
     "metadata": {},
     "output_type": "display_data"
    },
    {
     "data": {
      "image/png": "[encoded data removed]",
      "text/plain": [
       "<Figure size 504x504 with 1 Axes>"
      ]
     },
     "metadata": {
      "needs_background": "light"
     },
     "output_type": "display_data"
    }
   ],
   "source": [
    "interp = ClassificationInterpretation.from_learner(learn)\n",
    "losses, idxs = interp.top_losses()\n",
    "len(data_clas.valid_ds)==len(losses)==len(idxs)\n",
    "interp.plot_confusion_matrix(figsize=(7,7))"
   ]
  },
  {
   "cell_type": "code",
   "execution_count": 44,
   "id": "royal-falls",
   "metadata": {},
   "outputs": [
    {
     "data": {
      "text/html": [
       "<table border=\"1\" class=\"dataframe\">\n",
       "  <thead>\n",
       "    <tr style=\"text-align: right;\">\n",
       "      <th></th>\n",
       "      <th>input</th>\n",
       "      <th>target</th>\n",
       "      <th>predicted</th>\n",
       "      <th>probability</th>\n",
       "      <th>loss</th>\n",
       "    </tr>\n",
       "  </thead>\n",
       "  <tbody>\n",
       "    <tr>\n",
       "      <th>0</th>\n",
       "      <td>xxbos xxmaj the terms of the financing were approved by the xxmaj annual xxmaj general xxmaj meeting of the xxmaj company held on xxmaj june 30 , 2010 .</td>\n",
       "      <td>positive</td>\n",
       "      <td>neutral</td>\n",
       "      <td>0.974155068397522</td>\n",
       "      <td>5.294873237609863</td>\n",
       "    </tr>\n",
       "    <tr>\n",
       "      <th>1</th>\n",
       "      <td>xxbos xxmaj the announcement comes two weeks before a key licensing agreement xxunk between between the two companies which are xxunk in a xxunk over royalty payments for xxmaj texas xxmaj instrument chips which use xxmaj qualcomm - patented technology .</td>\n",
       "      <td>negative</td>\n",
       "      <td>neutral</td>\n",
       "      <td>0.6869989037513733</td>\n",
       "      <td>4.536609172821045</td>\n",
       "    </tr>\n",
       "    <tr>\n",
       "      <th>2</th>\n",
       "      <td>xxbos xxmaj according to preliminary information by the xxmaj finnish xxmaj forest xxmaj industries xxmaj federation , imports of xxunk to xxmaj finland increased to about 20 million m3 in 2005 , representing an increase of 15 % from 2004 .</td>\n",
       "      <td>neutral</td>\n",
       "      <td>positive</td>\n",
       "      <td>0.9704436659812927</td>\n",
       "      <td>4.507889747619629</td>\n",
       "    </tr>\n",
       "    <tr>\n",
       "      <th>3</th>\n",
       "      <td>xxbos ` ` xxmaj xxunk aims to expand its distribution network xxunk by increasing the number of concept stores and shop - in - shops .</td>\n",
       "      <td>neutral</td>\n",
       "      <td>positive</td>\n",
       "      <td>0.9793353080749512</td>\n",
       "      <td>3.95800518989563</td>\n",
       "    </tr>\n",
       "    <tr>\n",
       "      <th>4</th>\n",
       "      <td>xxbos xxmaj the current reference grade instruments are challenging to operate due to their high price and complexity for routine use .</td>\n",
       "      <td>negative</td>\n",
       "      <td>positive</td>\n",
       "      <td>0.5165815353393555</td>\n",
       "      <td>3.9247372150421143</td>\n",
       "    </tr>\n",
       "    <tr>\n",
       "      <th>5</th>\n",
       "      <td>xxbos ( xxunk ) - xxmaj dec 1 , 2009 - xxmaj finnish xxunk and hand tools maker xxmaj xxunk xxmaj oyj xxmaj xxunk ( xxup xxunk : xxup xxunk ) said today that it will make xxunk a total of 18 office and management staff members of its subsidiary xxmaj xxunk xxmaj group xxmaj ltd . .</td>\n",
       "      <td>negative</td>\n",
       "      <td>neutral</td>\n",
       "      <td>0.8648611307144165</td>\n",
       "      <td>3.783175230026245</td>\n",
       "    </tr>\n",
       "  </tbody>\n",
       "</table>"
      ],
      "text/plain": [
       "<IPython.core.display.HTML object>"
      ]
     },
     "metadata": {},
     "output_type": "display_data"
    }
   ],
   "source": [
    "interp.plot_top_losses(6, heatmap=True)"
   ]
  },
  {
   "cell_type": "markdown",
   "id": "nervous-dakota",
   "metadata": {},
   "source": [
    "### Accuracy on the Test set"
   ]
  },
  {
   "cell_type": "code",
   "execution_count": 45,
   "id": "addressed-directory",
   "metadata": {},
   "outputs": [
    {
     "data": {
      "text/html": [],
      "text/plain": [
       "<IPython.core.display.HTML object>"
      ]
     },
     "metadata": {},
     "output_type": "display_data"
    }
   ],
   "source": [
    "data_test = TextDataLoaders.from_df(df_test, text_col='text', label_col=\"sentiment\", text_vocab=data_lm.vocab)\n",
    "learn_test = text_classifier_learner(data_test, AWD_LSTM, drop_mult=0.5, metrics=accuracy)\n",
    "learn_test = learn_test.load_encoder('lme_finished')"
   ]
  },
  {
   "cell_type": "code",
   "execution_count": 46,
   "id": "middle-pharmacy",
   "metadata": {},
   "outputs": [
    {
     "data": {
      "text/html": [],
      "text/plain": [
       "<IPython.core.display.HTML object>"
      ]
     },
     "metadata": {},
     "output_type": "display_data"
    },
    {
     "name": "stdout",
     "output_type": "stream",
     "text": [
      "Test Set Accuracy:  0.32551318407058716\n"
     ]
    }
   ],
   "source": [
    "print(\"Test Set Accuracy: \",learn_test.validate()[1]) #0.344"
   ]
  },
  {
   "cell_type": "code",
   "execution_count": 47,
   "id": "photographic-impact",
   "metadata": {},
   "outputs": [
    {
     "data": {
      "text/html": [],
      "text/plain": [
       "<IPython.core.display.HTML object>"
      ]
     },
     "metadata": {},
     "output_type": "display_data"
    },
    {
     "data": {
      "image/png": "[encoded data removed]",
      "text/plain": [
       "<Figure size 504x504 with 1 Axes>"
      ]
     },
     "metadata": {
      "needs_background": "light"
     },
     "output_type": "display_data"
    }
   ],
   "source": [
    "interp = ClassificationInterpretation.from_learner(learn_test)\n",
    "losses, idxs = interp.top_losses()\n",
    "len(data_test.valid_ds)==len(losses)==len(idxs)\n",
    "interp.plot_confusion_matrix(figsize=(7,7))"
   ]
  },
  {
   "cell_type": "code",
   "execution_count": 48,
   "id": "departmental-edmonton",
   "metadata": {},
   "outputs": [
    {
     "data": {
      "text/html": [
       "<table border=\"1\" class=\"dataframe\">\n",
       "  <thead>\n",
       "    <tr style=\"text-align: right;\">\n",
       "      <th></th>\n",
       "      <th>input</th>\n",
       "      <th>target</th>\n",
       "      <th>predicted</th>\n",
       "      <th>probability</th>\n",
       "      <th>loss</th>\n",
       "    </tr>\n",
       "  </thead>\n",
       "  <tbody>\n",
       "    <tr>\n",
       "      <th>0</th>\n",
       "      <td>xxbos $ xxunk to understand xxmaj xxunk is to understand that its a very diversified company . to make money on all sides of the xxunk supply xxunk machines , reagents / kits and then factor in all of the service contracts they are building for recurring revenue then add to that mix money from xxup nih and xxunk cancer and other stuff at this market cap is a true growth potential small cap . xxmaj on the podcast some time was xxunk on xxunk and i wonder just how big the potential it can unlock xxunk being able to test lots of stuff with 1 test is something attractive to larger companies xxunk in partnership or licensing xxunk</td>\n",
       "      <td>positive</td>\n",
       "      <td>negative</td>\n",
       "      <td>0.35718974471092224</td>\n",
       "      <td>1.2124881744384766</td>\n",
       "    </tr>\n",
       "    <tr>\n",
       "      <th>1</th>\n",
       "      <td>xxbos $ xxunk strong recovery , great to see . i wonder how the xxunk breakdown has changed the last few weeks . xxup xxunk focused money managers would be mad not to take a position now that the trial is xxunk up</td>\n",
       "      <td>positive</td>\n",
       "      <td>neutral</td>\n",
       "      <td>0.36549851298332214</td>\n",
       "      <td>1.2117012739181519</td>\n",
       "    </tr>\n",
       "    <tr>\n",
       "      <th>2</th>\n",
       "      <td>xxbos $ xxunk institutional ownership in excess of 75 % . xxmaj here is why that matters : xxunk contact with management , they know xxunk xxunk going on xxunk analysis for xxup long term hold ( at least a couple years ) xxunk invest with xxmaj institutions , increased confidence backing stock xxmaj xxunk discount this xxunk detail , there is a reason why itâs so high … …</td>\n",
       "      <td>positive</td>\n",
       "      <td>neutral</td>\n",
       "      <td>0.3565044403076172</td>\n",
       "      <td>1.2114675045013428</td>\n",
       "    </tr>\n",
       "    <tr>\n",
       "      <th>3</th>\n",
       "      <td>xxbos $ spy $ aapl $ xxunk xxmaj everything xxmaj xxunk doing has a reason in order to win the election . xxmaj xxunk xxmaj biden and now planned to get sick so we market hit xxup ath later when he recovers xxunk</td>\n",
       "      <td>positive</td>\n",
       "      <td>neutral</td>\n",
       "      <td>0.36188217997550964</td>\n",
       "      <td>1.2114083766937256</td>\n",
       "    </tr>\n",
       "    <tr>\n",
       "      <th>4</th>\n",
       "      <td>xxbos $ xxrep 3 q $ amd $ xxunk $ xxunk * * started trading with $ xxunk , down to $ xxunk , back up to $ xxunk . xxmaj big thanks to this community xxunk / xxmaj xxunk</td>\n",
       "      <td>positive</td>\n",
       "      <td>neutral</td>\n",
       "      <td>0.3566295802593231</td>\n",
       "      <td>1.210727572441101</td>\n",
       "    </tr>\n",
       "    <tr>\n",
       "      <th>5</th>\n",
       "      <td>xxbos $ xxunk 68 % xxunk , 10.8 % insider ownership , wow . xxmaj recent offering priced at 2.25 . xxmaj good results on a phase 3 xxmaj plans to submit xxup nda to xxup fda early 2021 . xxmaj drug xxunk really a blockbuster but xxunk like a xxunk safe place to watch money grow till after election .</td>\n",
       "      <td>positive</td>\n",
       "      <td>negative</td>\n",
       "      <td>0.35141628980636597</td>\n",
       "      <td>1.209998369216919</td>\n",
       "    </tr>\n",
       "  </tbody>\n",
       "</table>"
      ],
      "text/plain": [
       "<IPython.core.display.HTML object>"
      ]
     },
     "metadata": {},
     "output_type": "display_data"
    }
   ],
   "source": [
    "interp.plot_top_losses(6, heatmap=True)"
   ]
  },
  {
   "cell_type": "code",
   "execution_count": 49,
   "id": "collect-easter",
   "metadata": {},
   "outputs": [
    {
     "data": {
      "text/plain": [
       "22432"
      ]
     },
     "execution_count": 49,
     "metadata": {},
     "output_type": "execute_result"
    }
   ],
   "source": [
    "len(data_test.vocab[0]) #22432"
   ]
  },
  {
   "cell_type": "code",
   "execution_count": null,
   "id": "indonesian-calgary",
   "metadata": {},
   "outputs": [],
   "source": []
  }
 ],
 "metadata": {
  "kernelspec": {
   "display_name": "Python 3",
   "language": "python",
   "name": "python3"
  },
  "language_info": {
   "codemirror_mode": {
    "name": "ipython",
    "version": 3
   },
   "file_extension": ".py",
   "mimetype": "text/x-python",
   "name": "python",
   "nbconvert_exporter": "python",
   "pygments_lexer": "ipython3",
   "version": "3.8.7"
  }
 },
 "nbformat": 4,
 "nbformat_minor": 5
}
