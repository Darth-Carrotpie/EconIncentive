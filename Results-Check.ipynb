{
 "cells": [
  {
   "cell_type": "code",
   "execution_count": 55,
   "id": "corporate-variety",
   "metadata": {},
   "outputs": [],
   "source": [
    "from fastai.text.all import *\n",
    "import pandas as pd\n",
    "cols = [\"sentiment\",\"text\"]\n",
    "df = pd.read_csv(\"data/all-data.csv\", names =cols, encoding = \"ISO-8859-1\")\n",
    "df_test = pd.read_csv(\"data/public-test-set.csv\", names = cols, encoding = \"ISO-8859-1\")"
   ]
  },
  {
   "cell_type": "code",
   "execution_count": 56,
   "id": "regulation-excellence",
   "metadata": {},
   "outputs": [],
   "source": [
    "#helper functions:\n",
    "def gen_sentence(preface_text):\n",
    "    N_WORDS = 50\n",
    "    N_SENTENCES = 2\n",
    "    preds = [learn.predict(preface_text, n_words = N_WORDS, temperature=0.75) \n",
    "             for _ in range(N_SENTENCES)]\n",
    "    return(\"\\n\\n\".join(preds))"
   ]
  },
  {
   "cell_type": "code",
   "execution_count": 57,
   "id": "dense-scheme",
   "metadata": {},
   "outputs": [],
   "source": [
    "np.warnings.filterwarnings('ignore', category=np.VisibleDeprecationWarning) "
   ]
  },
  {
   "cell_type": "markdown",
   "id": "random-ottawa",
   "metadata": {},
   "source": [
    "### Preproc"
   ]
  },
  {
   "cell_type": "code",
   "execution_count": 58,
   "id": "alpine-palestine",
   "metadata": {},
   "outputs": [],
   "source": [
    "def clean_text(in_df):\n",
    "    #Remove words which have numbers in them\n",
    "    in_df['text'] = in_df['text'].str.replace(r'\\w*\\d\\w*', '')\n",
    "    #Remove words which have special characters, except newline, space\n",
    "    in_df['text'] = in_df['text'].str.replace(r'\\w*[\\$\\#\\&\\@\\~\\*\\%\\;\\/]\\w*', '')"
   ]
  },
  {
   "cell_type": "code",
   "execution_count": 59,
   "id": "improving-aruba",
   "metadata": {},
   "outputs": [],
   "source": [
    "df['is_valid'] = False\n",
    "df_test['is_valid'] = True\n",
    "df_all = pd.concat([df, df_test])"
   ]
  },
  {
   "cell_type": "code",
   "execution_count": 60,
   "id": "fatal-grounds",
   "metadata": {},
   "outputs": [
    {
     "name": "stderr",
     "output_type": "stream",
     "text": [
      "<ipython-input-58-758c5916f40e>:3: FutureWarning: The default value of regex will change from True to False in a future version.\n",
      "  in_df['text'] = in_df['text'].str.replace(r'\\w*\\d\\w*', '')\n",
      "<ipython-input-58-758c5916f40e>:5: FutureWarning: The default value of regex will change from True to False in a future version.\n",
      "  in_df['text'] = in_df['text'].str.replace(r'\\w*[\\$\\#\\&\\@\\~\\*\\%\\;\\/]\\w*', '')\n"
     ]
    }
   ],
   "source": [
    "clean_text(df_test)\n",
    "clean_text(df)\n",
    "clean_text(df_all)"
   ]
  },
  {
   "cell_type": "markdown",
   "id": "biblical-citizenship",
   "metadata": {},
   "source": [
    "### Results\n",
    "#### Train set results"
   ]
  },
  {
   "cell_type": "code",
   "execution_count": 73,
   "id": "black-reference",
   "metadata": {},
   "outputs": [
    {
     "data": {
      "text/html": [],
      "text/plain": [
       "<IPython.core.display.HTML object>"
      ]
     },
     "metadata": {},
     "output_type": "display_data"
    },
    {
     "ename": "RuntimeError",
     "evalue": "Error(s) in loading state_dict for SequentialRNN:\n\tMissing key(s) in state_dict: \"0.encoder.weight\", \"0.encoder_dp.emb.weight\", \"0.rnns.0.weight_hh_l0_raw\", \"0.rnns.0.module.weight_ih_l0\", \"0.rnns.0.module.bias_ih_l0\", \"0.rnns.0.module.bias_hh_l0\", \"0.rnns.1.weight_hh_l0_raw\", \"0.rnns.1.module.weight_ih_l0\", \"0.rnns.1.module.bias_ih_l0\", \"0.rnns.1.module.bias_hh_l0\", \"0.rnns.2.weight_hh_l0_raw\", \"0.rnns.2.module.weight_ih_l0\", \"0.rnns.2.module.bias_ih_l0\", \"0.rnns.2.module.bias_hh_l0\", \"1.decoder.weight\", \"1.decoder.bias\". \n\tUnexpected key(s) in state_dict: \"encoder.weight\", \"encoder_dp.emb.weight\", \"rnns.0.weight_hh_l0_raw\", \"rnns.0.module.weight_ih_l0\", \"rnns.0.module.bias_ih_l0\", \"rnns.0.module.bias_hh_l0\", \"rnns.1.weight_hh_l0_raw\", \"rnns.1.module.weight_ih_l0\", \"rnns.1.module.bias_ih_l0\", \"rnns.1.module.bias_hh_l0\", \"rnns.2.weight_hh_l0_raw\", \"rnns.2.module.weight_ih_l0\", \"rnns.2.module.bias_ih_l0\", \"rnns.2.module.bias_hh_l0\". ",
     "output_type": "error",
     "traceback": [
      "\u001b[0;31m---------------------------------------------------------------------------\u001b[0m",
      "\u001b[0;31mRuntimeError\u001b[0m                              Traceback (most recent call last)",
      "\u001b[0;32m<ipython-input-73-c068bc420c0e>\u001b[0m in \u001b[0;36m<module>\u001b[0;34m\u001b[0m\n\u001b[1;32m      1\u001b[0m \u001b[0mdls_lm\u001b[0m \u001b[0;34m=\u001b[0m \u001b[0mTextDataLoaders\u001b[0m\u001b[0;34m.\u001b[0m\u001b[0mfrom_df\u001b[0m\u001b[0;34m(\u001b[0m\u001b[0mdf_all\u001b[0m\u001b[0;34m,\u001b[0m \u001b[0mis_lm\u001b[0m\u001b[0;34m=\u001b[0m\u001b[0;32mTrue\u001b[0m\u001b[0;34m,\u001b[0m \u001b[0mvalid_pct\u001b[0m\u001b[0;34m=\u001b[0m\u001b[0;36m0.1\u001b[0m\u001b[0;34m,\u001b[0m \u001b[0mtext_col\u001b[0m\u001b[0;34m=\u001b[0m\u001b[0;34m'text'\u001b[0m\u001b[0;34m)\u001b[0m\u001b[0;34m\u001b[0m\u001b[0;34m\u001b[0m\u001b[0m\n\u001b[1;32m      2\u001b[0m \u001b[0mlearn_lm\u001b[0m \u001b[0;34m=\u001b[0m \u001b[0mlanguage_model_learner\u001b[0m\u001b[0;34m(\u001b[0m\u001b[0mdls_lm\u001b[0m\u001b[0;34m,\u001b[0m \u001b[0mAWD_LSTM\u001b[0m\u001b[0;34m,\u001b[0m \u001b[0mmetrics\u001b[0m\u001b[0;34m=\u001b[0m\u001b[0;34m[\u001b[0m\u001b[0maccuracy\u001b[0m\u001b[0;34m,\u001b[0m \u001b[0mPerplexity\u001b[0m\u001b[0;34m(\u001b[0m\u001b[0;34m)\u001b[0m\u001b[0;34m]\u001b[0m\u001b[0;34m,\u001b[0m \u001b[0mwd\u001b[0m\u001b[0;34m=\u001b[0m\u001b[0;36m0.1\u001b[0m\u001b[0;34m)\u001b[0m\u001b[0;34m.\u001b[0m\u001b[0mto_fp16\u001b[0m\u001b[0;34m(\u001b[0m\u001b[0;34m)\u001b[0m\u001b[0;34m\u001b[0m\u001b[0;34m\u001b[0m\u001b[0m\n\u001b[0;32m----> 3\u001b[0;31m \u001b[0mlearn_lm\u001b[0m\u001b[0;34m.\u001b[0m\u001b[0mload\u001b[0m\u001b[0;34m(\u001b[0m\u001b[0;34m'min_finetuned'\u001b[0m\u001b[0;34m)\u001b[0m\u001b[0;34m\u001b[0m\u001b[0;34m\u001b[0m\u001b[0m\n\u001b[0m",
      "\u001b[0;32m/usr/local/lib/python3.8/site-packages/fastai/text/learner.py\u001b[0m in \u001b[0;36mload\u001b[0;34m(self, file, with_opt, device, **kwargs)\u001b[0m\n\u001b[1;32m    125\u001b[0m         \u001b[0;32mif\u001b[0m \u001b[0mself\u001b[0m\u001b[0;34m.\u001b[0m\u001b[0mopt\u001b[0m \u001b[0;32mis\u001b[0m \u001b[0;32mNone\u001b[0m\u001b[0;34m:\u001b[0m \u001b[0mself\u001b[0m\u001b[0;34m.\u001b[0m\u001b[0mcreate_opt\u001b[0m\u001b[0;34m(\u001b[0m\u001b[0;34m)\u001b[0m\u001b[0;34m\u001b[0m\u001b[0;34m\u001b[0m\u001b[0m\n\u001b[1;32m    126\u001b[0m         \u001b[0mfile\u001b[0m \u001b[0;34m=\u001b[0m \u001b[0mjoin_path_file\u001b[0m\u001b[0;34m(\u001b[0m\u001b[0mfile\u001b[0m\u001b[0;34m,\u001b[0m \u001b[0mself\u001b[0m\u001b[0;34m.\u001b[0m\u001b[0mpath\u001b[0m\u001b[0;34m/\u001b[0m\u001b[0mself\u001b[0m\u001b[0;34m.\u001b[0m\u001b[0mmodel_dir\u001b[0m\u001b[0;34m,\u001b[0m \u001b[0mext\u001b[0m\u001b[0;34m=\u001b[0m\u001b[0;34m'.pth'\u001b[0m\u001b[0;34m)\u001b[0m\u001b[0;34m\u001b[0m\u001b[0;34m\u001b[0m\u001b[0m\n\u001b[0;32m--> 127\u001b[0;31m         \u001b[0mload_model_text\u001b[0m\u001b[0;34m(\u001b[0m\u001b[0mfile\u001b[0m\u001b[0;34m,\u001b[0m \u001b[0mself\u001b[0m\u001b[0;34m.\u001b[0m\u001b[0mmodel\u001b[0m\u001b[0;34m,\u001b[0m \u001b[0mself\u001b[0m\u001b[0;34m.\u001b[0m\u001b[0mopt\u001b[0m\u001b[0;34m,\u001b[0m \u001b[0mdevice\u001b[0m\u001b[0;34m=\u001b[0m\u001b[0mdevice\u001b[0m\u001b[0;34m,\u001b[0m \u001b[0;34m**\u001b[0m\u001b[0mkwargs\u001b[0m\u001b[0;34m)\u001b[0m\u001b[0;34m\u001b[0m\u001b[0;34m\u001b[0m\u001b[0m\n\u001b[0m\u001b[1;32m    128\u001b[0m         \u001b[0;32mreturn\u001b[0m \u001b[0mself\u001b[0m\u001b[0;34m\u001b[0m\u001b[0;34m\u001b[0m\u001b[0m\n\u001b[1;32m    129\u001b[0m \u001b[0;34m\u001b[0m\u001b[0m\n",
      "\u001b[0;32m/usr/local/lib/python3.8/site-packages/fastai/text/learner.py\u001b[0m in \u001b[0;36mload_model_text\u001b[0;34m(file, model, opt, with_opt, device, strict)\u001b[0m\n\u001b[1;32m     74\u001b[0m     \u001b[0mhasopt\u001b[0m \u001b[0;34m=\u001b[0m \u001b[0mset\u001b[0m\u001b[0;34m(\u001b[0m\u001b[0mstate\u001b[0m\u001b[0;34m)\u001b[0m\u001b[0;34m==\u001b[0m\u001b[0;34m{\u001b[0m\u001b[0;34m'model'\u001b[0m\u001b[0;34m,\u001b[0m \u001b[0;34m'opt'\u001b[0m\u001b[0;34m}\u001b[0m\u001b[0;34m\u001b[0m\u001b[0;34m\u001b[0m\u001b[0m\n\u001b[1;32m     75\u001b[0m     \u001b[0mmodel_state\u001b[0m \u001b[0;34m=\u001b[0m \u001b[0mstate\u001b[0m\u001b[0;34m[\u001b[0m\u001b[0;34m'model'\u001b[0m\u001b[0;34m]\u001b[0m \u001b[0;32mif\u001b[0m \u001b[0mhasopt\u001b[0m \u001b[0;32melse\u001b[0m \u001b[0mstate\u001b[0m\u001b[0;34m\u001b[0m\u001b[0;34m\u001b[0m\u001b[0m\n\u001b[0;32m---> 76\u001b[0;31m     \u001b[0mget_model\u001b[0m\u001b[0;34m(\u001b[0m\u001b[0mmodel\u001b[0m\u001b[0;34m)\u001b[0m\u001b[0;34m.\u001b[0m\u001b[0mload_state_dict\u001b[0m\u001b[0;34m(\u001b[0m\u001b[0mclean_raw_keys\u001b[0m\u001b[0;34m(\u001b[0m\u001b[0mmodel_state\u001b[0m\u001b[0;34m)\u001b[0m\u001b[0;34m,\u001b[0m \u001b[0mstrict\u001b[0m\u001b[0;34m=\u001b[0m\u001b[0mstrict\u001b[0m\u001b[0;34m)\u001b[0m\u001b[0;34m\u001b[0m\u001b[0;34m\u001b[0m\u001b[0m\n\u001b[0m\u001b[1;32m     77\u001b[0m     \u001b[0;32mif\u001b[0m \u001b[0mhasopt\u001b[0m \u001b[0;32mand\u001b[0m \u001b[0mifnone\u001b[0m\u001b[0;34m(\u001b[0m\u001b[0mwith_opt\u001b[0m\u001b[0;34m,\u001b[0m\u001b[0;32mTrue\u001b[0m\u001b[0;34m)\u001b[0m\u001b[0;34m:\u001b[0m\u001b[0;34m\u001b[0m\u001b[0;34m\u001b[0m\u001b[0m\n\u001b[1;32m     78\u001b[0m         \u001b[0;32mtry\u001b[0m\u001b[0;34m:\u001b[0m \u001b[0mopt\u001b[0m\u001b[0;34m.\u001b[0m\u001b[0mload_state_dict\u001b[0m\u001b[0;34m(\u001b[0m\u001b[0mstate\u001b[0m\u001b[0;34m[\u001b[0m\u001b[0;34m'opt'\u001b[0m\u001b[0;34m]\u001b[0m\u001b[0;34m)\u001b[0m\u001b[0;34m\u001b[0m\u001b[0;34m\u001b[0m\u001b[0m\n",
      "\u001b[0;32m/usr/local/lib/python3.8/site-packages/torch/nn/modules/module.py\u001b[0m in \u001b[0;36mload_state_dict\u001b[0;34m(self, state_dict, strict)\u001b[0m\n\u001b[1;32m   1049\u001b[0m \u001b[0;34m\u001b[0m\u001b[0m\n\u001b[1;32m   1050\u001b[0m         \u001b[0;32mif\u001b[0m \u001b[0mlen\u001b[0m\u001b[0;34m(\u001b[0m\u001b[0merror_msgs\u001b[0m\u001b[0;34m)\u001b[0m \u001b[0;34m>\u001b[0m \u001b[0;36m0\u001b[0m\u001b[0;34m:\u001b[0m\u001b[0;34m\u001b[0m\u001b[0;34m\u001b[0m\u001b[0m\n\u001b[0;32m-> 1051\u001b[0;31m             raise RuntimeError('Error(s) in loading state_dict for {}:\\n\\t{}'.format(\n\u001b[0m\u001b[1;32m   1052\u001b[0m                                self.__class__.__name__, \"\\n\\t\".join(error_msgs)))\n\u001b[1;32m   1053\u001b[0m         \u001b[0;32mreturn\u001b[0m \u001b[0m_IncompatibleKeys\u001b[0m\u001b[0;34m(\u001b[0m\u001b[0mmissing_keys\u001b[0m\u001b[0;34m,\u001b[0m \u001b[0munexpected_keys\u001b[0m\u001b[0;34m)\u001b[0m\u001b[0;34m\u001b[0m\u001b[0;34m\u001b[0m\u001b[0m\n",
      "\u001b[0;31mRuntimeError\u001b[0m: Error(s) in loading state_dict for SequentialRNN:\n\tMissing key(s) in state_dict: \"0.encoder.weight\", \"0.encoder_dp.emb.weight\", \"0.rnns.0.weight_hh_l0_raw\", \"0.rnns.0.module.weight_ih_l0\", \"0.rnns.0.module.bias_ih_l0\", \"0.rnns.0.module.bias_hh_l0\", \"0.rnns.1.weight_hh_l0_raw\", \"0.rnns.1.module.weight_ih_l0\", \"0.rnns.1.module.bias_ih_l0\", \"0.rnns.1.module.bias_hh_l0\", \"0.rnns.2.weight_hh_l0_raw\", \"0.rnns.2.module.weight_ih_l0\", \"0.rnns.2.module.bias_ih_l0\", \"0.rnns.2.module.bias_hh_l0\", \"1.decoder.weight\", \"1.decoder.bias\". \n\tUnexpected key(s) in state_dict: \"encoder.weight\", \"encoder_dp.emb.weight\", \"rnns.0.weight_hh_l0_raw\", \"rnns.0.module.weight_ih_l0\", \"rnns.0.module.bias_ih_l0\", \"rnns.0.module.bias_hh_l0\", \"rnns.1.weight_hh_l0_raw\", \"rnns.1.module.weight_ih_l0\", \"rnns.1.module.bias_ih_l0\", \"rnns.1.module.bias_hh_l0\", \"rnns.2.weight_hh_l0_raw\", \"rnns.2.module.weight_ih_l0\", \"rnns.2.module.bias_ih_l0\", \"rnns.2.module.bias_hh_l0\". "
     ]
    }
   ],
   "source": [
    "dls_lm = TextDataLoaders.from_df(df_all, is_lm=True, valid_pct=0.1, text_col='text')\n",
    "learn_lm = language_model_learner(dls_lm, AWD_LSTM, metrics=[accuracy, Perplexity()], wd=0.1).to_fp16()\n",
    "learn_lm.load_encoder('min_finetuned_enc')"
   ]
  },
  {
   "cell_type": "code",
   "execution_count": 62,
   "id": "recreational-seven",
   "metadata": {},
   "outputs": [
    {
     "data": {
      "text/html": [],
      "text/plain": [
       "<IPython.core.display.HTML object>"
      ]
     },
     "metadata": {},
     "output_type": "display_data"
    }
   ],
   "source": [
    "dls_clas = TextDataLoaders.from_df(df_all, valid_pct=0.4, text_col='text', label_col=\"sentiment\")#, text_vocab=dls_lm.vocab)\n",
    "learn = text_classifier_learner(dls_clas, AWD_LSTM, drop_mult=0.5, metrics=accuracy)"
   ]
  },
  {
   "cell_type": "code",
   "execution_count": 63,
   "id": "adolescent-steps",
   "metadata": {},
   "outputs": [],
   "source": [
    "def get_train_accuracy(modelName):\n",
    "    return \"Test Set Accuracy: \",learn.load_encoder(modelName).validate()[1]"
   ]
  },
  {
   "cell_type": "code",
   "execution_count": 64,
   "id": "fitted-multimedia",
   "metadata": {},
   "outputs": [
    {
     "data": {
      "text/html": [],
      "text/plain": [
       "<IPython.core.display.HTML object>"
      ]
     },
     "metadata": {},
     "output_type": "display_data"
    },
    {
     "name": "stdout",
     "output_type": "stream",
     "text": [
      "Minimal:  ('Test Set Accuracy: ', 0.31668758392333984)\n"
     ]
    }
   ],
   "source": [
    "print(\"Minimal: \",get_train_accuracy(\"min_finished\")) #0.712"
   ]
  },
  {
   "cell_type": "markdown",
   "id": "distinct-hammer",
   "metadata": {},
   "source": [
    "#### Best confusion matrix"
   ]
  },
  {
   "cell_type": "code",
   "execution_count": 65,
   "id": "major-operation",
   "metadata": {},
   "outputs": [],
   "source": [
    "def draw_conf(learn):\n",
    "    interp = ClassificationInterpretation.from_learner(learn)\n",
    "    losses, idxs = interp.top_losses()\n",
    "    len(dls_clas.valid_ds)==len(losses)==len(idxs)\n",
    "    interp.plot_confusion_matrix(figsize=(7,7))"
   ]
  },
  {
   "cell_type": "code",
   "execution_count": 66,
   "id": "forced-literature",
   "metadata": {},
   "outputs": [
    {
     "data": {
      "text/html": [],
      "text/plain": [
       "<IPython.core.display.HTML object>"
      ]
     },
     "metadata": {},
     "output_type": "display_data"
    },
    {
     "data": {
      "image/png": "[encoded data removed]",
      "text/plain": [
       "<Figure size 504x504 with 1 Axes>"
      ]
     },
     "metadata": {
      "needs_background": "light"
     },
     "output_type": "display_data"
    }
   ],
   "source": [
    "draw_conf(learn.load_encoder(\"min_finished\"))"
   ]
  },
  {
   "cell_type": "markdown",
   "id": "champion-interval",
   "metadata": {},
   "source": [
    "#### Test set results"
   ]
  },
  {
   "cell_type": "code",
   "execution_count": 67,
   "id": "funny-wireless",
   "metadata": {},
   "outputs": [],
   "source": [
    "def my_accuracy(y_pred, y_true):\n",
    "    equ = [1 if i == t else 0 for i, t in zip(y_pred, y_true)]\n",
    "    return np.mean(equ)"
   ]
  },
  {
   "cell_type": "code",
   "execution_count": 68,
   "id": "operational-jamaica",
   "metadata": {},
   "outputs": [],
   "source": [
    "def get_train_accuracy(modelName):\n",
    "    learner = learn.load_encoder(modelName)\n",
    "    dl_test = learner.dls.test_dl(df_test, with_labels=True, drop_last=False)\n",
    "    preds = learner.get_preds(dl=dl_test, with_decoded=True)\n",
    "    predictions = preds[2]\n",
    "    targets = preds[1]\n",
    "    return my_accuracy(predictions, targets)"
   ]
  },
  {
   "cell_type": "code",
   "execution_count": 69,
   "id": "motivated-characterization",
   "metadata": {},
   "outputs": [
    {
     "data": {
      "text/html": [],
      "text/plain": [
       "<IPython.core.display.HTML object>"
      ]
     },
     "metadata": {},
     "output_type": "display_data"
    },
    {
     "name": "stdout",
     "output_type": "stream",
     "text": [
      "Test Set Accuracy - 'Minimal':  0.305978898007034\n"
     ]
    }
   ],
   "source": [
    "print(\"Test Set Accuracy - 'Minimal': \", get_train_accuracy('min_finished')) #0.723"
   ]
  },
  {
   "cell_type": "code",
   "execution_count": null,
   "id": "ranging-multiple",
   "metadata": {},
   "outputs": [],
   "source": []
  },
  {
   "cell_type": "code",
   "execution_count": 70,
   "id": "green-litigation",
   "metadata": {},
   "outputs": [],
   "source": [
    "#from sklearn.metrics import confusion_matrix\n",
    "#confusion_matrix(targets, predictions)"
   ]
  },
  {
   "cell_type": "code",
   "execution_count": 71,
   "id": "bound-saskatchewan",
   "metadata": {},
   "outputs": [],
   "source": [
    "#Tried cleaning up data: via function clean_text, didn't improve a thing :("
   ]
  },
  {
   "cell_type": "code",
   "execution_count": 72,
   "id": "romance-yemen",
   "metadata": {},
   "outputs": [],
   "source": [
    "#>>Done>> #Try other model instead of AWD_LSTM > AWD_QRNN. Didnt work. Pytorch error, too complicated fix.: https://forums.fast.ai/t/cant-import-qrnn-or-qrnnlayer/45072/7\n",
    "#>>Done>> #Try make test set as validation set in classifier.\n",
    "#>>DONE>> Conclusion: Use test as valid. #See test accuracy change, after proper acc calc now, afte rreverting previous step\n",
    "#>>DONE>> check the other dataset for LM, not Reuters titles but perhaps better data for LM there\n",
    "#>>DONE>> #Bloomberg better. But data needs stripping down:\n",
    "#>>DONE>> #-first rows untill www.bloomberg.com\n",
    "#>>DONE>> #-last trows from . \"To contact the reporters\" or/and \"NOTE 1:\"\n",
    "#>>DONE>> #Split classifier and language model into separate notebooks\n",
    "#Try without cleaning\n",
    "#Run the same cleaner preproccessing functions in LM as in train/test data for classifiers.\n",
    "#Add preproccesing / cleaner functions into the pipeline?"
   ]
  }
 ],
 "metadata": {
  "kernelspec": {
   "display_name": "Python 3",
   "language": "python",
   "name": "python3"
  },
  "language_info": {
   "codemirror_mode": {
    "name": "ipython",
    "version": 3
   },
   "file_extension": ".py",
   "mimetype": "text/x-python",
   "name": "python",
   "nbconvert_exporter": "python",
   "pygments_lexer": "ipython3",
   "version": "3.8.7"
  }
 },
 "nbformat": 4,
 "nbformat_minor": 5
}
